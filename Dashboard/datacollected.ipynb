{
 "cells": [
  {
   "cell_type": "code",
   "execution_count": null,
   "metadata": {},
   "outputs": [],
   "source": [
    "#import libraries used into\n",
    "from datetime import datetime, timedelta\n",
    "import pandas as pd, numpy as np, os"
   ]
  },
  {
   "cell_type": "code",
   "execution_count": null,
   "metadata": {},
   "outputs": [],
   "source": [
    "##First, the vars was created\n",
    "fileam = \"OT \" + datetime.now().strftime('%d.%m.%Y') + \".XLSX\"\n",
    "print(\"fileam: \", fileam)\n",
    "if datetime.today().strftime('%A') == \"Monday\":\n",
    "    fileyest = \"OT \" + (datetime.today() - timedelta(days = 3)).strftime('%d.%m.%Y' + \".XLSX\")\n",
    "    print(\"fileyest: \", fileyest)\n",
    "else:\n",
    "    fileyest = \"OT \" + (datetime.today() - timedelta(days = 1)).strftime('%d.%m.%Y' + \".XLSX\")\n",
    "    print(\"fileyest: \", fileyest)\n",
    "filepm = \"OT \" + datetime.now().strftime('%d.%m.%Y') + \" 5 P.M..XLSX\"\n",
    "print(\"filepm: \", filepm)\n",
    "file3pm = \"OT \" + datetime.now().strftime('%d.%m.%Y') + \" 3 P.M..XLSX\"\n",
    "print(\"file3pm: \", file3pm)\n",
    "main_path = \"C:\\\\Users\\\\mruiz\\\\Documents\\\\DB OT\\\\\" \n",
    "current_path = \"C:\\\\Users\\\\mruiz\\\\Documents\\\\DB OT\\\\CurrentDocuments\"\n",
    "current_month = datetime.now().strftime('%B')\n",
    "current_path_ = os.listdir(current_path)\n",
    "main_path_ = os.listdir(main_path)\n",
    "data_yesterday_excel = {}\n",
    "data_am_excel = {}\n",
    "data_3pm_excel = {}\n",
    "data_pm_excel = {}\n",
    "repro_nuevas = 1"
   ]
  },
  {
   "cell_type": "markdown",
   "metadata": {},
   "source": [
    "PRUEBAS"
   ]
  },
  {
   "cell_type": "markdown",
   "metadata": {},
   "source": [
    "Fin de las pruebas"
   ]
  },
  {
   "cell_type": "code",
   "execution_count": null,
   "metadata": {},
   "outputs": [],
   "source": [
    "def get_data(entry_data):\n",
    "    file = main_path + entry_data\n",
    "    filexcel = pd.read_excel(file,sheet_name=\"Sheet1\")\n",
    "    print(\"Los datos del archivo \", entry_data, \" fueron procesados\")\n",
    "    return filexcel"
   ]
  },
  {
   "cell_type": "code",
   "execution_count": null,
   "metadata": {},
   "outputs": [],
   "source": [
    "while True:\n",
    "    try:\n",
    "        data_yesterday_excel = get_data(fileyest)\n",
    "        data_am_excel = get_data(fileam)\n",
    "        break\n",
    "    except FileNotFoundError:\n",
    "        print(\"Hay al menos un archivo que no fue leído: \")\n",
    "        print(\"Archivo Ayer : \", type(data_yesterday_excel))\n",
    "        print(\"Archivo hoy por la mañana: \", type(data_am_excel))\n",
    "        break"
   ]
  },
  {
   "cell_type": "code",
   "execution_count": null,
   "metadata": {},
   "outputs": [],
   "source": [
    "if type(data_am_excel) == type(data_yesterday_excel):\n",
    "    programa = data_am_excel\n",
    "    print(\"Los datos de la mañana fueron seleccionados\")\n",
    "else :\n",
    "    print(\"Error\")"
   ]
  },
  {
   "cell_type": "code",
   "execution_count": null,
   "metadata": {},
   "outputs": [],
   "source": [
    "data2 =current_path + \"\\\\Master_OT.xlsx\"\n",
    "nombres = pd.read_excel(data2, sheet_name=\"Names\", header=0)"
   ]
  },
  {
   "cell_type": "code",
   "execution_count": null,
   "metadata": {},
   "outputs": [],
   "source": [
    "data3 = current_path + \"\\\\Politicas.XLSX\"\n",
    "politicas = pd.read_excel(data3, sheet_name=\"POLITICAS CONTRATO\", header=0)"
   ]
  },
  {
   "cell_type": "code",
   "execution_count": null,
   "metadata": {},
   "outputs": [],
   "source": [
    "data4 = current_path + \"\\\\Materiales_Locales.xlsx\"\n",
    "mlocal = pd.read_excel(data4, sheet_name=\"ENTREGADO\", header=0)"
   ]
  },
  {
   "cell_type": "code",
   "execution_count": null,
   "metadata": {},
   "outputs": [],
   "source": [
    "data5 = current_path + \"\\\\Materiales_Foraneos.xlsx\"\n",
    "mforaneo = pd.read_excel(data5, sheet_name=\"MATRIZ FINAL\", header=1)"
   ]
  },
  {
   "cell_type": "code",
   "execution_count": null,
   "metadata": {},
   "outputs": [],
   "source": [
    "data6 = current_path + \"\\\\Notificadas_Mensual.xlsx\"\n",
    "reportes = pd.read_excel(data6, sheet_name=\"CONTROL_REMASTERED\", header=0)"
   ]
  },
  {
   "cell_type": "code",
   "execution_count": null,
   "metadata": {},
   "outputs": [],
   "source": [
    "data7 = current_path + \"\\\\Ubicaciones_Equipos.xlsx\"\n",
    "ubicaciones = pd.read_excel(data7, sheet_name=\"Sheet1\", header=0)"
   ]
  },
  {
   "cell_type": "code",
   "execution_count": null,
   "metadata": {},
   "outputs": [],
   "source": [
    "data8 = current_path + \"\\\\Reprogramaciones.xlsx\"\n",
    "reprogramaciones_ = pd.read_excel(data8, sheet_name=\"DB\", header=0)"
   ]
  },
  {
   "cell_type": "code",
   "execution_count": null,
   "metadata": {},
   "outputs": [],
   "source": [
    "reprogramaciones = data_yesterday_excel.copy()"
   ]
  },
  {
   "cell_type": "code",
   "execution_count": null,
   "metadata": {},
   "outputs": [],
   "source": [
    "reprogramaciones.rename(columns={'Inicio programado':'Fecha_reprogramada'}, inplace=True)"
   ]
  },
  {
   "cell_type": "code",
   "execution_count": null,
   "metadata": {},
   "outputs": [],
   "source": [
    "programa['Material'] = np.where((programa['Clase de orden'] == 'ZMCP') &  (programa['Texto breve'].str.contains('Emer|Revi', case=False)), 'NO',\n",
    "np.where(programa['Clase de orden'] == 'ZPM2','SI',\n",
    "np.where(programa['Clase de orden'] == 'ZMCP','SI',\n",
    "np.where(programa['Clase de orden'] == 'ZMCI', 'SI',\n",
    "np.where((programa['Clase de orden'] == 'ZPM1') &  (programa['Texto breve'].str.contains('CAFA|CABAT|ACUM', case=False)), 'SI','NO')))))"
   ]
  },
  {
   "cell_type": "code",
   "execution_count": null,
   "metadata": {},
   "outputs": [],
   "source": [
    "#print('Las columnas de frame 1 son', programa.info())\n",
    "#print('Las columnas de frame 2 son', nombres.columns)\n",
    "#print('Las columnas de frame 3 son', politicas.columns)\n",
    "#print('Las columnas de frame 4 son', mlocal.columns)\n",
    "#print('Las columnas de frame 5 son', mforaneo.columns)\n",
    "#print('Las columnas de reprogramaciones son ',reprogramaciones)\n",
    "#print('Las columnas de frame 6 son', reportes.columns)\n",
    "#print('Las columnas de frame 7 son', ubicaciones.columns)\n",
    "#print('Las columnas de frame main son', result_df.columns)"
   ]
  },
  {
   "cell_type": "code",
   "execution_count": null,
   "metadata": {},
   "outputs": [],
   "source": [
    "reportes['Inicio programado'] = reportes['Inicio programado'].str.replace(\"-\",\"/\")\n",
    "reportes['Inicio programado'] = pd.to_datetime(reportes['Inicio programado'], format = \"%d/%m/%Y\", exact=False)\n",
    "print(reportes['Inicio programado'].dtype)"
   ]
  },
  {
   "cell_type": "code",
   "execution_count": null,
   "metadata": {},
   "outputs": [],
   "source": [
    "result_df = pd.merge(programa,reportes,on=['Inicio programado','Orden','Pto.tbjo.responsable','Cliente','Denominación de objeto técnico',\n",
    "'Número de serie','Equipo','Clase de orden'],how=\"outer\")"
   ]
  },
  {
   "cell_type": "code",
   "execution_count": null,
   "metadata": {},
   "outputs": [],
   "source": [
    "result_df = pd.merge(left = result_df, right = nombres[['TecID','Short name','Estatus','City']],left_on=\"Pto.tbjo.responsable\",right_on=\"TecID\",how=\"left\")"
   ]
  },
  {
   "cell_type": "code",
   "execution_count": null,
   "metadata": {},
   "outputs": [],
   "source": [
    "result_df = pd.merge(result_df,mlocal[['Orden', 'Inicio programado2', 'Fecha de salida',\n",
    "       'Comentario', 'Material Separado']], on=['Orden'],how= \"left\")"
   ]
  },
  {
   "cell_type": "code",
   "execution_count": null,
   "metadata": {},
   "outputs": [],
   "source": [
    "result_df = pd.merge(result_df,mforaneo[['Orden','UBICACIÓN', 'ESTATUS COMPRA', 'PROVEEDOR']],on='Orden',how='left')"
   ]
  },
  {
   "cell_type": "code",
   "execution_count": null,
   "metadata": {},
   "outputs": [],
   "source": [
    "result_df = pd.merge(left = result_df,right = reprogramaciones[['Orden','Fecha_reprogramada']],on='Orden',how='left')"
   ]
  },
  {
   "cell_type": "code",
   "execution_count": null,
   "metadata": {},
   "outputs": [],
   "source": [
    "result_df = pd.merge(left=result_df,right=ubicaciones[['Equipo','Dirección']],how='left',on='Equipo')"
   ]
  },
  {
   "cell_type": "code",
   "execution_count": null,
   "metadata": {},
   "outputs": [],
   "source": [
    "politicas_columns = ['Pto.tbjo.responsable', 'Status del sistema', 'Denominación de objeto técnico', 'Número de serie',\n",
    "'Denominación de objeto técnico', 'Status del sistema', 'Número de serie', 'Pto.tbjo.responsable','OC','Equipo']"
   ]
  },
  {
   "cell_type": "code",
   "execution_count": null,
   "metadata": {},
   "outputs": [],
   "source": [
    "result_df = pd.merge(result_df,politicas,on = politicas_columns,how=\"left\")"
   ]
  },
  {
   "cell_type": "code",
   "execution_count": null,
   "metadata": {},
   "outputs": [],
   "source": [
    "listr = ['Equipo','Pto.tbjo.responsable', 'Status del sistema','Denominación de objeto técnico', 'Número de serie',\n",
    "'OC','Cliente actual', 'Denominación de la ubicación técnica', 'gestora archivo anahi ', 'reportes archivo anahi ',\n",
    "'Tipo Equipo', 'Frecuencia', 'Requiere Acceso', 'Tiempo aviso previo', 'Dia o fecha del Serv.', 'Horario', 'Curso', 'DC-3',\n",
    "'Examenes Covid, antidoping, etc', 'Tiempo valido de prueba', 'Tecnicos para servicio', 'Requerimientos adicionales', \n",
    "'Correo solicitud acceso', 'FACTURA FIRMADA', 'FOTOS', 'REPORTE ESPECIAL', 'Incluye materiales', 'FRECUENCIA DE OC', 'PREVENTIVOS',\n",
    "'CORRECTIVOS']"
   ]
  },
  {
   "cell_type": "code",
   "execution_count": null,
   "metadata": {},
   "outputs": [],
   "source": [
    "result_df = pd.merge(result_df,politicas,on=[listr],how=\"left\")"
   ]
  },
  {
   "cell_type": "code",
   "execution_count": null,
   "metadata": {},
   "outputs": [],
   "source": [
    "print(reportes.columns.values)"
   ]
  },
  {
   "cell_type": "code",
   "execution_count": null,
   "metadata": {},
   "outputs": [],
   "source": [
    "result_df = result_df.assign(Pendiente_Recoger=np.where(result_df['Inicio programado2'].isnull(),result_df['ESTATUS COMPRA'],result_df['Inicio programado2']))"
   ]
  },
  {
   "cell_type": "code",
   "execution_count": null,
   "metadata": {},
   "outputs": [],
   "source": [
    "result_df.assign(reprogramacion=0)"
   ]
  },
  {
   "cell_type": "code",
   "execution_count": null,
   "metadata": {},
   "outputs": [],
   "source": [
    "reprogramaciones = result_df.copy()"
   ]
  },
  {
   "cell_type": "code",
   "execution_count": null,
   "metadata": {},
   "outputs": [],
   "source": [
    "result_df['reprogramacion'] = np.where(result_df['Inicio programado']==reprogramaciones['Fecha_reprogramada'], \"Sin_Reprogramar\",\"Reprogramada\")\n",
    "result_df['reprogramacion'] = np.where(result_df['Fecha_reprogramada'].isnull(),\"O.T. Agregada\",result_df['reprogramacion'])"
   ]
  },
  {
   "cell_type": "code",
   "execution_count": null,
   "metadata": {},
   "outputs": [],
   "source": [
    "print(result_df['reprogramacion'].unique())"
   ]
  },
  {
   "cell_type": "code",
   "execution_count": null,
   "metadata": {},
   "outputs": [],
   "source": [
    "result_df.assign(Politica=0)"
   ]
  },
  {
   "cell_type": "code",
   "execution_count": null,
   "metadata": {},
   "outputs": [],
   "source": [
    "print(list(result_df.columns.values))"
   ]
  },
  {
   "cell_type": "code",
   "execution_count": null,
   "metadata": {},
   "outputs": [],
   "source": [
    "result_df['Politica'] = np.where(result_df['Requiere Acceso'].isnull(),\"NO\",\"SI\")"
   ]
  },
  {
   "cell_type": "code",
   "execution_count": null,
   "metadata": {},
   "outputs": [],
   "source": [
    "print(result_df.shape[0])\n",
    "print(programa.shape[0])"
   ]
  },
  {
   "cell_type": "code",
   "execution_count": null,
   "metadata": {},
   "outputs": [],
   "source": [
    "reprogramaciones = result_df[result_df['reprogramacion'].isin(['Reprogramada'])]\n",
    "if datetime.today().strftime('%Y-%m-%d') == reprogramaciones_['Dia_reprogramado'].loc[0]:\n",
    "       repro_nuevas = 0\n",
    "       print(\"Sin Reprogramaciones nuevas\")\n",
    "       reprogramaciones = reprogramaciones_\n",
    "else:\n",
    "       reprogramaciones = reprogramaciones.assign(Dia_reprogramado = datetime.today().strftime('%Y-%m-%d'))\n",
    "       reprogramaciones = pd.concat([reprogramaciones,reprogramaciones_])\n",
    "       print(reprogramaciones.shape[0])"
   ]
  },
  {
   "cell_type": "code",
   "execution_count": null,
   "metadata": {},
   "outputs": [],
   "source": [
    "listr = np.where(reportes.columns.str.contains('ESTATUS'), reportes.columns,\"\")\n",
    "i = 0\n",
    "eliminate = []\n",
    "for element in listr:\n",
    "    if element == \"\" : \n",
    "        eliminate.append(i)\n",
    "    i = i+1\n",
    "listr = np.delete(listr,eliminate)\n",
    "estatus_actual = listr[-1]\n",
    "listr = np.delete(listr,np.where(listr == estatus_actual))"
   ]
  },
  {
   "cell_type": "code",
   "execution_count": null,
   "metadata": {},
   "outputs": [],
   "source": [
    "listr_ = ['COMENTARIO ','Tipo Cliente','MES ','Mes2','Antiguedad','Gestora','Gpo Cliente','FORMATO ESPECIAL',\n",
    "'SEMANA ANTERIORES ','FACTURA ','SOLO AMARILLO ','REPORTE INCOMPLETO ','LEVANTAMIENTO ','CONTRA RECIBO ',\n",
    "'Gestora','preventivos','correctivos','comentarios internos adiccionales','Gestora.1','TecID']\n",
    "mylist = np.concatenate((listr,listr_),axis=None)\n",
    "#reportes = reportes.drop(mylist,axis=1)"
   ]
  },
  {
   "cell_type": "code",
   "execution_count": null,
   "metadata": {},
   "outputs": [],
   "source": [
    "reprogramaciones = reprogramaciones[['Orden', 'Inicio programado','Plan mant.preventivo', 'Pto.tbjo.responsable',\n",
    "       'Status del sistema', 'Texto breve', 'Cliente', 'Fecha inicio real',\n",
    "       'Fecha_reprogramada','Dia_reprogramado']]"
   ]
  },
  {
   "cell_type": "code",
   "execution_count": null,
   "metadata": {},
   "outputs": [],
   "source": [
    "result_df = result_df.drop(mylist,axis=1)"
   ]
  },
  {
   "cell_type": "code",
   "execution_count": null,
   "metadata": {},
   "outputs": [],
   "source": [
    "if repro_nuevas == 0 :\n",
    "    print(\"Se conservó el documento\")\n",
    "elif repro_nuevas != 0 : \n",
    "    os.remove(current_path + \"\\\\\" + \"Reprogramaciones.xlsx\")\n",
    "    path = current_path + \"\\\\\" + \"Reprogramaciones.xlsx\"   \n",
    "    reprogramaciones.to_excel(path, index=False,header=True)\n",
    "    with pd.ExcelWriter(path) as writer:\n",
    "        reprogramaciones.to_excel(writer,index=False,sheet_name=\"DB\")\n",
    "    os.startfile(path)"
   ]
  },
  {
   "cell_type": "code",
   "execution_count": null,
   "metadata": {},
   "outputs": [],
   "source": [
    "print(list(result_df.columns.values))\n",
    "result_df = result_df[['Inicio programado', 'Orden', 'reprogramacion', 'Fecha_reprogramada',    'Plan mant.preventivo', 'Pto.tbjo.responsable',\n",
    " 'Short name','Estatus', 'City', 'Status del sistema','Fe.liberación real', 'Fecha inicio real', 'Texto breve',\n",
    "'Cliente', 'Denominación de objeto técnico', 'Número de serie', 'Equipo', 'Dirección', 'Semana', 'N° de Reporte ', 'ESTATUS 07 NOVIEMBRE',\n",
    "'DETALLE POLITICA','Politica', 'gestora archivo anahi ', 'Frecuencia', 'Requiere Acceso', 'Tiempo aviso previo', 'Dia o fecha del Serv.',\n",
    "'Horario', 'Curso', 'DC-3', 'Examenes Covid, antidoping, etc', 'Tiempo valido de prueba','Tecnicos para servicio', 'Requerimientos adicionales',\n",
    "'Correo solicitud acceso', 'FACTURA FIRMADA', 'FOTOS', 'REPORTE ESPECIAL', 'Incluye materiales', 'OC','FRECUENCIA DE OC', 'PREVENTIVOS', 'CORRECTIVOS',\n",
    "'Material', 'Clase de orden','Pendiente_Recoger', 'Fecha de salida', 'Comentario']]"
   ]
  },
  {
   "cell_type": "code",
   "execution_count": null,
   "metadata": {},
   "outputs": [],
   "source": [
    "os.remove(current_path + \"\\\\\" + \"Main.xlsx\")\n",
    "path = current_path + \"\\\\\" + \"Main.xlsx\"   \n",
    "result_df.to_excel(path, index=False,header=True)\n",
    "with pd.ExcelWriter(path) as writer:\n",
    "    result_df.to_excel(writer,index=False,sheet_name=\"DB\")\n",
    "os.startfile(path)"
   ]
  }
 ],
 "metadata": {
  "kernelspec": {
   "display_name": "Python 3.10.8 64-bit (microsoft store)",
   "language": "python",
   "name": "python3"
  },
  "language_info": {
   "codemirror_mode": {
    "name": "ipython",
    "version": 3
   },
   "file_extension": ".py",
   "mimetype": "text/x-python",
   "name": "python",
   "nbconvert_exporter": "python",
   "pygments_lexer": "ipython3",
   "version": "3.10.8"
  },
  "orig_nbformat": 4,
  "vscode": {
   "interpreter": {
    "hash": "a586a87fa9461efa0664adbffed0c35ba73766ebd5c97abf5aabaa383b674146"
   }
  }
 },
 "nbformat": 4,
 "nbformat_minor": 2
}

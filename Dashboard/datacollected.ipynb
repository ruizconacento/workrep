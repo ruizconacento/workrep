{
 "cells": [
  {
   "cell_type": "code",
   "execution_count": 120,
   "metadata": {},
   "outputs": [],
   "source": [
    "#import libraries used into\n",
    "from datetime import datetime, timedelta\n",
    "import pandas as pd, numpy as np, os"
   ]
  },
  {
   "cell_type": "code",
   "execution_count": 121,
   "metadata": {},
   "outputs": [
    {
     "name": "stdout",
     "output_type": "stream",
     "text": [
      "fileam:  OT 16.11.2022.XLSX\n",
      "fileyest:  OT 15.11.2022.XLSX\n"
     ]
    }
   ],
   "source": [
    "##First, the vars was created\n",
    "fileam = \"OT \" + datetime.now().strftime('%d.%m.%Y') + \".XLSX\"\n",
    "print(\"fileam: \", fileam)\n",
    "if datetime.today().strftime('%A') == \"Monday\":\n",
    "    fileyest = \"OT \" + (datetime.today() - timedelta(days = 3)).strftime('%d.%m.%Y' + \".XLSX\")\n",
    "    print(\"fileyest: \", fileyest)\n",
    "else:\n",
    "    fileyest = \"OT \" + (datetime.today() - timedelta(days = 1)).strftime('%d.%m.%Y' + \".XLSX\")\n",
    "    print(\"fileyest: \", fileyest)\n",
    "main_path = \"C:\\\\Users\\\\mruiz\\\\Documents\\\\DB OT\\\\\" \n",
    "current_path = \"C:\\\\Users\\\\mruiz\\\\Documents\\\\DB OT\\\\CurrentDocuments\"\n",
    "current_month = datetime.now().strftime('%B')\n",
    "current_path_ = os.listdir(current_path)\n",
    "main_path_ = os.listdir(main_path)\n",
    "data_yesterday_excel = {}\n",
    "data_am_excel = {}\n",
    "repro_nuevas = 1"
   ]
  },
  {
   "cell_type": "code",
   "execution_count": 122,
   "metadata": {},
   "outputs": [],
   "source": [
    "def get_data(entry_data):\n",
    "    file = main_path + entry_data\n",
    "    filexcel = pd.read_excel(file,sheet_name=\"Sheet1\")\n",
    "    print(\"Los datos del archivo \", entry_data, \" fueron procesados\")\n",
    "    return filexcel"
   ]
  },
  {
   "cell_type": "code",
   "execution_count": 123,
   "metadata": {},
   "outputs": [
    {
     "name": "stdout",
     "output_type": "stream",
     "text": [
      "Los datos del archivo  OT 15.11.2022.XLSX  fueron procesados\n",
      "Los datos del archivo  OT 16.11.2022.XLSX  fueron procesados\n"
     ]
    }
   ],
   "source": [
    "while True:\n",
    "    try:\n",
    "        data_yesterday_excel = get_data(fileyest)\n",
    "        data_am_excel = get_data(fileam)\n",
    "        break\n",
    "    except FileNotFoundError:\n",
    "        print(\"Hay al menos un archivo que no fue leído: \")\n",
    "        print(\"Archivo Ayer : \", type(data_yesterday_excel))\n",
    "        print(\"Archivo hoy por la mañana: \", type(data_am_excel))\n",
    "        break"
   ]
  },
  {
   "cell_type": "code",
   "execution_count": 124,
   "metadata": {},
   "outputs": [
    {
     "name": "stdout",
     "output_type": "stream",
     "text": [
      "Los datos de la mañana fueron seleccionados\n"
     ]
    }
   ],
   "source": [
    "if type(data_am_excel) == type(data_yesterday_excel):\n",
    "    programa = data_am_excel\n",
    "    print(\"Los datos de la mañana fueron seleccionados\")\n",
    "else :\n",
    "    print(\"Error\")"
   ]
  },
  {
   "cell_type": "code",
   "execution_count": 125,
   "metadata": {},
   "outputs": [],
   "source": [
    "data2 =current_path + \"\\\\Master_OT.xlsx\"\n",
    "nombres = pd.read_excel(data2, sheet_name=\"Names\", header=0)"
   ]
  },
  {
   "cell_type": "code",
   "execution_count": 126,
   "metadata": {},
   "outputs": [],
   "source": [
    "data3 = current_path + \"\\\\Politicas.XLSX\"\n",
    "politicas = pd.read_excel(data3, sheet_name=\"POLITICAS CONTRATO\", header=0)"
   ]
  },
  {
   "cell_type": "code",
   "execution_count": 127,
   "metadata": {},
   "outputs": [],
   "source": [
    "data4 = current_path + \"\\\\Materiales_Locales.xlsx\"\n",
    "mlocal = pd.read_excel(data4, sheet_name=\"ENTREGADO\", header=0)"
   ]
  },
  {
   "cell_type": "code",
   "execution_count": 128,
   "metadata": {},
   "outputs": [],
   "source": [
    "data5 = current_path + \"\\\\Materiales_Foraneos.xlsx\"\n",
    "mforaneo = pd.read_excel(data5, sheet_name=\"MATRIZ FINAL\", header=1)"
   ]
  },
  {
   "cell_type": "code",
   "execution_count": 129,
   "metadata": {},
   "outputs": [],
   "source": [
    "data6 = current_path + \"\\\\Notificadas_Mensual.xlsx\"\n",
    "reportes = pd.read_excel(data6, sheet_name=\"CONTROL\", header=0)"
   ]
  },
  {
   "cell_type": "code",
   "execution_count": 130,
   "metadata": {},
   "outputs": [],
   "source": [
    "data7 = current_path + \"\\\\Ubicaciones_Equipos.xlsx\"\n",
    "ubicaciones = pd.read_excel(data7, sheet_name=\"Sheet1\", header=0)"
   ]
  },
  {
   "cell_type": "code",
   "execution_count": 131,
   "metadata": {},
   "outputs": [],
   "source": [
    "data8 = current_path + \"\\\\Reprogramaciones.xlsx\"\n",
    "reprogramaciones_ = pd.read_excel(data8, sheet_name=\"DB\", header=0)"
   ]
  },
  {
   "cell_type": "code",
   "execution_count": 132,
   "metadata": {},
   "outputs": [],
   "source": [
    "reprogramaciones = data_yesterday_excel.copy()"
   ]
  },
  {
   "cell_type": "code",
   "execution_count": 133,
   "metadata": {},
   "outputs": [],
   "source": [
    "reprogramaciones.rename(columns={'Inicio programado':'Fecha_reprogramada'}, inplace=True)"
   ]
  },
  {
   "cell_type": "code",
   "execution_count": 134,
   "metadata": {},
   "outputs": [],
   "source": [
    "programa['Material'] = np.where((programa['Clase de orden'] == 'ZMCP') &  (programa['Texto breve'].str.contains('Emer|Revi', case=False)), 'NO',\n",
    "np.where(programa['Clase de orden'] == 'ZPM2','SI',\n",
    "np.where(programa['Clase de orden'] == 'ZMCP','SI',\n",
    "np.where(programa['Clase de orden'] == 'ZMCI', 'SI',\n",
    "np.where((programa['Clase de orden'] == 'ZPM1') &  (programa['Texto breve'].str.contains('CAFA|CABAT|ACUM', case=False)), 'SI','NO')))))"
   ]
  },
  {
   "cell_type": "code",
   "execution_count": 135,
   "metadata": {},
   "outputs": [],
   "source": [
    "#print('Las columnas de programa son', list(programa.columns.values))\n",
    "#print('Las columnas de nombres son', list(nombres.columns.values))\n",
    "#print('Las columnas de politicas son', list(politicas.columns.values))\n",
    "#print('Las columnas de material local son', list(mlocal.columns.values))\n",
    "#print('Las columnas de material foraneo son', list(mforaneo.columns.values))\n",
    "#print('Las columnas de las repro son ',list(reprogramaciones.columns.values))\n",
    "#print('Las columnas de reportes son ', list(reportes.columns.values))\n",
    "#print('Las columnas de ubicaciones son', list(ubicaciones.columns.values))\n",
    "#print(list(result_df.columns.values))"
   ]
  },
  {
   "cell_type": "code",
   "execution_count": 139,
   "metadata": {},
   "outputs": [],
   "source": [
    "reportes['Inicio programado'] = reportes['Inicio programado'].str.strip()"
   ]
  },
  {
   "cell_type": "code",
   "execution_count": 140,
   "metadata": {},
   "outputs": [
    {
     "ename": "ValueError",
     "evalue": "time data '' does not match format '%d/%m/%Y' (search)",
     "output_type": "error",
     "traceback": [
      "\u001b[1;31m---------------------------------------------------------------------------\u001b[0m",
      "\u001b[1;31mValueError\u001b[0m                                Traceback (most recent call last)",
      "Cell \u001b[1;32mIn [140], line 2\u001b[0m\n\u001b[0;32m      1\u001b[0m reportes[\u001b[39m'\u001b[39m\u001b[39mInicio programado\u001b[39m\u001b[39m'\u001b[39m] \u001b[39m=\u001b[39m reportes[\u001b[39m'\u001b[39m\u001b[39mInicio programado\u001b[39m\u001b[39m'\u001b[39m]\u001b[39m.\u001b[39mstr\u001b[39m.\u001b[39mreplace(\u001b[39m\"\u001b[39m\u001b[39m-\u001b[39m\u001b[39m\"\u001b[39m,\u001b[39m\"\u001b[39m\u001b[39m/\u001b[39m\u001b[39m\"\u001b[39m)\n\u001b[1;32m----> 2\u001b[0m reportes[\u001b[39m'\u001b[39m\u001b[39mInicio programado\u001b[39m\u001b[39m'\u001b[39m] \u001b[39m=\u001b[39m pd\u001b[39m.\u001b[39;49mto_datetime(reportes[\u001b[39m'\u001b[39;49m\u001b[39mInicio programado\u001b[39;49m\u001b[39m'\u001b[39;49m], \u001b[39mformat\u001b[39;49m \u001b[39m=\u001b[39;49m \u001b[39m\"\u001b[39;49m\u001b[39m%d\u001b[39;49;00m\u001b[39m/\u001b[39;49m\u001b[39m%\u001b[39;49m\u001b[39mm/\u001b[39;49m\u001b[39m%\u001b[39;49m\u001b[39mY\u001b[39;49m\u001b[39m\"\u001b[39;49m, exact\u001b[39m=\u001b[39;49m\u001b[39mFalse\u001b[39;49;00m)\n\u001b[0;32m      3\u001b[0m \u001b[39mprint\u001b[39m(reportes[\u001b[39m'\u001b[39m\u001b[39mInicio programado\u001b[39m\u001b[39m'\u001b[39m]\u001b[39m.\u001b[39mdtype)\n",
      "File \u001b[1;32m~\\AppData\\Local\\Packages\\PythonSoftwareFoundation.Python.3.10_qbz5n2kfra8p0\\LocalCache\\local-packages\\Python310\\site-packages\\pandas\\core\\tools\\datetimes.py:1065\u001b[0m, in \u001b[0;36mto_datetime\u001b[1;34m(arg, errors, dayfirst, yearfirst, utc, format, exact, unit, infer_datetime_format, origin, cache)\u001b[0m\n\u001b[0;32m   1063\u001b[0m             result \u001b[39m=\u001b[39m arg\u001b[39m.\u001b[39mtz_localize(tz)\n\u001b[0;32m   1064\u001b[0m \u001b[39melif\u001b[39;00m \u001b[39misinstance\u001b[39m(arg, ABCSeries):\n\u001b[1;32m-> 1065\u001b[0m     cache_array \u001b[39m=\u001b[39m _maybe_cache(arg, \u001b[39mformat\u001b[39;49m, cache, convert_listlike)\n\u001b[0;32m   1066\u001b[0m     \u001b[39mif\u001b[39;00m \u001b[39mnot\u001b[39;00m cache_array\u001b[39m.\u001b[39mempty:\n\u001b[0;32m   1067\u001b[0m         result \u001b[39m=\u001b[39m arg\u001b[39m.\u001b[39mmap(cache_array)\n",
      "File \u001b[1;32m~\\AppData\\Local\\Packages\\PythonSoftwareFoundation.Python.3.10_qbz5n2kfra8p0\\LocalCache\\local-packages\\Python310\\site-packages\\pandas\\core\\tools\\datetimes.py:230\u001b[0m, in \u001b[0;36m_maybe_cache\u001b[1;34m(arg, format, cache, convert_listlike)\u001b[0m\n\u001b[0;32m    228\u001b[0m unique_dates \u001b[39m=\u001b[39m unique(arg)\n\u001b[0;32m    229\u001b[0m \u001b[39mif\u001b[39;00m \u001b[39mlen\u001b[39m(unique_dates) \u001b[39m<\u001b[39m \u001b[39mlen\u001b[39m(arg):\n\u001b[1;32m--> 230\u001b[0m     cache_dates \u001b[39m=\u001b[39m convert_listlike(unique_dates, \u001b[39mformat\u001b[39;49m)\n\u001b[0;32m    231\u001b[0m     \u001b[39m# GH#45319\u001b[39;00m\n\u001b[0;32m    232\u001b[0m     \u001b[39mtry\u001b[39;00m:\n",
      "File \u001b[1;32m~\\AppData\\Local\\Packages\\PythonSoftwareFoundation.Python.3.10_qbz5n2kfra8p0\\LocalCache\\local-packages\\Python310\\site-packages\\pandas\\core\\tools\\datetimes.py:431\u001b[0m, in \u001b[0;36m_convert_listlike_datetimes\u001b[1;34m(arg, format, name, tz, unit, errors, infer_datetime_format, dayfirst, yearfirst, exact)\u001b[0m\n\u001b[0;32m    428\u001b[0m         \u001b[39mformat\u001b[39m \u001b[39m=\u001b[39m \u001b[39mNone\u001b[39;00m\n\u001b[0;32m    430\u001b[0m \u001b[39mif\u001b[39;00m \u001b[39mformat\u001b[39m \u001b[39mis\u001b[39;00m \u001b[39mnot\u001b[39;00m \u001b[39mNone\u001b[39;00m:\n\u001b[1;32m--> 431\u001b[0m     res \u001b[39m=\u001b[39m _to_datetime_with_format(\n\u001b[0;32m    432\u001b[0m         arg, orig_arg, name, tz, \u001b[39mformat\u001b[39;49m, exact, errors, infer_datetime_format\n\u001b[0;32m    433\u001b[0m     )\n\u001b[0;32m    434\u001b[0m     \u001b[39mif\u001b[39;00m res \u001b[39mis\u001b[39;00m \u001b[39mnot\u001b[39;00m \u001b[39mNone\u001b[39;00m:\n\u001b[0;32m    435\u001b[0m         \u001b[39mreturn\u001b[39;00m res\n",
      "File \u001b[1;32m~\\AppData\\Local\\Packages\\PythonSoftwareFoundation.Python.3.10_qbz5n2kfra8p0\\LocalCache\\local-packages\\Python310\\site-packages\\pandas\\core\\tools\\datetimes.py:539\u001b[0m, in \u001b[0;36m_to_datetime_with_format\u001b[1;34m(arg, orig_arg, name, tz, fmt, exact, errors, infer_datetime_format)\u001b[0m\n\u001b[0;32m    536\u001b[0m         \u001b[39mreturn\u001b[39;00m _box_as_indexlike(result, utc\u001b[39m=\u001b[39mutc, name\u001b[39m=\u001b[39mname)\n\u001b[0;32m    538\u001b[0m \u001b[39m# fallback\u001b[39;00m\n\u001b[1;32m--> 539\u001b[0m res \u001b[39m=\u001b[39m _array_strptime_with_fallback(\n\u001b[0;32m    540\u001b[0m     arg, name, tz, fmt, exact, errors, infer_datetime_format\n\u001b[0;32m    541\u001b[0m )\n\u001b[0;32m    542\u001b[0m \u001b[39mreturn\u001b[39;00m res\n",
      "File \u001b[1;32m~\\AppData\\Local\\Packages\\PythonSoftwareFoundation.Python.3.10_qbz5n2kfra8p0\\LocalCache\\local-packages\\Python310\\site-packages\\pandas\\core\\tools\\datetimes.py:474\u001b[0m, in \u001b[0;36m_array_strptime_with_fallback\u001b[1;34m(arg, name, tz, fmt, exact, errors, infer_datetime_format)\u001b[0m\n\u001b[0;32m    471\u001b[0m utc \u001b[39m=\u001b[39m tz \u001b[39m==\u001b[39m \u001b[39m\"\u001b[39m\u001b[39mutc\u001b[39m\u001b[39m\"\u001b[39m\n\u001b[0;32m    473\u001b[0m \u001b[39mtry\u001b[39;00m:\n\u001b[1;32m--> 474\u001b[0m     result, timezones \u001b[39m=\u001b[39m array_strptime(arg, fmt, exact\u001b[39m=\u001b[39;49mexact, errors\u001b[39m=\u001b[39;49merrors)\n\u001b[0;32m    475\u001b[0m \u001b[39mexcept\u001b[39;00m OutOfBoundsDatetime:\n\u001b[0;32m    476\u001b[0m     \u001b[39mif\u001b[39;00m errors \u001b[39m==\u001b[39m \u001b[39m\"\u001b[39m\u001b[39mraise\u001b[39m\u001b[39m\"\u001b[39m:\n",
      "File \u001b[1;32m~\\AppData\\Local\\Packages\\PythonSoftwareFoundation.Python.3.10_qbz5n2kfra8p0\\LocalCache\\local-packages\\Python310\\site-packages\\pandas\\_libs\\tslibs\\strptime.pyx:165\u001b[0m, in \u001b[0;36mpandas._libs.tslibs.strptime.array_strptime\u001b[1;34m()\u001b[0m\n",
      "\u001b[1;31mValueError\u001b[0m: time data '' does not match format '%d/%m/%Y' (search)"
     ]
    }
   ],
   "source": [
    "reportes['Inicio programado'] = reportes['Inicio programado'].str.replace(\"-\",\"/\")\n",
    "reportes['Inicio programado'] = pd.to_datetime(reportes['Inicio programado'], format = \"%d/%m/%Y\", exact=False)\n",
    "print(reportes['Inicio programado'].dtype)"
   ]
  },
  {
   "cell_type": "code",
   "execution_count": null,
   "metadata": {},
   "outputs": [],
   "source": [
    "list_ = [programa,nombres,politicas,mlocal,mforaneo,reprogramaciones,reportes,ubicaciones]\n",
    "for element in list_:\n",
    "    str(element)\n",
    "    print(\"El archivo tiene {} filas\".format(element.shape[0]))"
   ]
  },
  {
   "cell_type": "markdown",
   "metadata": {},
   "source": [
    "COMIENZAN LOS MERGE"
   ]
  },
  {
   "cell_type": "code",
   "execution_count": null,
   "metadata": {},
   "outputs": [],
   "source": [
    "mlocal_columns = ['Orden', 'Inicio programado2', 'Fecha de salida', 'Texto breve', 'Comentario']"
   ]
  },
  {
   "cell_type": "code",
   "execution_count": null,
   "metadata": {},
   "outputs": [],
   "source": [
    "result_df = pd.merge(programa,mlocal[mlocal_columns],on=['Orden','Texto breve'],how=\"left\")"
   ]
  },
  {
   "cell_type": "code",
   "execution_count": null,
   "metadata": {},
   "outputs": [],
   "source": [
    "mforaneo_columns = ['UBICACIÓN','ESTATUS COMPRA', 'Orden']"
   ]
  },
  {
   "cell_type": "code",
   "execution_count": null,
   "metadata": {},
   "outputs": [],
   "source": [
    "result_df = pd.merge(result_df,mforaneo[mforaneo_columns],on='Orden',how='left')"
   ]
  },
  {
   "cell_type": "code",
   "execution_count": null,
   "metadata": {},
   "outputs": [],
   "source": [
    "repro_columns = ['Fecha_reprogramada', 'Orden']"
   ]
  },
  {
   "cell_type": "code",
   "execution_count": null,
   "metadata": {},
   "outputs": [],
   "source": [
    "result_df = pd.merge(result_df,reprogramaciones[repro_columns],on='Orden',how='left' )"
   ]
  },
  {
   "cell_type": "code",
   "execution_count": null,
   "metadata": {},
   "outputs": [],
   "source": [
    "reportes_columns = list(reportes.columns.values)\n",
    "mylist = ['Semana', 'Inicio programado', 'Pto.tbjo.responsable', 'Cliente', 'Denominación de objeto técnico',\n",
    "'Número de serie', 'Equipo', 'Clase de orden', 'Tipo Cliente', 'MES ', 'Mes2', 'Antiguedad', 'Gestora', \n",
    "'Gpo Cliente', 'FORMATO ESPECIAL', 'SEMANA ANTERIORES ', 'FACTURA ', 'SOLO AMARILLO ', 'REPORTE INCOMPLETO ', \n",
    "'LEVANTAMIENTO ', 'CONTRA RECIBO ', 'OC', 'Gestora.1', 'preventivos', 'correctivos', 'comentarios internos adiccionales']\n",
    "for element in mylist:\n",
    "    reportes_columns.remove(element)\n",
    "#print(reportes_columns)"
   ]
  },
  {
   "cell_type": "code",
   "execution_count": null,
   "metadata": {},
   "outputs": [],
   "source": [
    "result_df = pd.merge(result_df,reportes[reportes_columns],on='Orden',how='left')"
   ]
  },
  {
   "cell_type": "code",
   "execution_count": null,
   "metadata": {},
   "outputs": [],
   "source": [
    "result_df = pd.merge(left=result_df,right=nombres,left_on='Pto.tbjo.responsable', right_on='TecID',how='left')"
   ]
  },
  {
   "cell_type": "code",
   "execution_count": null,
   "metadata": {},
   "outputs": [],
   "source": [
    "politicas_columns = ['Equipo','gestora archivo anahi ', 'reportes archivo anahi ', 'Tipo Equipo', 'Frecuencia', \n",
    "'Requiere Acceso', 'Tiempo aviso previo', 'Dia o fecha del Serv.', 'Horario', 'Curso', 'DC-3', \n",
    "'Examenes Covid, antidoping, etc', 'Tiempo valido de prueba', 'Tecnicos para servicio', 'Requerimientos adicionales', \n",
    "'Correo solicitud acceso', 'FACTURA FIRMADA', 'FOTOS', 'REPORTE ESPECIAL', 'Incluye materiales', 'OC', 'FRECUENCIA DE OC', \n",
    "'PREVENTIVOS', 'CORRECTIVOS']"
   ]
  },
  {
   "cell_type": "code",
   "execution_count": null,
   "metadata": {},
   "outputs": [],
   "source": [
    "result_df = pd.merge(result_df,politicas[politicas_columns],on='Equipo',how='left')"
   ]
  },
  {
   "cell_type": "code",
   "execution_count": null,
   "metadata": {},
   "outputs": [],
   "source": [
    "ubicaciones_columns = ['Equipo', 'Dirección', 'Latitud', 'Longitud']"
   ]
  },
  {
   "cell_type": "code",
   "execution_count": null,
   "metadata": {},
   "outputs": [],
   "source": [
    "result_df = pd.merge(result_df,ubicaciones[ubicaciones_columns],on='Equipo',how='left')"
   ]
  },
  {
   "cell_type": "markdown",
   "metadata": {},
   "source": [
    "TERMINAN LOS MERGE"
   ]
  },
  {
   "cell_type": "code",
   "execution_count": null,
   "metadata": {},
   "outputs": [],
   "source": [
    "print(list(result_df.columns.values))"
   ]
  },
  {
   "cell_type": "code",
   "execution_count": null,
   "metadata": {},
   "outputs": [],
   "source": [
    "result_df = result_df.assign(Pendiente_Recoger=np.where(result_df['Inicio programado2'].isnull(),result_df['ESTATUS COMPRA'],result_df['Inicio programado2']))"
   ]
  },
  {
   "cell_type": "code",
   "execution_count": null,
   "metadata": {},
   "outputs": [],
   "source": [
    "result_df.assign(reprogramacion=0);"
   ]
  },
  {
   "cell_type": "code",
   "execution_count": null,
   "metadata": {},
   "outputs": [],
   "source": [
    "reprogramaciones = result_df.copy()"
   ]
  },
  {
   "cell_type": "code",
   "execution_count": null,
   "metadata": {},
   "outputs": [],
   "source": [
    "result_df['reprogramacion'] = np.where(result_df['Inicio programado']==reprogramaciones['Fecha_reprogramada'], \"Sin_Reprogramar\",\"Reprogramada\")\n",
    "result_df['reprogramacion'] = np.where(result_df['Fecha_reprogramada'].isnull(),\"Sin estatus\",result_df['reprogramacion'])"
   ]
  },
  {
   "cell_type": "code",
   "execution_count": null,
   "metadata": {},
   "outputs": [],
   "source": [
    "print(result_df['reprogramacion'].unique())"
   ]
  },
  {
   "cell_type": "code",
   "execution_count": null,
   "metadata": {},
   "outputs": [],
   "source": [
    "result_df.assign(Politica=0);"
   ]
  },
  {
   "cell_type": "code",
   "execution_count": null,
   "metadata": {},
   "outputs": [],
   "source": [
    "result_df['Politica'] = np.where(result_df['Requiere Acceso'].isnull(),\"NO\",\"SI\")"
   ]
  },
  {
   "cell_type": "code",
   "execution_count": null,
   "metadata": {},
   "outputs": [],
   "source": [
    "print(result_df.shape[0])\n",
    "print(programa.shape[0])"
   ]
  },
  {
   "cell_type": "code",
   "execution_count": null,
   "metadata": {},
   "outputs": [],
   "source": [
    "reprogramaciones = result_df[result_df['reprogramacion'].isin(['Reprogramada'])]\n",
    "if datetime.today().strftime('%Y-%m-%d') == reprogramaciones_['Dia_reprogramado'].loc[0]:\n",
    "       repro_nuevas = 0\n",
    "       print(\"Sin Reprogramaciones nuevas\")\n",
    "       reprogramaciones = reprogramaciones_\n",
    "else:\n",
    "       reprogramaciones = reprogramaciones.assign(Dia_reprogramado = datetime.today().strftime('%Y-%m-%d'))\n",
    "       reprogramaciones = pd.concat([reprogramaciones,reprogramaciones_])\n",
    "       print(reprogramaciones.shape[0])"
   ]
  },
  {
   "cell_type": "code",
   "execution_count": null,
   "metadata": {},
   "outputs": [],
   "source": [
    "listr = np.where(reportes.columns.str.contains('ESTATUS'), reportes.columns,\"\")\n",
    "i = 0\n",
    "eliminate = []\n",
    "for element in listr:\n",
    "    if element == \"\" : \n",
    "        eliminate.append(i)\n",
    "    i = i+1\n",
    "listr = np.delete(listr,eliminate)\n",
    "estatus_actual = listr[-1]\n",
    "listr = np.delete(listr,np.where(listr == estatus_actual))"
   ]
  },
  {
   "cell_type": "code",
   "execution_count": null,
   "metadata": {},
   "outputs": [],
   "source": [
    "listr_ = ['COMENTARIO ','TecID']\n",
    "mylist = np.concatenate((listr,listr_),axis=None)\n",
    "#reportes = reportes.drop(mylist,axis=1)"
   ]
  },
  {
   "cell_type": "code",
   "execution_count": null,
   "metadata": {},
   "outputs": [],
   "source": [
    "reprogramaciones = reprogramaciones[['Orden', 'Inicio programado','Plan mant.preventivo', 'Pto.tbjo.responsable',\n",
    "       'Status del sistema', 'Texto breve', 'Cliente', 'Fecha inicio real',\n",
    "       'Fecha_reprogramada','Dia_reprogramado']]"
   ]
  },
  {
   "cell_type": "code",
   "execution_count": null,
   "metadata": {},
   "outputs": [],
   "source": [
    "result_df = result_df.drop(mylist,axis=1)"
   ]
  },
  {
   "cell_type": "code",
   "execution_count": null,
   "metadata": {},
   "outputs": [],
   "source": [
    "if repro_nuevas == 0 :\n",
    "    print(\"Se conservó el documento\")\n",
    "elif repro_nuevas != 0 : \n",
    "    os.remove(current_path + \"\\\\\" + \"Reprogramaciones.xlsx\")\n",
    "    path = current_path + \"\\\\\" + \"Reprogramaciones.xlsx\"   \n",
    "    reprogramaciones.to_excel(path, index=False,header=True)\n",
    "    with pd.ExcelWriter(path) as writer:\n",
    "        reprogramaciones.to_excel(writer,index=False,sheet_name=\"DB\")\n",
    "    os.startfile(path)"
   ]
  },
  {
   "cell_type": "code",
   "execution_count": null,
   "metadata": {},
   "outputs": [],
   "source": [
    "result_df = result_df[['Inicio programado', 'Orden', 'reprogramacion', 'Fecha_reprogramada',    'Plan mant.preventivo', 'Pto.tbjo.responsable',\n",
    " 'Short name','Estatus', 'City', 'Status del sistema','Fe.liberación real', 'Fecha inicio real', 'Texto breve',\n",
    "'Cliente', 'Denominación de objeto técnico', 'Número de serie', 'Equipo', 'Dirección', 'N° de Reporte ',estatus_actual,\n",
    "'DETALLE POLITICA','Politica', 'gestora archivo anahi ', 'Frecuencia', 'Requiere Acceso', 'Tiempo aviso previo', 'Dia o fecha del Serv.',\n",
    "'Horario', 'Curso', 'DC-3', 'Examenes Covid, antidoping, etc', 'Tiempo valido de prueba','Tecnicos para servicio', 'Requerimientos adicionales',\n",
    "'Correo solicitud acceso', 'FACTURA FIRMADA', 'FOTOS', 'REPORTE ESPECIAL', 'Incluye materiales', 'OC','FRECUENCIA DE OC', 'PREVENTIVOS', 'CORRECTIVOS',\n",
    "'Material', 'Clase de orden','Pendiente_Recoger', 'Fecha de salida', 'Comentario']]"
   ]
  },
  {
   "cell_type": "code",
   "execution_count": null,
   "metadata": {},
   "outputs": [],
   "source": [
    "os.remove(current_path + \"\\\\\" + \"Main.xlsx\")\n",
    "path = current_path + \"\\\\\" + \"Main.xlsx\"   \n",
    "result_df.to_excel(path, index=False,header=True)\n",
    "with pd.ExcelWriter(path) as writer:\n",
    "    result_df.to_excel(writer,index=False,sheet_name=\"DB\")\n",
    "os.startfile(path)"
   ]
  }
 ],
 "metadata": {
  "kernelspec": {
   "display_name": "Python 3.10.8 64-bit (microsoft store)",
   "language": "python",
   "name": "python3"
  },
  "language_info": {
   "codemirror_mode": {
    "name": "ipython",
    "version": 3
   },
   "file_extension": ".py",
   "mimetype": "text/x-python",
   "name": "python",
   "nbconvert_exporter": "python",
   "pygments_lexer": "ipython3",
   "version": "3.10.8"
  },
  "orig_nbformat": 4,
  "vscode": {
   "interpreter": {
    "hash": "a586a87fa9461efa0664adbffed0c35ba73766ebd5c97abf5aabaa383b674146"
   }
  }
 },
 "nbformat": 4,
 "nbformat_minor": 2
}

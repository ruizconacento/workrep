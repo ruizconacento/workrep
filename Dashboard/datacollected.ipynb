{
 "cells": [
  {
   "cell_type": "code",
   "execution_count": 411,
   "metadata": {},
   "outputs": [],
   "source": [
    "#import libraries used into\n",
    "from datetime import datetime, timedelta\n",
    "import pandas as pd, numpy as np, os"
   ]
  },
  {
   "cell_type": "code",
   "execution_count": 412,
   "metadata": {},
   "outputs": [
    {
     "name": "stdout",
     "output_type": "stream",
     "text": [
      "fileam:  OT 15.11.2022.XLSX\n",
      "fileyest:  OT 14.11.2022.XLSX\n",
      "filepm:  OT 15.11.2022 5 P.M..XLSX\n",
      "file3pm:  OT 15.11.2022 3 P.M..XLSX\n"
     ]
    }
   ],
   "source": [
    "##First, the vars was created\n",
    "fileam = \"OT \" + datetime.now().strftime('%d.%m.%Y') + \".XLSX\"\n",
    "print(\"fileam: \", fileam)\n",
    "if datetime.today().strftime('%A') == \"Monday\":\n",
    "    fileyest = \"OT \" + (datetime.today() - timedelta(days = 3)).strftime('%d.%m.%Y' + \".XLSX\")\n",
    "    print(\"fileyest: \", fileyest)\n",
    "else:\n",
    "    fileyest = \"OT \" + (datetime.today() - timedelta(days = 1)).strftime('%d.%m.%Y' + \".XLSX\")\n",
    "    print(\"fileyest: \", fileyest)\n",
    "filepm = \"OT \" + datetime.now().strftime('%d.%m.%Y') + \" 5 P.M..XLSX\"\n",
    "print(\"filepm: \", filepm)\n",
    "file3pm = \"OT \" + datetime.now().strftime('%d.%m.%Y') + \" 3 P.M..XLSX\"\n",
    "print(\"file3pm: \", file3pm)\n",
    "main_path = \"C:\\\\Users\\\\mruiz\\\\Documents\\\\DB OT\\\\\" \n",
    "current_path = \"C:\\\\Users\\\\mruiz\\\\Documents\\\\DB OT\\\\CurrentDocuments\"\n",
    "current_month = datetime.now().strftime('%B')\n",
    "current_path_ = os.listdir(current_path)\n",
    "main_path_ = os.listdir(main_path)\n",
    "data_yesterday_excel = {}\n",
    "data_am_excel = {}\n",
    "data_3pm_excel = {}\n",
    "data_pm_excel = {}\n",
    "repro_nuevas = 1"
   ]
  },
  {
   "cell_type": "code",
   "execution_count": 413,
   "metadata": {},
   "outputs": [],
   "source": [
    "def get_data(entry_data):\n",
    "    file = main_path + entry_data\n",
    "    filexcel = pd.read_excel(file,sheet_name=\"Sheet1\")\n",
    "    print(\"Los datos del archivo \", entry_data, \" fueron procesados\")\n",
    "    return filexcel"
   ]
  },
  {
   "cell_type": "code",
   "execution_count": 414,
   "metadata": {},
   "outputs": [
    {
     "name": "stdout",
     "output_type": "stream",
     "text": [
      "Los datos del archivo  OT 14.11.2022.XLSX  fueron procesados\n",
      "Los datos del archivo  OT 15.11.2022.XLSX  fueron procesados\n"
     ]
    }
   ],
   "source": [
    "while True:\n",
    "    try:\n",
    "        data_yesterday_excel = get_data(fileyest)\n",
    "        data_am_excel = get_data(fileam)\n",
    "        break\n",
    "    except FileNotFoundError:\n",
    "        print(\"Hay al menos un archivo que no fue leído: \")\n",
    "        print(\"Archivo Ayer : \", type(data_yesterday_excel))\n",
    "        print(\"Archivo hoy por la mañana: \", type(data_am_excel))\n",
    "        break"
   ]
  },
  {
   "cell_type": "code",
   "execution_count": 415,
   "metadata": {},
   "outputs": [
    {
     "name": "stdout",
     "output_type": "stream",
     "text": [
      "Los datos de la mañana fueron seleccionados\n"
     ]
    }
   ],
   "source": [
    "if type(data_am_excel) == type(data_yesterday_excel):\n",
    "    programa = data_am_excel\n",
    "    print(\"Los datos de la mañana fueron seleccionados\")\n",
    "else :\n",
    "    print(\"Error\")"
   ]
  },
  {
   "cell_type": "code",
   "execution_count": 416,
   "metadata": {},
   "outputs": [],
   "source": [
    "data2 =current_path + \"\\\\Master_OT.xlsx\"\n",
    "nombres = pd.read_excel(data2, sheet_name=\"Names\", header=0)"
   ]
  },
  {
   "cell_type": "code",
   "execution_count": 417,
   "metadata": {},
   "outputs": [],
   "source": [
    "data3 = current_path + \"\\\\Politicas.XLSX\"\n",
    "politicas = pd.read_excel(data3, sheet_name=\"POLITICAS CONTRATO\", header=0)"
   ]
  },
  {
   "cell_type": "code",
   "execution_count": 418,
   "metadata": {},
   "outputs": [],
   "source": [
    "data4 = current_path + \"\\\\Materiales_Locales.xlsx\"\n",
    "mlocal = pd.read_excel(data4, sheet_name=\"ENTREGADO\", header=0)"
   ]
  },
  {
   "cell_type": "code",
   "execution_count": 419,
   "metadata": {},
   "outputs": [],
   "source": [
    "data5 = current_path + \"\\\\Materiales_Foraneos.xlsx\"\n",
    "mforaneo = pd.read_excel(data5, sheet_name=\"MATRIZ FINAL\", header=1)"
   ]
  },
  {
   "cell_type": "code",
   "execution_count": 420,
   "metadata": {},
   "outputs": [],
   "source": [
    "data6 = current_path + \"\\\\Notificadas_Mensual.xlsx\"\n",
    "reportes = pd.read_excel(data6, sheet_name=\"CONTROL_REMASTERED\", header=0)"
   ]
  },
  {
   "cell_type": "code",
   "execution_count": 421,
   "metadata": {},
   "outputs": [],
   "source": [
    "data7 = current_path + \"\\\\Ubicaciones_Equipos.xlsx\"\n",
    "ubicaciones = pd.read_excel(data7, sheet_name=\"Sheet1\", header=0)"
   ]
  },
  {
   "cell_type": "code",
   "execution_count": 422,
   "metadata": {},
   "outputs": [
    {
     "name": "stderr",
     "output_type": "stream",
     "text": [
      "C:\\Users\\mruiz\\AppData\\Local\\Temp\\ipykernel_9104\\1808906021.py:2: FutureWarning: Inferring datetime64[ns] from data containing strings is deprecated and will be removed in a future version. To retain the old behavior explicitly pass Series(data, dtype=datetime64[ns])\n",
      "  reprogramaciones_ = pd.read_excel(data8, sheet_name=\"DB\", header=0)\n"
     ]
    }
   ],
   "source": [
    "data8 = current_path + \"\\\\Reprogramaciones.xlsx\"\n",
    "reprogramaciones_ = pd.read_excel(data8, sheet_name=\"DB\", header=0)"
   ]
  },
  {
   "cell_type": "code",
   "execution_count": 423,
   "metadata": {},
   "outputs": [],
   "source": [
    "reprogramaciones = data_yesterday_excel.copy()"
   ]
  },
  {
   "cell_type": "code",
   "execution_count": 424,
   "metadata": {},
   "outputs": [],
   "source": [
    "reprogramaciones.rename(columns={'Inicio programado':'Fecha_reprogramada'}, inplace=True)"
   ]
  },
  {
   "cell_type": "code",
   "execution_count": 425,
   "metadata": {},
   "outputs": [],
   "source": [
    "programa['Material'] = np.where((programa['Clase de orden'] == 'ZMCP') &  (programa['Texto breve'].str.contains('Emer|Revi', case=False)), 'NO',\n",
    "np.where(programa['Clase de orden'] == 'ZPM2','SI',\n",
    "np.where(programa['Clase de orden'] == 'ZMCP','SI',\n",
    "np.where(programa['Clase de orden'] == 'ZMCI', 'SI',\n",
    "np.where((programa['Clase de orden'] == 'ZPM1') &  (programa['Texto breve'].str.contains('CAFA|CABAT|ACUM', case=False)), 'SI','NO')))))"
   ]
  },
  {
   "cell_type": "code",
   "execution_count": 426,
   "metadata": {},
   "outputs": [],
   "source": [
    "#print('Las columnas de frame 1 son', programa.info())\n",
    "#print('Las columnas de frame 2 son', nombres.columns)\n",
    "#print('Las columnas de frame 3 son', politicas.columns)\n",
    "#print('Las columnas de frame 4 son', mlocal.columns)\n",
    "#print('Las columnas de frame 5 son', mforaneo.columns)\n",
    "#print('Las columnas de reprogramaciones son ',reprogramaciones)\n",
    "#print('Las columnas de frame 6 son', reportes.columns)\n",
    "#print('Las columnas de frame 7 son', ubicaciones.columns)\n",
    "#print('Las columnas de frame main son', result_df.columns)"
   ]
  },
  {
   "cell_type": "code",
   "execution_count": 427,
   "metadata": {},
   "outputs": [
    {
     "name": "stdout",
     "output_type": "stream",
     "text": [
      "datetime64[ns]\n"
     ]
    }
   ],
   "source": [
    "reportes['Inicio programado'] = reportes['Inicio programado'].str.replace(\"-\",\"/\")\n",
    "reportes['Inicio programado'] = pd.to_datetime(reportes['Inicio programado'], format = \"%d/%m/%Y\", exact=False)\n",
    "print(reportes['Inicio programado'].dtype)"
   ]
  },
  {
   "cell_type": "markdown",
   "metadata": {},
   "source": [
    "COMIENZAN LOS MERGE"
   ]
  },
  {
   "cell_type": "code",
   "execution_count": 428,
   "metadata": {},
   "outputs": [
    {
     "name": "stdout",
     "output_type": "stream",
     "text": [
      "59777\n",
      "4707\n"
     ]
    }
   ],
   "source": [
    "print(programa.shape[0])\n",
    "print(reportes.shape[0])"
   ]
  },
  {
   "cell_type": "code",
   "execution_count": 429,
   "metadata": {},
   "outputs": [],
   "source": [
    "reportes_columns = ['Orden','Semana','N° de Reporte ', 'ESTATUS 19 SEPTIEMBRE', 'ESTATUS 20 SEPTIEMBRE', 'ESTATUS 22 SEPTIEMBRE', 'ESTATUS 23 SEPTIEMBRE',\n",
    "'ESTATUS 26 SEPTIEMBRE', 'ESTATUS 27 SEPTIEMBRE', 'ESTATUS 28 SEPTIEMBRE', 'ESTATUS 29 SEPTIEMBRE', 'ESTATUS 03 OCTUBRE', 'ESTATUS 04 OCTUBRE',\n",
    "'ESTATUS 05 OCTUBRE', 'ESTATUS 06 OCTUBRE', 'ESTATUS 07 OCTUBRE', 'ESTATUS 10 OCTUBRE', 'ESTATUS 11 OCTUBRE', 'ESTATUS 12 OCTUBRE',\n",
    "'ESTATUS 13 OCTUBRE', 'ESTATUS 14 OCTUBRE', 'ESTATUS 17 OCTUBRE', 'ESTATUS 18 OCTUBRE', 'ESTATUS 20 OCTUBRE', 'ESTATUS 21 OCTUBRE', \n",
    "'ESTATUS 24 OCTUBRE', 'ESTATUS 25 OCTUBRE', 'ESTATUS 26 OCTUBRE', 'ESTATUS 27 OCTUBRE', 'ESTATUS 28 OCTUBRE', 'ESTATUS 31 OCTUBRE', \n",
    "'ESTATUS 01 NOVIEMBRE', 'ESTATUS 02 NOVIEMBRE', 'ESTATUS 03 NOVIEMBRE', 'ESTATUS 04 NOVIEMBRE', 'ESTATUS 07 NOVIEMBRE', 'DETALLE POLITICA', \n",
    "'COMENTARIO ', 'Tipo Cliente', 'MES ', 'Mes2', 'Antiguedad', 'Gestora', 'Gpo Cliente', 'FORMATO ESPECIAL', 'SEMANA ANTERIORES ', 'FACTURA ', \n",
    "'SOLO AMARILLO ', 'REPORTE INCOMPLETO ', 'LEVANTAMIENTO ', 'CONTRA RECIBO ', 'OC', 'Gestora.1', 'preventivos', 'correctivos', \n",
    "'comentarios internos adiccionales']"
   ]
  },
  {
   "cell_type": "code",
   "execution_count": 430,
   "metadata": {},
   "outputs": [
    {
     "name": "stderr",
     "output_type": "stream",
     "text": [
      "C:\\Users\\mruiz\\AppData\\Local\\Temp\\ipykernel_9104\\552805305.py:1: FutureWarning: In a future version, the Index constructor will not infer numeric dtypes when passed object-dtype sequences (matching Series behavior)\n",
      "  result_df = pd.merge(programa,reportes[reportes_columns],on=['Orden'],how=\"outer\")\n"
     ]
    }
   ],
   "source": [
    "result_df = pd.merge(programa,reportes[reportes_columns],on=['Orden'],how=\"outer\")"
   ]
  },
  {
   "cell_type": "code",
   "execution_count": 431,
   "metadata": {},
   "outputs": [
    {
     "name": "stdout",
     "output_type": "stream",
     "text": [
      "59985\n"
     ]
    }
   ],
   "source": [
    "print(result_df.shape[0])"
   ]
  },
  {
   "cell_type": "code",
   "execution_count": 432,
   "metadata": {},
   "outputs": [],
   "source": [
    "result_df = pd.merge(left = result_df, right = nombres[['TecID','Short name','Estatus','City']],left_on=\"Pto.tbjo.responsable\",right_on=\"TecID\",how=\"left\")"
   ]
  },
  {
   "cell_type": "code",
   "execution_count": 436,
   "metadata": {},
   "outputs": [
    {
     "name": "stdout",
     "output_type": "stream",
     "text": [
      "['Inicio programado', 'Orden', 'Plan mant.preventivo', 'Pto.tbjo.responsable', 'Status del sistema', 'Texto breve', 'Cliente', 'Denominación de objeto técnico', 'Número de serie', 'Equipo', 'Clase de orden', 'Fe.liberación real', 'Fecha inicio real', 'Material', 'Semana', 'N° de Reporte ', 'ESTATUS 19 SEPTIEMBRE', 'ESTATUS 20 SEPTIEMBRE', 'ESTATUS 22 SEPTIEMBRE', 'ESTATUS 23 SEPTIEMBRE', 'ESTATUS 26 SEPTIEMBRE', 'ESTATUS 27 SEPTIEMBRE', 'ESTATUS 28 SEPTIEMBRE', 'ESTATUS 29 SEPTIEMBRE', 'ESTATUS 03 OCTUBRE', 'ESTATUS 04 OCTUBRE', 'ESTATUS 05 OCTUBRE', 'ESTATUS 06 OCTUBRE', 'ESTATUS 07 OCTUBRE', 'ESTATUS 10 OCTUBRE', 'ESTATUS 11 OCTUBRE', 'ESTATUS 12 OCTUBRE', 'ESTATUS 13 OCTUBRE', 'ESTATUS 14 OCTUBRE', 'ESTATUS 17 OCTUBRE', 'ESTATUS 18 OCTUBRE', 'ESTATUS 20 OCTUBRE', 'ESTATUS 21 OCTUBRE', 'ESTATUS 24 OCTUBRE', 'ESTATUS 25 OCTUBRE', 'ESTATUS 26 OCTUBRE', 'ESTATUS 27 OCTUBRE', 'ESTATUS 28 OCTUBRE', 'ESTATUS 31 OCTUBRE', 'ESTATUS 01 NOVIEMBRE', 'ESTATUS 02 NOVIEMBRE', 'ESTATUS 03 NOVIEMBRE', 'ESTATUS 04 NOVIEMBRE', 'ESTATUS 07 NOVIEMBRE', 'DETALLE POLITICA', 'COMENTARIO ', 'Tipo Cliente', 'MES ', 'Mes2', 'Antiguedad', 'Gestora', 'Gpo Cliente', 'FORMATO ESPECIAL', 'SEMANA ANTERIORES ', 'FACTURA ', 'SOLO AMARILLO ', 'REPORTE INCOMPLETO ', 'LEVANTAMIENTO ', 'CONTRA RECIBO ', 'OC', 'Gestora.1', 'preventivos', 'correctivos', 'comentarios internos adiccionales', 'TecID', 'Short name', 'Estatus', 'City', 'Inicio programado2', 'Fecha de salida', 'Comentario', 'Material Separado', 'UBICACIÓN', 'ESTATUS COMPRA', 'PROVEEDOR', 'Fecha_reprogramada']\n"
     ]
    }
   ],
   "source": [
    "print(list(result_df.columns.values))"
   ]
  },
  {
   "cell_type": "code",
   "execution_count": 433,
   "metadata": {},
   "outputs": [],
   "source": [
    "result_df = pd.merge(result_df,mlocal[['Orden', 'Inicio programado2', 'Fecha de salida',\n",
    "       'Comentario', 'Material Separado']], on=['Orden'],how= \"left\")"
   ]
  },
  {
   "cell_type": "code",
   "execution_count": 434,
   "metadata": {},
   "outputs": [],
   "source": [
    "result_df = pd.merge(result_df,mforaneo[['Orden','UBICACIÓN', 'ESTATUS COMPRA', 'PROVEEDOR']],on='Orden',how='left')"
   ]
  },
  {
   "cell_type": "code",
   "execution_count": 435,
   "metadata": {},
   "outputs": [],
   "source": [
    "result_df = pd.merge(left = result_df,right = reprogramaciones[['Orden','Fecha_reprogramada']],on='Orden',how='left')"
   ]
  },
  {
   "cell_type": "code",
   "execution_count": 437,
   "metadata": {},
   "outputs": [],
   "source": [
    "result_df = pd.merge(left=result_df,right=ubicaciones[['Equipo','Dirección']],how='left',on='Equipo')"
   ]
  },
  {
   "cell_type": "code",
   "execution_count": 438,
   "metadata": {},
   "outputs": [],
   "source": [
    "politicas_columns = ['Pto.tbjo.responsable', 'Status del sistema', 'Denominación de objeto técnico', 'Número de serie',\n",
    "'Denominación de objeto técnico', 'Status del sistema', 'Número de serie', 'Pto.tbjo.responsable','OC','Equipo']"
   ]
  },
  {
   "cell_type": "code",
   "execution_count": 439,
   "metadata": {},
   "outputs": [],
   "source": [
    "result_df = pd.merge(result_df,politicas,on = politicas_columns,how=\"outer\")"
   ]
  },
  {
   "cell_type": "code",
   "execution_count": 440,
   "metadata": {},
   "outputs": [
    {
     "name": "stdout",
     "output_type": "stream",
     "text": [
      "['Inicio programado', 'Orden', 'Plan mant.preventivo', 'Pto.tbjo.responsable', 'Status del sistema', 'Texto breve', 'Cliente', 'Denominación de objeto técnico', 'Número de serie', 'Equipo', 'Clase de orden', 'Fe.liberación real', 'Fecha inicio real', 'Material', 'Semana', 'N° de Reporte ', 'ESTATUS 19 SEPTIEMBRE', 'ESTATUS 20 SEPTIEMBRE', 'ESTATUS 22 SEPTIEMBRE', 'ESTATUS 23 SEPTIEMBRE', 'ESTATUS 26 SEPTIEMBRE', 'ESTATUS 27 SEPTIEMBRE', 'ESTATUS 28 SEPTIEMBRE', 'ESTATUS 29 SEPTIEMBRE', 'ESTATUS 03 OCTUBRE', 'ESTATUS 04 OCTUBRE', 'ESTATUS 05 OCTUBRE', 'ESTATUS 06 OCTUBRE', 'ESTATUS 07 OCTUBRE', 'ESTATUS 10 OCTUBRE', 'ESTATUS 11 OCTUBRE', 'ESTATUS 12 OCTUBRE', 'ESTATUS 13 OCTUBRE', 'ESTATUS 14 OCTUBRE', 'ESTATUS 17 OCTUBRE', 'ESTATUS 18 OCTUBRE', 'ESTATUS 20 OCTUBRE', 'ESTATUS 21 OCTUBRE', 'ESTATUS 24 OCTUBRE', 'ESTATUS 25 OCTUBRE', 'ESTATUS 26 OCTUBRE', 'ESTATUS 27 OCTUBRE', 'ESTATUS 28 OCTUBRE', 'ESTATUS 31 OCTUBRE', 'ESTATUS 01 NOVIEMBRE', 'ESTATUS 02 NOVIEMBRE', 'ESTATUS 03 NOVIEMBRE', 'ESTATUS 04 NOVIEMBRE', 'ESTATUS 07 NOVIEMBRE', 'DETALLE POLITICA', 'COMENTARIO ', 'Tipo Cliente', 'MES ', 'Mes2', 'Antiguedad', 'Gestora', 'Gpo Cliente', 'FORMATO ESPECIAL', 'SEMANA ANTERIORES ', 'FACTURA ', 'SOLO AMARILLO ', 'REPORTE INCOMPLETO ', 'LEVANTAMIENTO ', 'CONTRA RECIBO ', 'OC', 'Gestora.1', 'preventivos', 'correctivos', 'comentarios internos adiccionales', 'TecID', 'Short name', 'Estatus', 'City', 'Inicio programado2', 'Fecha de salida', 'Comentario', 'Material Separado', 'UBICACIÓN', 'ESTATUS COMPRA', 'PROVEEDOR', 'Fecha_reprogramada', 'Dirección', 'Cliente actual', 'Denominación de la ubicación técnica', 'gestora archivo anahi ', 'reportes archivo anahi ', 'Tipo Equipo', 'Frecuencia', 'Requiere Acceso', 'Tiempo aviso previo', 'Dia o fecha del Serv.', 'Horario', 'Curso', 'DC-3', 'Examenes Covid, antidoping, etc', 'Tiempo valido de prueba', 'Tecnicos para servicio', 'Requerimientos adicionales', 'Correo solicitud acceso', 'FACTURA FIRMADA', 'FOTOS', 'REPORTE ESPECIAL', 'Incluye materiales', 'FRECUENCIA DE OC', 'PREVENTIVOS', 'CORRECTIVOS']\n"
     ]
    }
   ],
   "source": [
    "print(list(result_df.columns.values))"
   ]
  },
  {
   "cell_type": "markdown",
   "metadata": {},
   "source": [
    "TERMINAN LOS MERGE"
   ]
  },
  {
   "cell_type": "code",
   "execution_count": 441,
   "metadata": {},
   "outputs": [],
   "source": [
    "result_df = result_df.assign(Pendiente_Recoger=np.where(result_df['Inicio programado2'].isnull(),result_df['ESTATUS COMPRA'],result_df['Inicio programado2']))"
   ]
  },
  {
   "cell_type": "code",
   "execution_count": 442,
   "metadata": {},
   "outputs": [
    {
     "data": {
      "text/html": [
       "<div>\n",
       "<style scoped>\n",
       "    .dataframe tbody tr th:only-of-type {\n",
       "        vertical-align: middle;\n",
       "    }\n",
       "\n",
       "    .dataframe tbody tr th {\n",
       "        vertical-align: top;\n",
       "    }\n",
       "\n",
       "    .dataframe thead th {\n",
       "        text-align: right;\n",
       "    }\n",
       "</style>\n",
       "<table border=\"1\" class=\"dataframe\">\n",
       "  <thead>\n",
       "    <tr style=\"text-align: right;\">\n",
       "      <th></th>\n",
       "      <th>Inicio programado</th>\n",
       "      <th>Orden</th>\n",
       "      <th>Plan mant.preventivo</th>\n",
       "      <th>Pto.tbjo.responsable</th>\n",
       "      <th>Status del sistema</th>\n",
       "      <th>Texto breve</th>\n",
       "      <th>Cliente</th>\n",
       "      <th>Denominación de objeto técnico</th>\n",
       "      <th>Número de serie</th>\n",
       "      <th>Equipo</th>\n",
       "      <th>...</th>\n",
       "      <th>Correo solicitud acceso</th>\n",
       "      <th>FACTURA FIRMADA</th>\n",
       "      <th>FOTOS</th>\n",
       "      <th>REPORTE ESPECIAL</th>\n",
       "      <th>Incluye materiales</th>\n",
       "      <th>FRECUENCIA DE OC</th>\n",
       "      <th>PREVENTIVOS</th>\n",
       "      <th>CORRECTIVOS</th>\n",
       "      <th>Pendiente_Recoger</th>\n",
       "      <th>reprogramacion</th>\n",
       "    </tr>\n",
       "  </thead>\n",
       "  <tbody>\n",
       "    <tr>\n",
       "      <th>0</th>\n",
       "      <td>2024-07-26</td>\n",
       "      <td>4096274.0</td>\n",
       "      <td>8396.0</td>\n",
       "      <td>TECSER24</td>\n",
       "      <td>BLOQUEADA</td>\n",
       "      <td>SEGUIDORES DE LA CRUZ 10KW</td>\n",
       "      <td>303371.0</td>\n",
       "      <td>SEGUIDORES DE LA CRUZ 10KW</td>\n",
       "      <td>NaN</td>\n",
       "      <td>12923.0</td>\n",
       "      <td>...</td>\n",
       "      <td>NaN</td>\n",
       "      <td>NaN</td>\n",
       "      <td>NaN</td>\n",
       "      <td>NaN</td>\n",
       "      <td>NaN</td>\n",
       "      <td>NaN</td>\n",
       "      <td>NaN</td>\n",
       "      <td>NaN</td>\n",
       "      <td>NaN</td>\n",
       "      <td>0</td>\n",
       "    </tr>\n",
       "    <tr>\n",
       "      <th>1</th>\n",
       "      <td>2023-12-12</td>\n",
       "      <td>4093006.0</td>\n",
       "      <td>626.0</td>\n",
       "      <td>TECSER17</td>\n",
       "      <td>ABIERTA</td>\n",
       "      <td>HD MIGUEL ALEMAN 8789 PTA 350 KW ACUMULA</td>\n",
       "      <td>300105.0</td>\n",
       "      <td>HD MIGUEL ALEMAN 8789 PTA 350KW</td>\n",
       "      <td>43203341</td>\n",
       "      <td>10373.0</td>\n",
       "      <td>...</td>\n",
       "      <td>NaN</td>\n",
       "      <td>NaN</td>\n",
       "      <td>NaN</td>\n",
       "      <td>NaN</td>\n",
       "      <td>NaN</td>\n",
       "      <td>NaN</td>\n",
       "      <td>NaN</td>\n",
       "      <td>NaN</td>\n",
       "      <td>NaN</td>\n",
       "      <td>0</td>\n",
       "    </tr>\n",
       "    <tr>\n",
       "      <th>2</th>\n",
       "      <td>2023-10-12</td>\n",
       "      <td>4093001.0</td>\n",
       "      <td>439.0</td>\n",
       "      <td>TECSER6</td>\n",
       "      <td>ABIERTA</td>\n",
       "      <td>HD PIEDRAS NEGRAS 8638 PTA 350 KW ACUMUL</td>\n",
       "      <td>300105.0</td>\n",
       "      <td>HD PIEDRAS NEGRAS 8638 PTA 350KW</td>\n",
       "      <td>2012658048</td>\n",
       "      <td>10270.0</td>\n",
       "      <td>...</td>\n",
       "      <td>NaN</td>\n",
       "      <td>NaN</td>\n",
       "      <td>NaN</td>\n",
       "      <td>NaN</td>\n",
       "      <td>NaN</td>\n",
       "      <td>NaN</td>\n",
       "      <td>NaN</td>\n",
       "      <td>NaN</td>\n",
       "      <td>NaN</td>\n",
       "      <td>0</td>\n",
       "    </tr>\n",
       "    <tr>\n",
       "      <th>3</th>\n",
       "      <td>2023-09-13</td>\n",
       "      <td>4093222.0</td>\n",
       "      <td>1522.0</td>\n",
       "      <td>TECSER2</td>\n",
       "      <td>ABIERTA</td>\n",
       "      <td>HD INTERLOMAS 8762 PTA 250 KW ACUMULADOR</td>\n",
       "      <td>300105.0</td>\n",
       "      <td>HD INTERLOMAS 8762 PTA 250KW</td>\n",
       "      <td>14808</td>\n",
       "      <td>10935.0</td>\n",
       "      <td>...</td>\n",
       "      <td>NaN</td>\n",
       "      <td>NaN</td>\n",
       "      <td>NaN</td>\n",
       "      <td>NaN</td>\n",
       "      <td>NaN</td>\n",
       "      <td>NaN</td>\n",
       "      <td>NaN</td>\n",
       "      <td>NaN</td>\n",
       "      <td>NaN</td>\n",
       "      <td>0</td>\n",
       "    </tr>\n",
       "    <tr>\n",
       "      <th>4</th>\n",
       "      <td>2023-09-11</td>\n",
       "      <td>4093049.0</td>\n",
       "      <td>653.0</td>\n",
       "      <td>TECSER6</td>\n",
       "      <td>ABIERTA</td>\n",
       "      <td>HD SAN PEDRO 8652 PTA 350KW ACUMULADOR</td>\n",
       "      <td>300105.0</td>\n",
       "      <td>HD SAN PEDRO 8652 PTA 350KW</td>\n",
       "      <td>UI4182W</td>\n",
       "      <td>10388.0</td>\n",
       "      <td>...</td>\n",
       "      <td>NaN</td>\n",
       "      <td>NaN</td>\n",
       "      <td>NaN</td>\n",
       "      <td>NaN</td>\n",
       "      <td>NaN</td>\n",
       "      <td>NaN</td>\n",
       "      <td>NaN</td>\n",
       "      <td>NaN</td>\n",
       "      <td>NaN</td>\n",
       "      <td>0</td>\n",
       "    </tr>\n",
       "    <tr>\n",
       "      <th>...</th>\n",
       "      <td>...</td>\n",
       "      <td>...</td>\n",
       "      <td>...</td>\n",
       "      <td>...</td>\n",
       "      <td>...</td>\n",
       "      <td>...</td>\n",
       "      <td>...</td>\n",
       "      <td>...</td>\n",
       "      <td>...</td>\n",
       "      <td>...</td>\n",
       "      <td>...</td>\n",
       "      <td>...</td>\n",
       "      <td>...</td>\n",
       "      <td>...</td>\n",
       "      <td>...</td>\n",
       "      <td>...</td>\n",
       "      <td>...</td>\n",
       "      <td>...</td>\n",
       "      <td>...</td>\n",
       "      <td>...</td>\n",
       "      <td>...</td>\n",
       "    </tr>\n",
       "    <tr>\n",
       "      <th>61783</th>\n",
       "      <td>NaT</td>\n",
       "      <td>NaN</td>\n",
       "      <td>NaN</td>\n",
       "      <td>TECSER25</td>\n",
       "      <td>CONTRATO</td>\n",
       "      <td>NaN</td>\n",
       "      <td>NaN</td>\n",
       "      <td>CYTEC DE MEXICO 600KW</td>\n",
       "      <td>SIN SERIE</td>\n",
       "      <td>13022.0</td>\n",
       "      <td>...</td>\n",
       "      <td>NO</td>\n",
       "      <td>NO</td>\n",
       "      <td>NO</td>\n",
       "      <td>NO</td>\n",
       "      <td>NO</td>\n",
       "      <td>NO</td>\n",
       "      <td>NO</td>\n",
       "      <td>NO</td>\n",
       "      <td>NaN</td>\n",
       "      <td>0</td>\n",
       "    </tr>\n",
       "    <tr>\n",
       "      <th>61784</th>\n",
       "      <td>NaT</td>\n",
       "      <td>NaN</td>\n",
       "      <td>NaN</td>\n",
       "      <td>TECSER25</td>\n",
       "      <td>CONTRATO</td>\n",
       "      <td>NaN</td>\n",
       "      <td>NaN</td>\n",
       "      <td>CYTEC DE MEXICO 845KW</td>\n",
       "      <td>SIN SERIE</td>\n",
       "      <td>13023.0</td>\n",
       "      <td>...</td>\n",
       "      <td>NO</td>\n",
       "      <td>NO</td>\n",
       "      <td>NO</td>\n",
       "      <td>NO</td>\n",
       "      <td>NO</td>\n",
       "      <td>NO</td>\n",
       "      <td>NO</td>\n",
       "      <td>NO</td>\n",
       "      <td>NaN</td>\n",
       "      <td>0</td>\n",
       "    </tr>\n",
       "    <tr>\n",
       "      <th>61785</th>\n",
       "      <td>NaT</td>\n",
       "      <td>NaN</td>\n",
       "      <td>NaN</td>\n",
       "      <td>TECSER25</td>\n",
       "      <td>CONTRATO</td>\n",
       "      <td>NaN</td>\n",
       "      <td>NaN</td>\n",
       "      <td>CYTEC DE MEXICO 355KW</td>\n",
       "      <td>SIN SERIE</td>\n",
       "      <td>13024.0</td>\n",
       "      <td>...</td>\n",
       "      <td>NO</td>\n",
       "      <td>NO</td>\n",
       "      <td>NO</td>\n",
       "      <td>NO</td>\n",
       "      <td>NO</td>\n",
       "      <td>NO</td>\n",
       "      <td>NO</td>\n",
       "      <td>NO</td>\n",
       "      <td>NaN</td>\n",
       "      <td>0</td>\n",
       "    </tr>\n",
       "    <tr>\n",
       "      <th>61786</th>\n",
       "      <td>NaT</td>\n",
       "      <td>NaN</td>\n",
       "      <td>NaN</td>\n",
       "      <td>TECSER8</td>\n",
       "      <td>CONTRATO</td>\n",
       "      <td>NaN</td>\n",
       "      <td>NaN</td>\n",
       "      <td>CASINO VIVENTO 750 KW</td>\n",
       "      <td>37225305</td>\n",
       "      <td>13180.0</td>\n",
       "      <td>...</td>\n",
       "      <td>NO</td>\n",
       "      <td>NO</td>\n",
       "      <td>NO</td>\n",
       "      <td>NO</td>\n",
       "      <td>NO</td>\n",
       "      <td>NO</td>\n",
       "      <td>NO</td>\n",
       "      <td>NO</td>\n",
       "      <td>NaN</td>\n",
       "      <td>0</td>\n",
       "    </tr>\n",
       "    <tr>\n",
       "      <th>61787</th>\n",
       "      <td>NaT</td>\n",
       "      <td>NaN</td>\n",
       "      <td>NaN</td>\n",
       "      <td>TECSER27</td>\n",
       "      <td>CONTRATO</td>\n",
       "      <td>NaN</td>\n",
       "      <td>NaN</td>\n",
       "      <td>AURRERA LOS PORTALES 4785</td>\n",
       "      <td>84838492</td>\n",
       "      <td>12733.0</td>\n",
       "      <td>...</td>\n",
       "      <td>NO</td>\n",
       "      <td>NO</td>\n",
       "      <td>NO</td>\n",
       "      <td>NO</td>\n",
       "      <td>NO</td>\n",
       "      <td>NO</td>\n",
       "      <td>NO</td>\n",
       "      <td>NO</td>\n",
       "      <td>NaN</td>\n",
       "      <td>0</td>\n",
       "    </tr>\n",
       "  </tbody>\n",
       "</table>\n",
       "<p>61788 rows × 108 columns</p>\n",
       "</div>"
      ],
      "text/plain": [
       "      Inicio programado      Orden  Plan mant.preventivo Pto.tbjo.responsable  \\\n",
       "0            2024-07-26  4096274.0                8396.0             TECSER24   \n",
       "1            2023-12-12  4093006.0                 626.0             TECSER17   \n",
       "2            2023-10-12  4093001.0                 439.0              TECSER6   \n",
       "3            2023-09-13  4093222.0                1522.0              TECSER2   \n",
       "4            2023-09-11  4093049.0                 653.0              TECSER6   \n",
       "...                 ...        ...                   ...                  ...   \n",
       "61783               NaT        NaN                   NaN             TECSER25   \n",
       "61784               NaT        NaN                   NaN             TECSER25   \n",
       "61785               NaT        NaN                   NaN             TECSER25   \n",
       "61786               NaT        NaN                   NaN              TECSER8   \n",
       "61787               NaT        NaN                   NaN             TECSER27   \n",
       "\n",
       "      Status del sistema                               Texto breve   Cliente  \\\n",
       "0              BLOQUEADA                SEGUIDORES DE LA CRUZ 10KW  303371.0   \n",
       "1                ABIERTA  HD MIGUEL ALEMAN 8789 PTA 350 KW ACUMULA  300105.0   \n",
       "2                ABIERTA  HD PIEDRAS NEGRAS 8638 PTA 350 KW ACUMUL  300105.0   \n",
       "3                ABIERTA  HD INTERLOMAS 8762 PTA 250 KW ACUMULADOR  300105.0   \n",
       "4                ABIERTA    HD SAN PEDRO 8652 PTA 350KW ACUMULADOR  300105.0   \n",
       "...                  ...                                       ...       ...   \n",
       "61783           CONTRATO                                       NaN       NaN   \n",
       "61784           CONTRATO                                       NaN       NaN   \n",
       "61785           CONTRATO                                       NaN       NaN   \n",
       "61786           CONTRATO                                       NaN       NaN   \n",
       "61787           CONTRATO                                       NaN       NaN   \n",
       "\n",
       "         Denominación de objeto técnico Número de serie   Equipo  ...  \\\n",
       "0            SEGUIDORES DE LA CRUZ 10KW             NaN  12923.0  ...   \n",
       "1       HD MIGUEL ALEMAN 8789 PTA 350KW        43203341  10373.0  ...   \n",
       "2      HD PIEDRAS NEGRAS 8638 PTA 350KW      2012658048  10270.0  ...   \n",
       "3          HD INTERLOMAS 8762 PTA 250KW           14808  10935.0  ...   \n",
       "4           HD SAN PEDRO 8652 PTA 350KW         UI4182W  10388.0  ...   \n",
       "...                                 ...             ...      ...  ...   \n",
       "61783             CYTEC DE MEXICO 600KW       SIN SERIE  13022.0  ...   \n",
       "61784             CYTEC DE MEXICO 845KW       SIN SERIE  13023.0  ...   \n",
       "61785             CYTEC DE MEXICO 355KW       SIN SERIE  13024.0  ...   \n",
       "61786             CASINO VIVENTO 750 KW        37225305  13180.0  ...   \n",
       "61787         AURRERA LOS PORTALES 4785        84838492  12733.0  ...   \n",
       "\n",
       "      Correo solicitud acceso FACTURA FIRMADA FOTOS REPORTE ESPECIAL  \\\n",
       "0                         NaN             NaN   NaN              NaN   \n",
       "1                         NaN             NaN   NaN              NaN   \n",
       "2                         NaN             NaN   NaN              NaN   \n",
       "3                         NaN             NaN   NaN              NaN   \n",
       "4                         NaN             NaN   NaN              NaN   \n",
       "...                       ...             ...   ...              ...   \n",
       "61783                      NO              NO    NO               NO   \n",
       "61784                      NO              NO    NO               NO   \n",
       "61785                      NO              NO    NO               NO   \n",
       "61786                      NO              NO    NO               NO   \n",
       "61787                      NO              NO    NO               NO   \n",
       "\n",
       "      Incluye materiales FRECUENCIA DE OC PREVENTIVOS CORRECTIVOS  \\\n",
       "0                    NaN              NaN         NaN         NaN   \n",
       "1                    NaN              NaN         NaN         NaN   \n",
       "2                    NaN              NaN         NaN         NaN   \n",
       "3                    NaN              NaN         NaN         NaN   \n",
       "4                    NaN              NaN         NaN         NaN   \n",
       "...                  ...              ...         ...         ...   \n",
       "61783                 NO               NO          NO          NO   \n",
       "61784                 NO               NO          NO          NO   \n",
       "61785                 NO               NO          NO          NO   \n",
       "61786                 NO               NO          NO          NO   \n",
       "61787                 NO               NO          NO          NO   \n",
       "\n",
       "      Pendiente_Recoger reprogramacion  \n",
       "0                   NaN              0  \n",
       "1                   NaN              0  \n",
       "2                   NaN              0  \n",
       "3                   NaN              0  \n",
       "4                   NaN              0  \n",
       "...                 ...            ...  \n",
       "61783               NaN              0  \n",
       "61784               NaN              0  \n",
       "61785               NaN              0  \n",
       "61786               NaN              0  \n",
       "61787               NaN              0  \n",
       "\n",
       "[61788 rows x 108 columns]"
      ]
     },
     "execution_count": 442,
     "metadata": {},
     "output_type": "execute_result"
    }
   ],
   "source": [
    "result_df.assign(reprogramacion=0)"
   ]
  },
  {
   "cell_type": "code",
   "execution_count": 443,
   "metadata": {},
   "outputs": [],
   "source": [
    "reprogramaciones = result_df.copy()"
   ]
  },
  {
   "cell_type": "code",
   "execution_count": 444,
   "metadata": {},
   "outputs": [],
   "source": [
    "result_df['reprogramacion'] = np.where(result_df['Inicio programado']==reprogramaciones['Fecha_reprogramada'], \"Sin_Reprogramar\",\"Reprogramada\")\n",
    "result_df['reprogramacion'] = np.where(result_df['Fecha_reprogramada'].isnull(),\"O.T. Agregada\",result_df['reprogramacion'])"
   ]
  },
  {
   "cell_type": "code",
   "execution_count": 445,
   "metadata": {},
   "outputs": [
    {
     "name": "stdout",
     "output_type": "stream",
     "text": [
      "['Sin_Reprogramar' 'O.T. Agregada' 'Reprogramada']\n"
     ]
    }
   ],
   "source": [
    "print(result_df['reprogramacion'].unique())"
   ]
  },
  {
   "cell_type": "code",
   "execution_count": 446,
   "metadata": {},
   "outputs": [
    {
     "data": {
      "text/html": [
       "<div>\n",
       "<style scoped>\n",
       "    .dataframe tbody tr th:only-of-type {\n",
       "        vertical-align: middle;\n",
       "    }\n",
       "\n",
       "    .dataframe tbody tr th {\n",
       "        vertical-align: top;\n",
       "    }\n",
       "\n",
       "    .dataframe thead th {\n",
       "        text-align: right;\n",
       "    }\n",
       "</style>\n",
       "<table border=\"1\" class=\"dataframe\">\n",
       "  <thead>\n",
       "    <tr style=\"text-align: right;\">\n",
       "      <th></th>\n",
       "      <th>Inicio programado</th>\n",
       "      <th>Orden</th>\n",
       "      <th>Plan mant.preventivo</th>\n",
       "      <th>Pto.tbjo.responsable</th>\n",
       "      <th>Status del sistema</th>\n",
       "      <th>Texto breve</th>\n",
       "      <th>Cliente</th>\n",
       "      <th>Denominación de objeto técnico</th>\n",
       "      <th>Número de serie</th>\n",
       "      <th>Equipo</th>\n",
       "      <th>...</th>\n",
       "      <th>FACTURA FIRMADA</th>\n",
       "      <th>FOTOS</th>\n",
       "      <th>REPORTE ESPECIAL</th>\n",
       "      <th>Incluye materiales</th>\n",
       "      <th>FRECUENCIA DE OC</th>\n",
       "      <th>PREVENTIVOS</th>\n",
       "      <th>CORRECTIVOS</th>\n",
       "      <th>Pendiente_Recoger</th>\n",
       "      <th>reprogramacion</th>\n",
       "      <th>Politica</th>\n",
       "    </tr>\n",
       "  </thead>\n",
       "  <tbody>\n",
       "    <tr>\n",
       "      <th>0</th>\n",
       "      <td>2024-07-26</td>\n",
       "      <td>4096274.0</td>\n",
       "      <td>8396.0</td>\n",
       "      <td>TECSER24</td>\n",
       "      <td>BLOQUEADA</td>\n",
       "      <td>SEGUIDORES DE LA CRUZ 10KW</td>\n",
       "      <td>303371.0</td>\n",
       "      <td>SEGUIDORES DE LA CRUZ 10KW</td>\n",
       "      <td>NaN</td>\n",
       "      <td>12923.0</td>\n",
       "      <td>...</td>\n",
       "      <td>NaN</td>\n",
       "      <td>NaN</td>\n",
       "      <td>NaN</td>\n",
       "      <td>NaN</td>\n",
       "      <td>NaN</td>\n",
       "      <td>NaN</td>\n",
       "      <td>NaN</td>\n",
       "      <td>NaN</td>\n",
       "      <td>Sin_Reprogramar</td>\n",
       "      <td>0</td>\n",
       "    </tr>\n",
       "    <tr>\n",
       "      <th>1</th>\n",
       "      <td>2023-12-12</td>\n",
       "      <td>4093006.0</td>\n",
       "      <td>626.0</td>\n",
       "      <td>TECSER17</td>\n",
       "      <td>ABIERTA</td>\n",
       "      <td>HD MIGUEL ALEMAN 8789 PTA 350 KW ACUMULA</td>\n",
       "      <td>300105.0</td>\n",
       "      <td>HD MIGUEL ALEMAN 8789 PTA 350KW</td>\n",
       "      <td>43203341</td>\n",
       "      <td>10373.0</td>\n",
       "      <td>...</td>\n",
       "      <td>NaN</td>\n",
       "      <td>NaN</td>\n",
       "      <td>NaN</td>\n",
       "      <td>NaN</td>\n",
       "      <td>NaN</td>\n",
       "      <td>NaN</td>\n",
       "      <td>NaN</td>\n",
       "      <td>NaN</td>\n",
       "      <td>Sin_Reprogramar</td>\n",
       "      <td>0</td>\n",
       "    </tr>\n",
       "    <tr>\n",
       "      <th>2</th>\n",
       "      <td>2023-10-12</td>\n",
       "      <td>4093001.0</td>\n",
       "      <td>439.0</td>\n",
       "      <td>TECSER6</td>\n",
       "      <td>ABIERTA</td>\n",
       "      <td>HD PIEDRAS NEGRAS 8638 PTA 350 KW ACUMUL</td>\n",
       "      <td>300105.0</td>\n",
       "      <td>HD PIEDRAS NEGRAS 8638 PTA 350KW</td>\n",
       "      <td>2012658048</td>\n",
       "      <td>10270.0</td>\n",
       "      <td>...</td>\n",
       "      <td>NaN</td>\n",
       "      <td>NaN</td>\n",
       "      <td>NaN</td>\n",
       "      <td>NaN</td>\n",
       "      <td>NaN</td>\n",
       "      <td>NaN</td>\n",
       "      <td>NaN</td>\n",
       "      <td>NaN</td>\n",
       "      <td>Sin_Reprogramar</td>\n",
       "      <td>0</td>\n",
       "    </tr>\n",
       "    <tr>\n",
       "      <th>3</th>\n",
       "      <td>2023-09-13</td>\n",
       "      <td>4093222.0</td>\n",
       "      <td>1522.0</td>\n",
       "      <td>TECSER2</td>\n",
       "      <td>ABIERTA</td>\n",
       "      <td>HD INTERLOMAS 8762 PTA 250 KW ACUMULADOR</td>\n",
       "      <td>300105.0</td>\n",
       "      <td>HD INTERLOMAS 8762 PTA 250KW</td>\n",
       "      <td>14808</td>\n",
       "      <td>10935.0</td>\n",
       "      <td>...</td>\n",
       "      <td>NaN</td>\n",
       "      <td>NaN</td>\n",
       "      <td>NaN</td>\n",
       "      <td>NaN</td>\n",
       "      <td>NaN</td>\n",
       "      <td>NaN</td>\n",
       "      <td>NaN</td>\n",
       "      <td>NaN</td>\n",
       "      <td>Sin_Reprogramar</td>\n",
       "      <td>0</td>\n",
       "    </tr>\n",
       "    <tr>\n",
       "      <th>4</th>\n",
       "      <td>2023-09-11</td>\n",
       "      <td>4093049.0</td>\n",
       "      <td>653.0</td>\n",
       "      <td>TECSER6</td>\n",
       "      <td>ABIERTA</td>\n",
       "      <td>HD SAN PEDRO 8652 PTA 350KW ACUMULADOR</td>\n",
       "      <td>300105.0</td>\n",
       "      <td>HD SAN PEDRO 8652 PTA 350KW</td>\n",
       "      <td>UI4182W</td>\n",
       "      <td>10388.0</td>\n",
       "      <td>...</td>\n",
       "      <td>NaN</td>\n",
       "      <td>NaN</td>\n",
       "      <td>NaN</td>\n",
       "      <td>NaN</td>\n",
       "      <td>NaN</td>\n",
       "      <td>NaN</td>\n",
       "      <td>NaN</td>\n",
       "      <td>NaN</td>\n",
       "      <td>Sin_Reprogramar</td>\n",
       "      <td>0</td>\n",
       "    </tr>\n",
       "    <tr>\n",
       "      <th>...</th>\n",
       "      <td>...</td>\n",
       "      <td>...</td>\n",
       "      <td>...</td>\n",
       "      <td>...</td>\n",
       "      <td>...</td>\n",
       "      <td>...</td>\n",
       "      <td>...</td>\n",
       "      <td>...</td>\n",
       "      <td>...</td>\n",
       "      <td>...</td>\n",
       "      <td>...</td>\n",
       "      <td>...</td>\n",
       "      <td>...</td>\n",
       "      <td>...</td>\n",
       "      <td>...</td>\n",
       "      <td>...</td>\n",
       "      <td>...</td>\n",
       "      <td>...</td>\n",
       "      <td>...</td>\n",
       "      <td>...</td>\n",
       "      <td>...</td>\n",
       "    </tr>\n",
       "    <tr>\n",
       "      <th>61783</th>\n",
       "      <td>NaT</td>\n",
       "      <td>NaN</td>\n",
       "      <td>NaN</td>\n",
       "      <td>TECSER25</td>\n",
       "      <td>CONTRATO</td>\n",
       "      <td>NaN</td>\n",
       "      <td>NaN</td>\n",
       "      <td>CYTEC DE MEXICO 600KW</td>\n",
       "      <td>SIN SERIE</td>\n",
       "      <td>13022.0</td>\n",
       "      <td>...</td>\n",
       "      <td>NO</td>\n",
       "      <td>NO</td>\n",
       "      <td>NO</td>\n",
       "      <td>NO</td>\n",
       "      <td>NO</td>\n",
       "      <td>NO</td>\n",
       "      <td>NO</td>\n",
       "      <td>NaN</td>\n",
       "      <td>O.T. Agregada</td>\n",
       "      <td>0</td>\n",
       "    </tr>\n",
       "    <tr>\n",
       "      <th>61784</th>\n",
       "      <td>NaT</td>\n",
       "      <td>NaN</td>\n",
       "      <td>NaN</td>\n",
       "      <td>TECSER25</td>\n",
       "      <td>CONTRATO</td>\n",
       "      <td>NaN</td>\n",
       "      <td>NaN</td>\n",
       "      <td>CYTEC DE MEXICO 845KW</td>\n",
       "      <td>SIN SERIE</td>\n",
       "      <td>13023.0</td>\n",
       "      <td>...</td>\n",
       "      <td>NO</td>\n",
       "      <td>NO</td>\n",
       "      <td>NO</td>\n",
       "      <td>NO</td>\n",
       "      <td>NO</td>\n",
       "      <td>NO</td>\n",
       "      <td>NO</td>\n",
       "      <td>NaN</td>\n",
       "      <td>O.T. Agregada</td>\n",
       "      <td>0</td>\n",
       "    </tr>\n",
       "    <tr>\n",
       "      <th>61785</th>\n",
       "      <td>NaT</td>\n",
       "      <td>NaN</td>\n",
       "      <td>NaN</td>\n",
       "      <td>TECSER25</td>\n",
       "      <td>CONTRATO</td>\n",
       "      <td>NaN</td>\n",
       "      <td>NaN</td>\n",
       "      <td>CYTEC DE MEXICO 355KW</td>\n",
       "      <td>SIN SERIE</td>\n",
       "      <td>13024.0</td>\n",
       "      <td>...</td>\n",
       "      <td>NO</td>\n",
       "      <td>NO</td>\n",
       "      <td>NO</td>\n",
       "      <td>NO</td>\n",
       "      <td>NO</td>\n",
       "      <td>NO</td>\n",
       "      <td>NO</td>\n",
       "      <td>NaN</td>\n",
       "      <td>O.T. Agregada</td>\n",
       "      <td>0</td>\n",
       "    </tr>\n",
       "    <tr>\n",
       "      <th>61786</th>\n",
       "      <td>NaT</td>\n",
       "      <td>NaN</td>\n",
       "      <td>NaN</td>\n",
       "      <td>TECSER8</td>\n",
       "      <td>CONTRATO</td>\n",
       "      <td>NaN</td>\n",
       "      <td>NaN</td>\n",
       "      <td>CASINO VIVENTO 750 KW</td>\n",
       "      <td>37225305</td>\n",
       "      <td>13180.0</td>\n",
       "      <td>...</td>\n",
       "      <td>NO</td>\n",
       "      <td>NO</td>\n",
       "      <td>NO</td>\n",
       "      <td>NO</td>\n",
       "      <td>NO</td>\n",
       "      <td>NO</td>\n",
       "      <td>NO</td>\n",
       "      <td>NaN</td>\n",
       "      <td>O.T. Agregada</td>\n",
       "      <td>0</td>\n",
       "    </tr>\n",
       "    <tr>\n",
       "      <th>61787</th>\n",
       "      <td>NaT</td>\n",
       "      <td>NaN</td>\n",
       "      <td>NaN</td>\n",
       "      <td>TECSER27</td>\n",
       "      <td>CONTRATO</td>\n",
       "      <td>NaN</td>\n",
       "      <td>NaN</td>\n",
       "      <td>AURRERA LOS PORTALES 4785</td>\n",
       "      <td>84838492</td>\n",
       "      <td>12733.0</td>\n",
       "      <td>...</td>\n",
       "      <td>NO</td>\n",
       "      <td>NO</td>\n",
       "      <td>NO</td>\n",
       "      <td>NO</td>\n",
       "      <td>NO</td>\n",
       "      <td>NO</td>\n",
       "      <td>NO</td>\n",
       "      <td>NaN</td>\n",
       "      <td>O.T. Agregada</td>\n",
       "      <td>0</td>\n",
       "    </tr>\n",
       "  </tbody>\n",
       "</table>\n",
       "<p>61788 rows × 109 columns</p>\n",
       "</div>"
      ],
      "text/plain": [
       "      Inicio programado      Orden  Plan mant.preventivo Pto.tbjo.responsable  \\\n",
       "0            2024-07-26  4096274.0                8396.0             TECSER24   \n",
       "1            2023-12-12  4093006.0                 626.0             TECSER17   \n",
       "2            2023-10-12  4093001.0                 439.0              TECSER6   \n",
       "3            2023-09-13  4093222.0                1522.0              TECSER2   \n",
       "4            2023-09-11  4093049.0                 653.0              TECSER6   \n",
       "...                 ...        ...                   ...                  ...   \n",
       "61783               NaT        NaN                   NaN             TECSER25   \n",
       "61784               NaT        NaN                   NaN             TECSER25   \n",
       "61785               NaT        NaN                   NaN             TECSER25   \n",
       "61786               NaT        NaN                   NaN              TECSER8   \n",
       "61787               NaT        NaN                   NaN             TECSER27   \n",
       "\n",
       "      Status del sistema                               Texto breve   Cliente  \\\n",
       "0              BLOQUEADA                SEGUIDORES DE LA CRUZ 10KW  303371.0   \n",
       "1                ABIERTA  HD MIGUEL ALEMAN 8789 PTA 350 KW ACUMULA  300105.0   \n",
       "2                ABIERTA  HD PIEDRAS NEGRAS 8638 PTA 350 KW ACUMUL  300105.0   \n",
       "3                ABIERTA  HD INTERLOMAS 8762 PTA 250 KW ACUMULADOR  300105.0   \n",
       "4                ABIERTA    HD SAN PEDRO 8652 PTA 350KW ACUMULADOR  300105.0   \n",
       "...                  ...                                       ...       ...   \n",
       "61783           CONTRATO                                       NaN       NaN   \n",
       "61784           CONTRATO                                       NaN       NaN   \n",
       "61785           CONTRATO                                       NaN       NaN   \n",
       "61786           CONTRATO                                       NaN       NaN   \n",
       "61787           CONTRATO                                       NaN       NaN   \n",
       "\n",
       "         Denominación de objeto técnico Número de serie   Equipo  ...  \\\n",
       "0            SEGUIDORES DE LA CRUZ 10KW             NaN  12923.0  ...   \n",
       "1       HD MIGUEL ALEMAN 8789 PTA 350KW        43203341  10373.0  ...   \n",
       "2      HD PIEDRAS NEGRAS 8638 PTA 350KW      2012658048  10270.0  ...   \n",
       "3          HD INTERLOMAS 8762 PTA 250KW           14808  10935.0  ...   \n",
       "4           HD SAN PEDRO 8652 PTA 350KW         UI4182W  10388.0  ...   \n",
       "...                                 ...             ...      ...  ...   \n",
       "61783             CYTEC DE MEXICO 600KW       SIN SERIE  13022.0  ...   \n",
       "61784             CYTEC DE MEXICO 845KW       SIN SERIE  13023.0  ...   \n",
       "61785             CYTEC DE MEXICO 355KW       SIN SERIE  13024.0  ...   \n",
       "61786             CASINO VIVENTO 750 KW        37225305  13180.0  ...   \n",
       "61787         AURRERA LOS PORTALES 4785        84838492  12733.0  ...   \n",
       "\n",
       "      FACTURA FIRMADA FOTOS REPORTE ESPECIAL Incluye materiales  \\\n",
       "0                 NaN   NaN              NaN                NaN   \n",
       "1                 NaN   NaN              NaN                NaN   \n",
       "2                 NaN   NaN              NaN                NaN   \n",
       "3                 NaN   NaN              NaN                NaN   \n",
       "4                 NaN   NaN              NaN                NaN   \n",
       "...               ...   ...              ...                ...   \n",
       "61783              NO    NO               NO                 NO   \n",
       "61784              NO    NO               NO                 NO   \n",
       "61785              NO    NO               NO                 NO   \n",
       "61786              NO    NO               NO                 NO   \n",
       "61787              NO    NO               NO                 NO   \n",
       "\n",
       "      FRECUENCIA DE OC PREVENTIVOS CORRECTIVOS Pendiente_Recoger  \\\n",
       "0                  NaN         NaN         NaN               NaN   \n",
       "1                  NaN         NaN         NaN               NaN   \n",
       "2                  NaN         NaN         NaN               NaN   \n",
       "3                  NaN         NaN         NaN               NaN   \n",
       "4                  NaN         NaN         NaN               NaN   \n",
       "...                ...         ...         ...               ...   \n",
       "61783               NO          NO          NO               NaN   \n",
       "61784               NO          NO          NO               NaN   \n",
       "61785               NO          NO          NO               NaN   \n",
       "61786               NO          NO          NO               NaN   \n",
       "61787               NO          NO          NO               NaN   \n",
       "\n",
       "        reprogramacion Politica  \n",
       "0      Sin_Reprogramar        0  \n",
       "1      Sin_Reprogramar        0  \n",
       "2      Sin_Reprogramar        0  \n",
       "3      Sin_Reprogramar        0  \n",
       "4      Sin_Reprogramar        0  \n",
       "...                ...      ...  \n",
       "61783    O.T. Agregada        0  \n",
       "61784    O.T. Agregada        0  \n",
       "61785    O.T. Agregada        0  \n",
       "61786    O.T. Agregada        0  \n",
       "61787    O.T. Agregada        0  \n",
       "\n",
       "[61788 rows x 109 columns]"
      ]
     },
     "execution_count": 446,
     "metadata": {},
     "output_type": "execute_result"
    }
   ],
   "source": [
    "result_df.assign(Politica=0)"
   ]
  },
  {
   "cell_type": "code",
   "execution_count": 447,
   "metadata": {},
   "outputs": [],
   "source": [
    "result_df['Politica'] = np.where(result_df['Requiere Acceso'].isnull(),\"NO\",\"SI\")"
   ]
  },
  {
   "cell_type": "code",
   "execution_count": 448,
   "metadata": {},
   "outputs": [
    {
     "name": "stdout",
     "output_type": "stream",
     "text": [
      "['Inicio programado', 'Orden', 'Plan mant.preventivo', 'Pto.tbjo.responsable', 'Status del sistema', 'Texto breve', 'Cliente', 'Denominación de objeto técnico', 'Número de serie', 'Equipo', 'Clase de orden', 'Fe.liberación real', 'Fecha inicio real', 'Material', 'Semana', 'N° de Reporte ', 'ESTATUS 19 SEPTIEMBRE', 'ESTATUS 20 SEPTIEMBRE', 'ESTATUS 22 SEPTIEMBRE', 'ESTATUS 23 SEPTIEMBRE', 'ESTATUS 26 SEPTIEMBRE', 'ESTATUS 27 SEPTIEMBRE', 'ESTATUS 28 SEPTIEMBRE', 'ESTATUS 29 SEPTIEMBRE', 'ESTATUS 03 OCTUBRE', 'ESTATUS 04 OCTUBRE', 'ESTATUS 05 OCTUBRE', 'ESTATUS 06 OCTUBRE', 'ESTATUS 07 OCTUBRE', 'ESTATUS 10 OCTUBRE', 'ESTATUS 11 OCTUBRE', 'ESTATUS 12 OCTUBRE', 'ESTATUS 13 OCTUBRE', 'ESTATUS 14 OCTUBRE', 'ESTATUS 17 OCTUBRE', 'ESTATUS 18 OCTUBRE', 'ESTATUS 20 OCTUBRE', 'ESTATUS 21 OCTUBRE', 'ESTATUS 24 OCTUBRE', 'ESTATUS 25 OCTUBRE', 'ESTATUS 26 OCTUBRE', 'ESTATUS 27 OCTUBRE', 'ESTATUS 28 OCTUBRE', 'ESTATUS 31 OCTUBRE', 'ESTATUS 01 NOVIEMBRE', 'ESTATUS 02 NOVIEMBRE', 'ESTATUS 03 NOVIEMBRE', 'ESTATUS 04 NOVIEMBRE', 'ESTATUS 07 NOVIEMBRE', 'DETALLE POLITICA', 'COMENTARIO ', 'Tipo Cliente', 'MES ', 'Mes2', 'Antiguedad', 'Gestora', 'Gpo Cliente', 'FORMATO ESPECIAL', 'SEMANA ANTERIORES ', 'FACTURA ', 'SOLO AMARILLO ', 'REPORTE INCOMPLETO ', 'LEVANTAMIENTO ', 'CONTRA RECIBO ', 'OC', 'Gestora.1', 'preventivos', 'correctivos', 'comentarios internos adiccionales', 'TecID', 'Short name', 'Estatus', 'City', 'Inicio programado2', 'Fecha de salida', 'Comentario', 'Material Separado', 'UBICACIÓN', 'ESTATUS COMPRA', 'PROVEEDOR', 'Fecha_reprogramada', 'Dirección', 'Cliente actual', 'Denominación de la ubicación técnica', 'gestora archivo anahi ', 'reportes archivo anahi ', 'Tipo Equipo', 'Frecuencia', 'Requiere Acceso', 'Tiempo aviso previo', 'Dia o fecha del Serv.', 'Horario', 'Curso', 'DC-3', 'Examenes Covid, antidoping, etc', 'Tiempo valido de prueba', 'Tecnicos para servicio', 'Requerimientos adicionales', 'Correo solicitud acceso', 'FACTURA FIRMADA', 'FOTOS', 'REPORTE ESPECIAL', 'Incluye materiales', 'FRECUENCIA DE OC', 'PREVENTIVOS', 'CORRECTIVOS', 'Pendiente_Recoger', 'reprogramacion', 'Politica']\n"
     ]
    }
   ],
   "source": [
    "print(list(result_df.columns.values))"
   ]
  },
  {
   "cell_type": "code",
   "execution_count": 449,
   "metadata": {},
   "outputs": [
    {
     "name": "stdout",
     "output_type": "stream",
     "text": [
      "61788\n",
      "59777\n"
     ]
    }
   ],
   "source": [
    "print(result_df.shape[0])\n",
    "print(programa.shape[0])"
   ]
  },
  {
   "cell_type": "code",
   "execution_count": 450,
   "metadata": {},
   "outputs": [
    {
     "name": "stdout",
     "output_type": "stream",
     "text": [
      "6879\n"
     ]
    }
   ],
   "source": [
    "reprogramaciones = result_df[result_df['reprogramacion'].isin(['Reprogramada'])]\n",
    "if datetime.today().strftime('%Y-%m-%d') == reprogramaciones_['Dia_reprogramado'].loc[0]:\n",
    "       repro_nuevas = 0\n",
    "       print(\"Sin Reprogramaciones nuevas\")\n",
    "       reprogramaciones = reprogramaciones_\n",
    "else:\n",
    "       reprogramaciones = reprogramaciones.assign(Dia_reprogramado = datetime.today().strftime('%Y-%m-%d'))\n",
    "       reprogramaciones = pd.concat([reprogramaciones,reprogramaciones_])\n",
    "       print(reprogramaciones.shape[0])"
   ]
  },
  {
   "cell_type": "code",
   "execution_count": 451,
   "metadata": {},
   "outputs": [],
   "source": [
    "listr = np.where(reportes.columns.str.contains('ESTATUS'), reportes.columns,\"\")\n",
    "i = 0\n",
    "eliminate = []\n",
    "for element in listr:\n",
    "    if element == \"\" : \n",
    "        eliminate.append(i)\n",
    "    i = i+1\n",
    "listr = np.delete(listr,eliminate)\n",
    "estatus_actual = listr[-1]\n",
    "listr = np.delete(listr,np.where(listr == estatus_actual))"
   ]
  },
  {
   "cell_type": "code",
   "execution_count": 452,
   "metadata": {},
   "outputs": [],
   "source": [
    "listr_ = ['COMENTARIO ','Tipo Cliente','MES ','Mes2','Antiguedad','Gestora','Gpo Cliente','FORMATO ESPECIAL',\n",
    "'SEMANA ANTERIORES ','FACTURA ','SOLO AMARILLO ','REPORTE INCOMPLETO ','LEVANTAMIENTO ','CONTRA RECIBO ',\n",
    "'Gestora','preventivos','correctivos','comentarios internos adiccionales','Gestora.1','TecID']\n",
    "mylist = np.concatenate((listr,listr_),axis=None)\n",
    "#reportes = reportes.drop(mylist,axis=1)"
   ]
  },
  {
   "cell_type": "code",
   "execution_count": 453,
   "metadata": {},
   "outputs": [],
   "source": [
    "reprogramaciones = reprogramaciones[['Orden', 'Inicio programado','Plan mant.preventivo', 'Pto.tbjo.responsable',\n",
    "       'Status del sistema', 'Texto breve', 'Cliente', 'Fecha inicio real',\n",
    "       'Fecha_reprogramada','Dia_reprogramado']]"
   ]
  },
  {
   "cell_type": "code",
   "execution_count": 454,
   "metadata": {},
   "outputs": [],
   "source": [
    "result_df = result_df.drop(mylist,axis=1)"
   ]
  },
  {
   "cell_type": "code",
   "execution_count": 456,
   "metadata": {},
   "outputs": [],
   "source": [
    "if repro_nuevas == 0 :\n",
    "    print(\"Se conservó el documento\")\n",
    "elif repro_nuevas != 0 : \n",
    "    os.remove(current_path + \"\\\\\" + \"Reprogramaciones.xlsx\")\n",
    "    path = current_path + \"\\\\\" + \"Reprogramaciones.xlsx\"   \n",
    "    reprogramaciones.to_excel(path, index=False,header=True)\n",
    "    with pd.ExcelWriter(path) as writer:\n",
    "        reprogramaciones.to_excel(writer,index=False,sheet_name=\"DB\")\n",
    "    os.startfile(path)"
   ]
  },
  {
   "cell_type": "code",
   "execution_count": 457,
   "metadata": {},
   "outputs": [],
   "source": [
    "result_df = result_df[['Inicio programado', 'Orden', 'reprogramacion', 'Fecha_reprogramada',    'Plan mant.preventivo', 'Pto.tbjo.responsable',\n",
    " 'Short name','Estatus', 'City', 'Status del sistema','Fe.liberación real', 'Fecha inicio real', 'Texto breve',\n",
    "'Cliente', 'Denominación de objeto técnico', 'Número de serie', 'Equipo', 'Dirección', 'Semana', 'N° de Reporte ', 'ESTATUS 07 NOVIEMBRE',\n",
    "'DETALLE POLITICA','Politica', 'gestora archivo anahi ', 'Frecuencia', 'Requiere Acceso', 'Tiempo aviso previo', 'Dia o fecha del Serv.',\n",
    "'Horario', 'Curso', 'DC-3', 'Examenes Covid, antidoping, etc', 'Tiempo valido de prueba','Tecnicos para servicio', 'Requerimientos adicionales',\n",
    "'Correo solicitud acceso', 'FACTURA FIRMADA', 'FOTOS', 'REPORTE ESPECIAL', 'Incluye materiales', 'OC','FRECUENCIA DE OC', 'PREVENTIVOS', 'CORRECTIVOS',\n",
    "'Material', 'Clase de orden','Pendiente_Recoger', 'Fecha de salida', 'Comentario']]"
   ]
  },
  {
   "cell_type": "code",
   "execution_count": 459,
   "metadata": {},
   "outputs": [],
   "source": [
    "os.remove(current_path + \"\\\\\" + \"Main.xlsx\")\n",
    "path = current_path + \"\\\\\" + \"Main.xlsx\"   \n",
    "result_df.to_excel(path, index=False,header=True)\n",
    "with pd.ExcelWriter(path) as writer:\n",
    "    result_df.to_excel(writer,index=False,sheet_name=\"DB\")\n",
    "os.startfile(path)"
   ]
  },
  {
   "cell_type": "code",
   "execution_count": 458,
   "metadata": {},
   "outputs": [
    {
     "name": "stdout",
     "output_type": "stream",
     "text": [
      "['Inicio programado', 'Orden', 'reprogramacion', 'Fecha_reprogramada', 'Plan mant.preventivo', 'Pto.tbjo.responsable', 'Short name', 'Estatus', 'City', 'Status del sistema', 'Fe.liberación real', 'Fecha inicio real', 'Texto breve', 'Cliente', 'Denominación de objeto técnico', 'Número de serie', 'Equipo', 'Dirección', 'Semana', 'N° de Reporte ', 'ESTATUS 07 NOVIEMBRE', 'DETALLE POLITICA', 'Politica', 'gestora archivo anahi ', 'Frecuencia', 'Requiere Acceso', 'Tiempo aviso previo', 'Dia o fecha del Serv.', 'Horario', 'Curso', 'DC-3', 'Examenes Covid, antidoping, etc', 'Tiempo valido de prueba', 'Tecnicos para servicio', 'Requerimientos adicionales', 'Correo solicitud acceso', 'FACTURA FIRMADA', 'FOTOS', 'REPORTE ESPECIAL', 'Incluye materiales', 'OC', 'FRECUENCIA DE OC', 'PREVENTIVOS', 'CORRECTIVOS', 'Material', 'Clase de orden', 'Pendiente_Recoger', 'Fecha de salida', 'Comentario']\n",
      "61788\n"
     ]
    }
   ],
   "source": [
    "print(list(result_df.columns.values))\n",
    "print(result_df.shape[0])"
   ]
  }
 ],
 "metadata": {
  "kernelspec": {
   "display_name": "Python 3.10.8 64-bit (microsoft store)",
   "language": "python",
   "name": "python3"
  },
  "language_info": {
   "codemirror_mode": {
    "name": "ipython",
    "version": 3
   },
   "file_extension": ".py",
   "mimetype": "text/x-python",
   "name": "python",
   "nbconvert_exporter": "python",
   "pygments_lexer": "ipython3",
   "version": "3.10.8"
  },
  "orig_nbformat": 4,
  "vscode": {
   "interpreter": {
    "hash": "a586a87fa9461efa0664adbffed0c35ba73766ebd5c97abf5aabaa383b674146"
   }
  }
 },
 "nbformat": 4,
 "nbformat_minor": 2
}

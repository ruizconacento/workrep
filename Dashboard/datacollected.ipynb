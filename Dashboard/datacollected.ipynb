{
 "cells": [
  {
   "cell_type": "code",
   "execution_count": 225,
   "metadata": {},
   "outputs": [],
   "source": [
    "#import libraries used into\n",
    "from datetime import datetime, timedelta\n",
    "import pandas as pd, numpy as np, os"
   ]
  },
  {
   "cell_type": "code",
   "execution_count": 226,
   "metadata": {},
   "outputs": [
    {
     "name": "stdout",
     "output_type": "stream",
     "text": [
      "<class 'pandas.core.frame.DataFrame'>\n"
     ]
    }
   ],
   "source": [
    "DS = {\n",
    "    'Test' : ['1','2','3'],\n",
    "    'Results' : ['1','2','3']\n",
    "}\n",
    "DF = pd.DataFrame(DS)\n",
    "print(type(DF))"
   ]
  },
  {
   "cell_type": "code",
   "execution_count": 227,
   "metadata": {},
   "outputs": [
    {
     "name": "stdout",
     "output_type": "stream",
     "text": [
      "fileam:  OT 22.11.2022.XLSX\n",
      "OT 18.11.2022.XLSX\n"
     ]
    }
   ],
   "source": [
    "##First, the vars was created\n",
    "fileam = \"OT \" + datetime.now().strftime('%d.%m.%Y') + \".XLSX\"\n",
    "print(\"fileam: \", fileam)\n",
    "fileyest = \"OT \" + (datetime.today() - timedelta(days = 4)).strftime('%d.%m.%Y' + \".XLSX\")\n",
    "print(fileyest)\n",
    "\"\"\"\n",
    "if datetime.today().strftime('%A') == \"Monday\":\n",
    "    fileyest = \"OT \" + (datetime.today() - timedelta(days = 3)).strftime('%d.%m.%Y' + \".XLSX\")\n",
    "    print(\"fileyest: \", fileyest)\n",
    "else:\n",
    "    fileyest = \"OT \" + (datetime.today() - timedelta(days = 1)).strftime('%d.%m.%Y' + \".XLSX\")\n",
    "    print(\"fileyest: \", fileyest)\n",
    "\"\"\"\n",
    "main_path = \"C:\\\\Users\\\\mruiz\\\\Documents\\\\DB OT\\\\\" \n",
    "current_path = \"C:\\\\Users\\\\mruiz\\\\Documents\\\\DB OT\\\\CurrentDocuments\"\n",
    "current_month = datetime.now().strftime('%B')\n",
    "current_path_ = os.listdir(current_path)\n",
    "main_path_ = os.listdir(main_path)\n",
    "data_yesterday_excel = {}\n",
    "data_am_excel = {}\n",
    "repro_nuevas = 1"
   ]
  },
  {
   "cell_type": "code",
   "execution_count": 228,
   "metadata": {},
   "outputs": [],
   "source": [
    "def get_data(entry_data):\n",
    "    file = main_path + entry_data\n",
    "    filexcel = pd.read_excel(file,sheet_name=\"Sheet1\")\n",
    "    print(\"Los datos del archivo \", entry_data, \" fueron procesados\")\n",
    "    return filexcel"
   ]
  },
  {
   "cell_type": "code",
   "execution_count": 229,
   "metadata": {},
   "outputs": [
    {
     "name": "stdout",
     "output_type": "stream",
     "text": [
      "Los datos del archivo  OT 18.11.2022.XLSX  fueron procesados\n",
      "Los datos del archivo  OT 22.11.2022.XLSX  fueron procesados\n"
     ]
    }
   ],
   "source": [
    "while True:\n",
    "    try:\n",
    "        data_yesterday_excel = get_data(fileyest)\n",
    "        data_am_excel = get_data(fileam)\n",
    "        break\n",
    "    except FileNotFoundError:\n",
    "        print(\"Hay al menos un archivo que no fue leído: \")\n",
    "        print(\"Archivo Ayer : \", type(data_yesterday_excel))\n",
    "        print(\"Archivo hoy por la mañana: \", type(data_am_excel))\n",
    "        break"
   ]
  },
  {
   "cell_type": "code",
   "execution_count": 230,
   "metadata": {},
   "outputs": [
    {
     "name": "stdout",
     "output_type": "stream",
     "text": [
      "Los datos de la mañana fueron seleccionados\n"
     ]
    }
   ],
   "source": [
    "if type(data_am_excel) == type(data_yesterday_excel):\n",
    "    programa = data_am_excel\n",
    "    print(\"Los datos de la mañana fueron seleccionados\")\n",
    "else :\n",
    "    print(\"Error\")"
   ]
  },
  {
   "cell_type": "code",
   "execution_count": 231,
   "metadata": {},
   "outputs": [],
   "source": [
    "data2 =current_path + \"\\\\Master_OT.xlsx\"\n",
    "nombres = pd.read_excel(data2, sheet_name=\"Names\", header=0)"
   ]
  },
  {
   "cell_type": "code",
   "execution_count": 232,
   "metadata": {},
   "outputs": [],
   "source": [
    "data3 = current_path + \"\\\\Politicas.XLSX\"\n",
    "politicas = pd.read_excel(data3, sheet_name=\"POLITICAS CONTRATO\", header=0)"
   ]
  },
  {
   "cell_type": "code",
   "execution_count": 233,
   "metadata": {},
   "outputs": [],
   "source": [
    "data7 = current_path + \"\\\\Ubicaciones_Equipos.xlsx\"\n",
    "ubicaciones = pd.read_excel(data7, sheet_name=\"Sheet1\", header=0)"
   ]
  },
  {
   "cell_type": "code",
   "execution_count": 234,
   "metadata": {},
   "outputs": [],
   "source": [
    "data8 = current_path + \"\\\\Reprogramaciones.xlsx\"\n",
    "reprogramaciones_ = pd.read_excel(data8, sheet_name=\"DB\", header=0)"
   ]
  },
  {
   "cell_type": "code",
   "execution_count": 235,
   "metadata": {},
   "outputs": [],
   "source": [
    "reprogramaciones = data_yesterday_excel.copy()"
   ]
  },
  {
   "cell_type": "code",
   "execution_count": 236,
   "metadata": {},
   "outputs": [],
   "source": [
    "reprogramaciones.rename(columns={'Inicio programado':'Fecha_reprogramada'}, inplace=True)"
   ]
  },
  {
   "cell_type": "code",
   "execution_count": 237,
   "metadata": {},
   "outputs": [],
   "source": [
    "programa['Material'] = np.where((programa['Clase de orden'] == 'ZMCP') &  (programa['Texto breve'].str.contains('Emer|Revi', case=False)), 'NO',\n",
    "np.where(programa['Clase de orden'] == 'ZPM2','SI',\n",
    "np.where(programa['Clase de orden'] == 'ZMCP','SI',\n",
    "np.where(programa['Clase de orden'] == 'ZMCI', 'SI',\n",
    "np.where((programa['Clase de orden'] == 'ZPM1') &  (programa['Texto breve'].str.contains('CAFA|CABAT|ACUM', case=False)), 'SI','NO')))))"
   ]
  },
  {
   "cell_type": "code",
   "execution_count": 238,
   "metadata": {},
   "outputs": [],
   "source": [
    "#print('Las columnas de programa son', list(programa.columns.values))\n",
    "#print('Las columnas de nombres son', list(nombres.columns.values))\n",
    "#print('Las columnas de politicas son', list(politicas.columns.values))\n",
    "#print('Las columnas de material local son', list(mlocal.columns.values))\n",
    "#print('Las columnas de material foraneo son', list(mforaneo.columns.values))\n",
    "#print('Las columnas de las repro son ',list(reprogramaciones.columns.values))\n",
    "#print('Las columnas de reportes son ', list(reportes.columns.values))\n",
    "#print('Las columnas de ubicaciones son', list(ubicaciones.columns.values))\n",
    "#print(list(result_df.columns.values))"
   ]
  },
  {
   "cell_type": "markdown",
   "metadata": {},
   "source": [
    "COMIENZAN LOS MERGE"
   ]
  },
  {
   "cell_type": "code",
   "execution_count": 239,
   "metadata": {},
   "outputs": [],
   "source": [
    "repro_columns = ['Fecha_reprogramada', 'Orden']"
   ]
  },
  {
   "cell_type": "code",
   "execution_count": 240,
   "metadata": {},
   "outputs": [],
   "source": [
    "result_df = pd.merge(programa,reprogramaciones[repro_columns],on='Orden',how='left' )"
   ]
  },
  {
   "cell_type": "code",
   "execution_count": 241,
   "metadata": {},
   "outputs": [],
   "source": [
    "result_df = pd.merge(left=result_df,right=nombres,left_on='Pto.tbjo.responsable', right_on='TecID',how='left')"
   ]
  },
  {
   "cell_type": "code",
   "execution_count": 242,
   "metadata": {},
   "outputs": [],
   "source": [
    "politicas_columns = ['Equipo','gestora archivo anahi ', 'reportes archivo anahi ', 'Tipo Equipo', 'Frecuencia', \n",
    "'Requiere Acceso', 'Tiempo aviso previo', 'Dia o fecha del Serv.', 'Horario', 'Curso', 'DC-3', \n",
    "'Examenes Covid, antidoping, etc', 'Tiempo valido de prueba', 'Tecnicos para servicio', 'Requerimientos adicionales', \n",
    "'Correo solicitud acceso', 'FACTURA FIRMADA', 'FOTOS', 'REPORTE ESPECIAL', 'Incluye materiales', 'OC', 'FRECUENCIA DE OC', \n",
    "'PREVENTIVOS', 'CORRECTIVOS']"
   ]
  },
  {
   "cell_type": "code",
   "execution_count": 243,
   "metadata": {},
   "outputs": [],
   "source": [
    "result_df = pd.merge(result_df,politicas[politicas_columns],on='Equipo',how='left')"
   ]
  },
  {
   "cell_type": "code",
   "execution_count": 244,
   "metadata": {},
   "outputs": [],
   "source": [
    "ubicaciones_columns = ['Equipo', 'Dirección', 'Latitud', 'Longitud']"
   ]
  },
  {
   "cell_type": "code",
   "execution_count": 245,
   "metadata": {},
   "outputs": [],
   "source": [
    "result_df = pd.merge(result_df,ubicaciones[ubicaciones_columns],on='Equipo',how='left')"
   ]
  },
  {
   "cell_type": "markdown",
   "metadata": {},
   "source": [
    "TERMINAN LOS MERGE"
   ]
  },
  {
   "cell_type": "code",
   "execution_count": 246,
   "metadata": {},
   "outputs": [
    {
     "name": "stdout",
     "output_type": "stream",
     "text": [
      "['Inicio programado', 'Orden', 'Plan mant.preventivo', 'Pto.tbjo.responsable', 'Status del sistema', 'Texto breve', 'Cliente', 'Denominación de objeto técnico', 'Número de serie', 'Equipo', 'Clase de orden', 'Fe.liberación real', 'Fecha inicio real', 'Material', 'Fecha_reprogramada', 'TecID', 'Short name', 'Estatus', 'City', 'Center', 'gestora archivo anahi ', 'reportes archivo anahi ', 'Tipo Equipo', 'Frecuencia', 'Requiere Acceso', 'Tiempo aviso previo', 'Dia o fecha del Serv.', 'Horario', 'Curso', 'DC-3', 'Examenes Covid, antidoping, etc', 'Tiempo valido de prueba', 'Tecnicos para servicio', 'Requerimientos adicionales', 'Correo solicitud acceso', 'FACTURA FIRMADA', 'FOTOS', 'REPORTE ESPECIAL', 'Incluye materiales', 'OC', 'FRECUENCIA DE OC', 'PREVENTIVOS', 'CORRECTIVOS', 'Dirección', 'Latitud', 'Longitud']\n"
     ]
    }
   ],
   "source": [
    "print(list(result_df.columns.values))"
   ]
  },
  {
   "cell_type": "code",
   "execution_count": 247,
   "metadata": {},
   "outputs": [],
   "source": [
    "result_df.assign(reprogramacion=0);"
   ]
  },
  {
   "cell_type": "code",
   "execution_count": 248,
   "metadata": {},
   "outputs": [],
   "source": [
    "reprogramaciones = result_df.copy()"
   ]
  },
  {
   "cell_type": "code",
   "execution_count": 249,
   "metadata": {},
   "outputs": [],
   "source": [
    "result_df['reprogramacion'] = np.where(result_df['Inicio programado']==reprogramaciones['Fecha_reprogramada'], \"Sin_Reprogramar\",\"Reprogramada\")\n",
    "result_df['reprogramacion'] = np.where(result_df['Fecha_reprogramada'].isnull(),\"Sin estatus\",result_df['reprogramacion'])"
   ]
  },
  {
   "cell_type": "code",
   "execution_count": 260,
   "metadata": {},
   "outputs": [
    {
     "name": "stdout",
     "output_type": "stream",
     "text": [
      "['Sin_Reprogramar' 'Reprogramada' 'Sin estatus']\n"
     ]
    }
   ],
   "source": [
    "print(result_df['reprogramacion'].unique())"
   ]
  },
  {
   "cell_type": "code",
   "execution_count": 261,
   "metadata": {},
   "outputs": [],
   "source": [
    "result_df['Politica'] = np.where(result_df['Requiere Acceso'].isnull(),\"NO\",\"SI\")\n",
    "result_df['Servicio'] = np.where(result_df['Orden'].isnull(), int(\"0\"),int(\"1\"))"
   ]
  },
  {
   "cell_type": "code",
   "execution_count": 262,
   "metadata": {},
   "outputs": [
    {
     "name": "stdout",
     "output_type": "stream",
     "text": [
      "40967\n",
      "40967\n"
     ]
    }
   ],
   "source": [
    "print(result_df.shape[0])\n",
    "print(programa.shape[0])"
   ]
  },
  {
   "cell_type": "code",
   "execution_count": 263,
   "metadata": {},
   "outputs": [
    {
     "name": "stdout",
     "output_type": "stream",
     "text": [
      "Sin Reprogramaciones nuevas\n"
     ]
    }
   ],
   "source": [
    "reprogramaciones = result_df[result_df['reprogramacion'].isin(['Reprogramada'])]\n",
    "if datetime.today().strftime('%Y-%m-%d') == reprogramaciones_['Dia_reprogramado'].loc[0]:\n",
    "       repro_nuevas = 0\n",
    "       print(\"Sin Reprogramaciones nuevas\")\n",
    "       reprogramaciones = reprogramaciones_\n",
    "else:\n",
    "       reprogramaciones = reprogramaciones.assign(Dia_reprogramado = datetime.today().strftime('%Y-%m-%d'))\n",
    "       reprogramaciones = pd.concat([reprogramaciones,reprogramaciones_])\n",
    "       print(reprogramaciones.shape[0])"
   ]
  },
  {
   "cell_type": "code",
   "execution_count": 264,
   "metadata": {},
   "outputs": [],
   "source": [
    "reprogramaciones = reprogramaciones[['Orden', 'Inicio programado','Plan mant.preventivo', 'Pto.tbjo.responsable',\n",
    "       'Status del sistema', 'Texto breve', 'Cliente', 'Fecha inicio real',\n",
    "       'Fecha_reprogramada','Dia_reprogramado']]"
   ]
  },
  {
   "cell_type": "code",
   "execution_count": 265,
   "metadata": {},
   "outputs": [
    {
     "name": "stdout",
     "output_type": "stream",
     "text": [
      "Se conservó el documento\n"
     ]
    }
   ],
   "source": [
    "if repro_nuevas == 0 :\n",
    "    print(\"Se conservó el documento\")\n",
    "elif repro_nuevas != 0 : \n",
    "    os.remove(current_path + \"\\\\\" + \"Reprogramaciones.xlsx\")\n",
    "    path = current_path + \"\\\\\" + \"Reprogramaciones.xlsx\"   \n",
    "    reprogramaciones.to_excel(path, index=False,header=True)\n",
    "    with pd.ExcelWriter(path) as writer:\n",
    "        reprogramaciones.to_excel(writer,index=False,sheet_name=\"DB\")\n",
    "    os.startfile(path)"
   ]
  },
  {
   "cell_type": "code",
   "execution_count": 266,
   "metadata": {},
   "outputs": [
    {
     "name": "stdout",
     "output_type": "stream",
     "text": [
      "['Inicio programado', 'Orden', 'reprogramacion', 'Fecha_reprogramada', 'Plan mant.preventivo', 'Pto.tbjo.responsable', 'Short name', 'Estatus', 'City', 'Status del sistema', 'Servicio', 'Fe.liberación real', 'Fecha inicio real', 'Texto breve', 'Cliente', 'Denominación de objeto técnico', 'Número de serie', 'Equipo', 'Dirección', 'Politica', 'gestora archivo anahi ', 'Frecuencia', 'Requiere Acceso', 'Tiempo aviso previo', 'Dia o fecha del Serv.', 'Horario', 'Curso', 'DC-3', 'Examenes Covid, antidoping, etc', 'Tiempo valido de prueba', 'Tecnicos para servicio', 'Requerimientos adicionales', 'Correo solicitud acceso', 'FACTURA FIRMADA', 'FOTOS', 'REPORTE ESPECIAL', 'Incluye materiales', 'OC', 'FRECUENCIA DE OC', 'PREVENTIVOS', 'CORRECTIVOS', 'Material', 'Clase de orden']\n"
     ]
    }
   ],
   "source": [
    "print(list(result_df.columns.values))"
   ]
  },
  {
   "cell_type": "code",
   "execution_count": 267,
   "metadata": {},
   "outputs": [],
   "source": [
    "result_df = result_df[['Inicio programado', 'Orden', 'reprogramacion', 'Fecha_reprogramada',    'Plan mant.preventivo', 'Pto.tbjo.responsable',\n",
    " 'Short name','Estatus', 'City', 'Status del sistema','Servicio','Fe.liberación real', 'Fecha inicio real', 'Texto breve',\n",
    "'Cliente', 'Denominación de objeto técnico', 'Número de serie', 'Equipo', 'Dirección',\n",
    "'Politica', 'gestora archivo anahi ', 'Frecuencia', 'Requiere Acceso', 'Tiempo aviso previo', 'Dia o fecha del Serv.',\n",
    "'Horario', 'Curso', 'DC-3', 'Examenes Covid, antidoping, etc', 'Tiempo valido de prueba','Tecnicos para servicio', 'Requerimientos adicionales',\n",
    "'Correo solicitud acceso', 'FACTURA FIRMADA', 'FOTOS', 'REPORTE ESPECIAL', 'Incluye materiales', 'OC','FRECUENCIA DE OC', 'PREVENTIVOS', 'CORRECTIVOS',\n",
    "'Material', 'Clase de orden']]"
   ]
  },
  {
   "cell_type": "code",
   "execution_count": 268,
   "metadata": {},
   "outputs": [],
   "source": [
    "os.remove(current_path + \"\\\\\" + \"Main.xlsx\")\n",
    "path = current_path + \"\\\\\" + \"Main.xlsx\"   \n",
    "result_df.to_excel(path, index=False,header=True)\n",
    "with pd.ExcelWriter(path) as writer:\n",
    "    result_df.to_excel(writer,index=False,sheet_name=\"DB\")\n",
    "os.startfile(path)"
   ]
  },
  {
   "cell_type": "code",
   "execution_count": null,
   "metadata": {},
   "outputs": [],
   "source": []
  }
 ],
 "metadata": {
  "kernelspec": {
   "display_name": "Python 3.10.8 64-bit (microsoft store)",
   "language": "python",
   "name": "python3"
  },
  "language_info": {
   "codemirror_mode": {
    "name": "ipython",
    "version": 3
   },
   "file_extension": ".py",
   "mimetype": "text/x-python",
   "name": "python",
   "nbconvert_exporter": "python",
   "pygments_lexer": "ipython3",
   "version": "3.10.8"
  },
  "orig_nbformat": 4,
  "vscode": {
   "interpreter": {
    "hash": "a586a87fa9461efa0664adbffed0c35ba73766ebd5c97abf5aabaa383b674146"
   }
  }
 },
 "nbformat": 4,
 "nbformat_minor": 2
}

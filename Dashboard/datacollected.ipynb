{
 "cells": [
  {
   "cell_type": "code",
   "execution_count": 770,
   "metadata": {},
   "outputs": [],
   "source": [
    "#import libraries used into\n",
    "from datetime import datetime, timedelta\n",
    "import pandas as pd, numpy as np, os, time\n",
    "from pydrive2.auth import GoogleAuth\n",
    "from pydrive2.drive import GoogleDrive\n",
    "from pydrive2.files import FileNotUploadedError\n",
    "directorio_credenciales = 'credentials_module.json'"
   ]
  },
  {
   "cell_type": "code",
   "execution_count": 771,
   "metadata": {},
   "outputs": [],
   "source": [
    "def login():\n",
    "    GoogleAuth.DEFAULT_SETTINGS['client_config_file'] = directorio_credenciales\n",
    "    gauth = GoogleAuth()\n",
    "    gauth.LoadCredentialsFile(directorio_credenciales)\n",
    "    \n",
    "    if gauth.credentials is None:\n",
    "        gauth.LocalWebserverAuth(port_numbers=[8092])\n",
    "    elif gauth.access_token_expired:\n",
    "        gauth.Refresh()\n",
    "    else:\n",
    "        gauth.Authorize()\n",
    "        \n",
    "    gauth.SaveCredentialsFile(directorio_credenciales)\n",
    "    credenciales = GoogleDrive(gauth)\n",
    "    return credenciales\n",
    "def subir_archivo(ruta_archivo,id_folder):\n",
    "    credenciales = login()\n",
    "    archivo = credenciales.CreateFile({'parents': [{\"kind\": \"drive#fileLink\",\\\n",
    "                                                    \"id\": id_folder}]})\n",
    "    archivo['title'] = ruta_archivo.split(\"/\")[-1]\n",
    "    archivo.SetContentFile(ruta_archivo)\n",
    "    archivo.Upload()\n",
    "def bajar_archivo_por_id(id_drive,ruta_descarga):\n",
    "    credenciales = login()\n",
    "    archivo = credenciales.CreateFile({'id': id_drive}) \n",
    "    nombre_archivo = archivo['title']\n",
    "    archivo.GetContentFile(ruta_descarga + nombre_archivo)\n",
    "def busca(query):\n",
    "    resultado = []\n",
    "    credenciales = login()\n",
    "    # Archivos con el nombre 'mooncode': title = 'mooncode'\n",
    "    # Archivos que contengan 'mooncode' y 'mooncoders': title contains 'mooncode' and title contains 'mooncoders'\n",
    "    # Archivos que NO contengan 'mooncode': not title contains 'mooncode'\n",
    "    # Archivos que contengan 'mooncode' dentro del archivo: fullText contains 'mooncode'\n",
    "    # Archivos en el basurero: trashed=true\n",
    "    # Archivos que se llamen 'mooncode' y no esten en el basurero: title = 'mooncode' and trashed = false\n",
    "    lista_archivos = credenciales.ListFile({'q': query}).GetList()\n",
    "    for f in lista_archivos:\n",
    "        # ID Drive\n",
    "        print('ID Drive:',f['id'])\n",
    "        # Link de visualizacion embebido\n",
    "        print('Link de visualizacion embebido:',f['embedLink'])\n",
    "        # Nombre del archivo\n",
    "        print('Nombre del archivo:',f['title'])\n",
    "        # Tipo de archivo\n",
    "        print('Tipo de archivo:',f['mimeType'])\n",
    "        # Esta en el basurero\n",
    "        print('Esta en el basurero:',f['labels']['trashed'])\n",
    "        # Fecha de creacion\n",
    "        print('Fecha de creacion:',f['createdDate'])\n",
    "        # Fecha de ultima modificacion\n",
    "        print('Fecha de ultima modificacion:',f['modifiedDate'])\n",
    "        # Version\n",
    "        print('Version:',f['version'])\n",
    "        # Tamanio\n",
    "        print('Tamanio:',f['fileSize'])\n",
    "        resultado.append(f)\n",
    "    \n",
    "    return resultado\n",
    "def borrar_recuperar(id_archivo):\n",
    "    credenciales = login()\n",
    "    archivo = credenciales.CreateFile({'id': id_archivo})\n",
    "    # MOVER A BASURERO\n",
    "    #archivo.Trash()\n",
    "    # SACAR DE BASURERO\n",
    "    #archivo.UnTrash()\n",
    "    # ELIMINAR PERMANENTEMENTE\n",
    "    archivo.Delete()"
   ]
  },
  {
   "cell_type": "code",
   "execution_count": 772,
   "metadata": {},
   "outputs": [
    {
     "name": "stdout",
     "output_type": "stream",
     "text": [
      "ID Drive: 1GU62-GL3TTF8kUbt2h2aciqFXqh7RDlJ\n",
      "Link de visualizacion embebido: https://drive.google.com/file/d/1GU62-GL3TTF8kUbt2h2aciqFXqh7RDlJ/preview?usp=drivesdk\n",
      "Nombre del archivo: OT 25.11.2022.XLSX\n",
      "Tipo de archivo: application/vnd.openxmlformats-officedocument.spreadsheetml.sheet\n",
      "Esta en el basurero: False\n",
      "Fecha de creacion: 2022-11-25T18:38:46.865Z\n",
      "Fecha de ultima modificacion: 2022-11-25T15:25:00.000Z\n",
      "Version: 5\n",
      "Tamanio: 3279768\n",
      "ID Drive: 1wxzd2pqHw8BD-lmtEibc51NNSsbxSNyN\n",
      "Link de visualizacion embebido: https://drive.google.com/file/d/1wxzd2pqHw8BD-lmtEibc51NNSsbxSNyN/preview?usp=drivesdk\n",
      "Nombre del archivo: OT 25.11.2022.XLSX\n",
      "Tipo de archivo: application/vnd.openxmlformats-officedocument.spreadsheetml.sheet\n",
      "Esta en el basurero: False\n",
      "Fecha de creacion: 2022-11-25T17:10:55.544Z\n",
      "Fecha de ultima modificacion: 2022-11-25T17:10:55.544Z\n",
      "Version: 3\n",
      "Tamanio: 3279768\n",
      "ID Drive: 1WjLVCsHsRZnzx9yGuyfhkzx5l7qLJTZI\n",
      "Link de visualizacion embebido: https://drive.google.com/file/d/1WjLVCsHsRZnzx9yGuyfhkzx5l7qLJTZI/preview?usp=drivesdk\n",
      "Nombre del archivo: OT 18.11.2022 5 P.M..XLSX\n",
      "Tipo de archivo: application/vnd.openxmlformats-officedocument.spreadsheetml.sheet\n",
      "Esta en el basurero: False\n",
      "Fecha de creacion: 2022-11-25T21:08:15.188Z\n",
      "Fecha de ultima modificacion: 2022-11-18T23:48:08.000Z\n",
      "Version: 3\n",
      "Tamanio: 7715096\n",
      "ID Drive: 1bkH3ocS0BsE0q64g0WUf8Ju-za4LNwIC\n",
      "Link de visualizacion embebido: https://drive.google.com/file/d/1bkH3ocS0BsE0q64g0WUf8Ju-za4LNwIC/preview?usp=drivesdk\n",
      "Nombre del archivo: OT 22.11.2022.XLSX\n",
      "Tipo de archivo: application/vnd.openxmlformats-officedocument.spreadsheetml.sheet\n",
      "Esta en el basurero: False\n",
      "Fecha de creacion: 2022-11-25T19:00:48.197Z\n",
      "Fecha de ultima modificacion: 2022-11-22T15:04:00.000Z\n",
      "Version: 3\n",
      "Tamanio: 3230754\n",
      "ID Drive: 1T6ykewraF6IP3YZxUhi4tOq-ZAfpJMiy\n",
      "Link de visualizacion embebido: https://drive.google.com/file/d/1T6ykewraF6IP3YZxUhi4tOq-ZAfpJMiy/preview?usp=drivesdk\n",
      "Nombre del archivo: OT 16.11.2022.XLSX\n",
      "Tipo de archivo: application/vnd.openxmlformats-officedocument.spreadsheetml.sheet\n",
      "Esta en el basurero: False\n",
      "Fecha de creacion: 2022-11-25T19:15:51.420Z\n",
      "Fecha de ultima modificacion: 2022-11-16T14:43:00.000Z\n",
      "Version: 3\n",
      "Tamanio: 6026059\n",
      "ID Drive: 1mFKxQc8pUOqZsmxonxjezOzu_s9_x4A6DnZipL-rHIo\n",
      "Link de visualizacion embebido: https://docs.google.com/forms/d/1mFKxQc8pUOqZsmxonxjezOzu_s9_x4A6DnZipL-rHIo/viewform?embedded=true&usp=drivesdk\n",
      "Nombre del archivo: Repositorio O.T. ZOHO\n",
      "Tipo de archivo: application/vnd.google-apps.form\n",
      "Esta en el basurero: False\n",
      "Fecha de creacion: 2022-11-24T23:12:10.214Z\n",
      "Fecha de ultima modificacion: 2022-11-24T23:14:42.670Z\n",
      "Version: 9\n",
      "Tamanio: 1024\n",
      "ID Drive: 1vVieyTDEj6yBMZ2XOeOYNNeuZWwJW7Gq\n",
      "Link de visualizacion embebido: https://drive.google.com/file/d/1vVieyTDEj6yBMZ2XOeOYNNeuZWwJW7Gq/preview?usp=drivesdk\n",
      "Nombre del archivo: OT 24.11.2022.XLSX\n",
      "Tipo de archivo: application/vnd.openxmlformats-officedocument.spreadsheetml.sheet\n",
      "Esta en el basurero: False\n",
      "Fecha de creacion: 2022-11-24T23:15:16.847Z\n",
      "Fecha de ultima modificacion: 2022-11-24T15:59:00.000Z\n",
      "Version: 5\n",
      "Tamanio: 3240745\n",
      "ID Drive: 1U4yJ5meobrd9IgighOgMYiCxYka3VfJT\n",
      "Link de visualizacion embebido: https://drive.google.com/file/d/1U4yJ5meobrd9IgighOgMYiCxYka3VfJT/preview?usp=drivesdk\n",
      "Nombre del archivo: OT 23.11.2022.XLSX\n",
      "Tipo de archivo: application/vnd.openxmlformats-officedocument.spreadsheetml.sheet\n",
      "Esta en el basurero: False\n",
      "Fecha de creacion: 2022-11-24T23:15:00.159Z\n",
      "Fecha de ultima modificacion: 2022-11-23T15:40:00.000Z\n",
      "Version: 5\n",
      "Tamanio: 3239057\n",
      "ID Drive: 1RbB4CuinpfWFHe_aJJEc2gdwjhyqeJFj\n",
      "Link de visualizacion embebido: https://drive.google.com/file/d/1RbB4CuinpfWFHe_aJJEc2gdwjhyqeJFj/preview?usp=drivesdk\n",
      "Nombre del archivo: OT 18.11.2022 5 P.M. - Miguel Ruiz.XLSX\n",
      "Tipo de archivo: application/vnd.openxmlformats-officedocument.spreadsheetml.sheet\n",
      "Esta en el basurero: False\n",
      "Fecha de creacion: 2022-11-25T21:08:17.335Z\n",
      "Fecha de ultima modificacion: 2022-11-25T21:08:17.335Z\n",
      "Version: 4\n",
      "Tamanio: 7715096\n",
      "ID Drive: 1TRY7xbQBE5snhq91cjnyw3l2e7p76N5Y\n",
      "Link de visualizacion embebido: https://drive.google.com/file/d/1TRY7xbQBE5snhq91cjnyw3l2e7p76N5Y/preview?usp=drivesdk\n",
      "Nombre del archivo: OT 16.11.2022 - Miguel Ruiz.XLSX\n",
      "Tipo de archivo: application/vnd.openxmlformats-officedocument.spreadsheetml.sheet\n",
      "Esta en el basurero: False\n",
      "Fecha de creacion: 2022-11-25T19:15:53.997Z\n",
      "Fecha de ultima modificacion: 2022-11-25T19:15:53.997Z\n",
      "Version: 4\n",
      "Tamanio: 6026059\n",
      "ID Drive: 1cI2w0bgpVkiGyYu0RPCJLyZ2RPuSAKGa\n",
      "Link de visualizacion embebido: https://drive.google.com/file/d/1cI2w0bgpVkiGyYu0RPCJLyZ2RPuSAKGa/preview?usp=drivesdk\n",
      "Nombre del archivo: OT 22.11.2022 - Miguel Ruiz.XLSX\n",
      "Tipo de archivo: application/vnd.openxmlformats-officedocument.spreadsheetml.sheet\n",
      "Esta en el basurero: False\n",
      "Fecha de creacion: 2022-11-25T19:00:51.400Z\n",
      "Fecha de ultima modificacion: 2022-11-25T19:00:51.400Z\n",
      "Version: 4\n",
      "Tamanio: 3230754\n",
      "ID Drive: 1Y6g-wM4fjjdearCjHZ1puBWT4Myqbibl\n",
      "Link de visualizacion embebido: https://drive.google.com/file/d/1Y6g-wM4fjjdearCjHZ1puBWT4Myqbibl/preview?usp=drivesdk\n",
      "Nombre del archivo: OT 25.11.2022 - Miguel Ruiz.XLSX\n",
      "Tipo de archivo: application/vnd.openxmlformats-officedocument.spreadsheetml.sheet\n",
      "Esta en el basurero: False\n",
      "Fecha de creacion: 2022-11-25T18:38:49.895Z\n",
      "Fecha de ultima modificacion: 2022-11-25T18:38:49.895Z\n",
      "Version: 4\n",
      "Tamanio: 3279768\n",
      "ID Drive: 1HPC0K2NOd_suKrSVjketbtaxdZ2xJDFW\n",
      "Link de visualizacion embebido: https://drive.google.com/file/d/1HPC0K2NOd_suKrSVjketbtaxdZ2xJDFW/preview?usp=drivesdk\n",
      "Nombre del archivo: OT 24.11.2022 - Miguel Ruiz.XLSX\n",
      "Tipo de archivo: application/vnd.openxmlformats-officedocument.spreadsheetml.sheet\n",
      "Esta en el basurero: False\n",
      "Fecha de creacion: 2022-11-24T23:15:19.839Z\n",
      "Fecha de ultima modificacion: 2022-11-24T23:15:19.839Z\n",
      "Version: 4\n",
      "Tamanio: 3240745\n",
      "ID Drive: 13gOuRIx3bjZkfWIBCr_rBISH-jiioswk\n",
      "Link de visualizacion embebido: https://drive.google.com/file/d/13gOuRIx3bjZkfWIBCr_rBISH-jiioswk/preview?usp=drivesdk\n",
      "Nombre del archivo: OT 23.11.2022 - Miguel Ruiz.XLSX\n",
      "Tipo de archivo: application/vnd.openxmlformats-officedocument.spreadsheetml.sheet\n",
      "Esta en el basurero: False\n",
      "Fecha de creacion: 2022-11-24T23:15:03.592Z\n",
      "Fecha de ultima modificacion: 2022-11-24T23:15:03.592Z\n",
      "Version: 4\n",
      "Tamanio: 3239057\n",
      "ID Drive: 1nASUbQ5jw1mvztep-Wlkxugoeax18v8d\n",
      "Link de visualizacion embebido: https://drive.google.com/file/d/1nASUbQ5jw1mvztep-Wlkxugoeax18v8d/preview?usp=drivesdk\n",
      "Nombre del archivo: Reprogramaciones.xlsx\n",
      "Tipo de archivo: application/vnd.openxmlformats-officedocument.spreadsheetml.sheet\n",
      "Esta en el basurero: False\n",
      "Fecha de creacion: 2022-11-25T21:30:34.882Z\n",
      "Fecha de ultima modificacion: 2022-11-25T23:20:36.540Z\n",
      "Version: 14\n",
      "Tamanio: 66657\n",
      "ID Drive: 15hB3WG2EmkkhvlM996bG4_P6lVuu5Ha1\n",
      "Link de visualizacion embebido: https://drive.google.com/file/d/15hB3WG2EmkkhvlM996bG4_P6lVuu5Ha1/preview?usp=drivesdk\n",
      "Nombre del archivo: Main.xlsx\n",
      "Tipo de archivo: application/vnd.openxmlformats-officedocument.spreadsheetml.sheet\n",
      "Esta en el basurero: False\n",
      "Fecha de creacion: 2022-11-25T23:06:06.009Z\n",
      "Fecha de ultima modificacion: 2022-11-25T23:06:06.009Z\n",
      "Version: 3\n",
      "Tamanio: 23688591\n",
      "ID Drive: 1gbHPT5lvIb5H2rIzFe4oaK1oAIG0X7Ze\n",
      "Link de visualizacion embebido: https://drive.google.com/file/d/1gbHPT5lvIb5H2rIzFe4oaK1oAIG0X7Ze/preview?usp=drivesdk\n",
      "Nombre del archivo: Main.xlsx\n",
      "Tipo de archivo: application/vnd.openxmlformats-officedocument.spreadsheetml.sheet\n",
      "Esta en el basurero: True\n",
      "Fecha de creacion: 2022-11-25T16:42:14.450Z\n",
      "Fecha de ultima modificacion: 2022-11-25T16:42:14.450Z\n",
      "Version: 11\n",
      "Tamanio: 10131695\n",
      "ID Drive: 1JLMq5EutwOMWMbvI8nWebqJOxqUSHxcP\n",
      "Link de visualizacion embebido: https://drive.google.com/file/d/1JLMq5EutwOMWMbvI8nWebqJOxqUSHxcP/preview?usp=drivesdk\n",
      "Nombre del archivo: Main.xlsx\n",
      "Tipo de archivo: application/vnd.openxmlformats-officedocument.spreadsheetml.sheet\n",
      "Esta en el basurero: True\n",
      "Fecha de creacion: 2022-11-25T21:46:35.195Z\n",
      "Fecha de ultima modificacion: 2022-11-25T21:46:35.195Z\n",
      "Version: 4\n",
      "Tamanio: 23688591\n",
      "ID Drive: 1nZxUMgZ7tY4Tv48pDNzLSCOsY41Mbfm6\n",
      "Link de visualizacion embebido: https://drive.google.com/file/d/1nZxUMgZ7tY4Tv48pDNzLSCOsY41Mbfm6/preview?usp=drivesdk\n",
      "Nombre del archivo: Main.xlsx\n",
      "Tipo de archivo: application/vnd.openxmlformats-officedocument.spreadsheetml.sheet\n",
      "Esta en el basurero: True\n",
      "Fecha de creacion: 2022-11-25T16:40:11.565Z\n",
      "Fecha de ultima modificacion: 2022-11-25T16:40:11.565Z\n",
      "Version: 4\n",
      "Tamanio: 10131695\n",
      "ID Drive: 1GB93j0rG44kKMNAoBeDWg_N6S_ZBf4Z0\n",
      "Link de visualizacion embebido: https://drive.google.com/file/d/1GB93j0rG44kKMNAoBeDWg_N6S_ZBf4Z0/preview?usp=drivesdk\n",
      "Nombre del archivo: Main.xlsx\n",
      "Tipo de archivo: application/vnd.openxmlformats-officedocument.spreadsheetml.sheet\n",
      "Esta en el basurero: True\n",
      "Fecha de creacion: 2022-11-25T16:34:38.289Z\n",
      "Fecha de ultima modificacion: 2022-11-25T16:34:38.289Z\n",
      "Version: 9\n",
      "Tamanio: 10131695\n"
     ]
    }
   ],
   "source": [
    "OT = busca(\"fullText contains 'OT'\");"
   ]
  },
  {
   "cell_type": "code",
   "execution_count": 773,
   "metadata": {},
   "outputs": [],
   "source": [
    "df = pd.DataFrame(OT)\n",
    "df.drop(df[~df['title'].str.contains('OT')].index, inplace = True)\n"
   ]
  },
  {
   "cell_type": "code",
   "execution_count": 774,
   "metadata": {},
   "outputs": [
    {
     "name": "stdout",
     "output_type": "stream",
     "text": [
      "The sorted list is : \n",
      "8     2022-11-25T21:08:17.335Z\n",
      "2     2022-11-25T21:08:15.188Z\n",
      "9     2022-11-25T19:15:53.997Z\n",
      "4     2022-11-25T19:15:51.420Z\n",
      "10    2022-11-25T19:00:51.400Z\n",
      "3     2022-11-25T19:00:48.197Z\n",
      "11    2022-11-25T18:38:49.895Z\n",
      "0     2022-11-25T18:38:46.865Z\n",
      "1     2022-11-25T17:10:55.544Z\n",
      "12    2022-11-24T23:15:19.839Z\n",
      "6     2022-11-24T23:15:16.847Z\n",
      "13    2022-11-24T23:15:03.592Z\n",
      "7     2022-11-24T23:15:00.159Z\n",
      "Name: createdDate, dtype: object\n",
      "The newest date is: 2022-11-25T21:08:17.335Z\n",
      "the first date is '2022-11-25T21:08:17.335Z' with an id '1RbB4CuinpfWFHe_aJJEc2gdwjhyqeJFj', and the second one is '2022-11-25T21:08:15.188Z' with an id '1WjLVCsHsRZnzx9yGuyfhkzx5l7qLJTZI'\n"
     ]
    }
   ],
   "source": [
    "df = df.sort_values( by = ['createdDate'],ascending=False)\n",
    "print(\"The sorted list is : \\n{}\".format(df['createdDate']))\n",
    "print(\"The newest date is: {}\".format(df['createdDate'].max()))\n",
    "first_date = df['createdDate'].iloc[0]\n",
    "first_id = df['id'].iloc[0]\n",
    "second_date = df['createdDate'].iloc[1]\n",
    "second_id = df['id'].iloc[1]\n",
    "print(\"the first date is '{}' with an id '{}', and the second one is '{}' with an id '{}'\".format(first_date,first_id,second_date,second_id))"
   ]
  },
  {
   "cell_type": "code",
   "execution_count": 775,
   "metadata": {},
   "outputs": [],
   "source": [
    "main_path = \"/mnt/c/Users/mruiz/Documents/DB OT/\"\n",
    "main_path_ = os.listdir(main_path)\n",
    "main_path_.remove(\"CurrentDocuments\")\n",
    "bajar_archivo_por_id(first_id,main_path)\n",
    "pd_frame = {\n",
    "    'File':[],\n",
    "    'Date':[]\n",
    "}\n",
    "\n",
    "for element in main_path_:\n",
    "    path = main_path + str(element)\n",
    "    timestamp = os.path.getctime(path) #https://flaviocopes.com/python-get-file-details/\n",
    "    #timestamp = time.ctime(timestamp)\n",
    "    pd_frame['File'].append(element)\n",
    "    pd_frame['Date'].append(timestamp)"
   ]
  },
  {
   "cell_type": "code",
   "execution_count": 776,
   "metadata": {},
   "outputs": [
    {
     "name": "stdout",
     "output_type": "stream",
     "text": [
      "Los datos actuales son 'OT 18.11.2022 5 P.M. - Miguel Ruiz.XLSX', y los datos a comparar son 'OT 16.11.2022 - Miguel Ruiz.XLSX'\n"
     ]
    }
   ],
   "source": [
    "data_db = pd.DataFrame(pd_frame)\n",
    "#print(data_db['Date'].dtype)\n",
    "data_db['Date'] = pd.to_datetime(data_db['Date'],unit='s')\n",
    "data_db = data_db.sort_values(by = ['Date'],ascending=False)\n",
    "#print(data_db['Date'])\n",
    "actual_data = data_db['File'].iloc[0]\n",
    "compare_data = data_db['File'].iloc[1]\n",
    "print(\"Los datos actuales son '{}', y los datos a comparar son '{}'\".format(actual_data,compare_data))"
   ]
  },
  {
   "cell_type": "code",
   "execution_count": 777,
   "metadata": {},
   "outputs": [],
   "source": [
    "current_path = \"/mnt/c/Users/mruiz/Documents/DB OT/CurrentDocuments\"\n",
    "current_month = datetime.now().strftime('%B')\n",
    "current_path_ = os.listdir(current_path)\n",
    "main_path_ = os.listdir(main_path)\n",
    "data_yesterday_excel = {}\n",
    "data_am_excel = {}\n",
    "repro_nuevas = 1"
   ]
  },
  {
   "cell_type": "code",
   "execution_count": 778,
   "metadata": {},
   "outputs": [],
   "source": [
    "def get_data(entry_data):\n",
    "    file = main_path + entry_data\n",
    "    filexcel = pd.read_excel(file,sheet_name=\"Sheet1\")\n",
    "    print(\"Los datos del archivo \", entry_data, \" fueron procesados\")\n",
    "    return filexcel"
   ]
  },
  {
   "cell_type": "code",
   "execution_count": 779,
   "metadata": {},
   "outputs": [
    {
     "name": "stdout",
     "output_type": "stream",
     "text": [
      "Los datos del archivo  OT 16.11.2022 - Miguel Ruiz.XLSX  fueron procesados\n",
      "Los datos del archivo  OT 18.11.2022 5 P.M. - Miguel Ruiz.XLSX  fueron procesados\n"
     ]
    }
   ],
   "source": [
    "while True:\n",
    "    try:\n",
    "        data_yesterday_excel = get_data(compare_data)\n",
    "        data_am_excel = get_data(actual_data)\n",
    "        break\n",
    "    except FileNotFoundError:\n",
    "        print(\"Hay al menos un archivo que no fue leído: \")\n",
    "        print(\"Archivo Ayer : \", type(data_yesterday_excel))\n",
    "        print(\"Archivo hoy por la mañana: \", type(data_am_excel))\n",
    "        break"
   ]
  },
  {
   "cell_type": "code",
   "execution_count": 780,
   "metadata": {},
   "outputs": [
    {
     "name": "stdout",
     "output_type": "stream",
     "text": [
      "Los datos de la mañana fueron seleccionados\n"
     ]
    }
   ],
   "source": [
    "if type(data_am_excel) == type(data_yesterday_excel):\n",
    "    programa = data_am_excel\n",
    "    print(\"Los datos de la mañana fueron seleccionados\")\n",
    "else :\n",
    "    print(\"Error\")"
   ]
  },
  {
   "cell_type": "code",
   "execution_count": 781,
   "metadata": {},
   "outputs": [],
   "source": [
    "data2 =current_path + \"/Master_OT.xlsx\"\n",
    "nombres = pd.read_excel(data2, sheet_name=\"Names\", header=0)"
   ]
  },
  {
   "cell_type": "code",
   "execution_count": 782,
   "metadata": {},
   "outputs": [],
   "source": [
    "data3 = current_path + \"/Politicas.XLSX\"\n",
    "politicas = pd.read_excel(data3, sheet_name=\"POLITICAS CONTRATO\", header=0)"
   ]
  },
  {
   "cell_type": "code",
   "execution_count": 783,
   "metadata": {},
   "outputs": [],
   "source": [
    "data7 = current_path + \"/Ubicaciones_Equipos.xlsx\"\n",
    "ubicaciones = pd.read_excel(data7, sheet_name=\"Sheet1\", header=0)"
   ]
  },
  {
   "cell_type": "code",
   "execution_count": 784,
   "metadata": {},
   "outputs": [],
   "source": [
    "data8 = current_path + \"/Reprogramaciones.xlsx\"\n",
    "reprogramaciones_ = pd.read_excel(data8, sheet_name=\"DB\", header=0)"
   ]
  },
  {
   "cell_type": "code",
   "execution_count": 785,
   "metadata": {},
   "outputs": [],
   "source": [
    "reprogramaciones = data_yesterday_excel.copy()"
   ]
  },
  {
   "cell_type": "code",
   "execution_count": 786,
   "metadata": {},
   "outputs": [],
   "source": [
    "reprogramaciones.rename(columns={'Inicio programado':'Fecha_reprogramada'}, inplace=True)"
   ]
  },
  {
   "cell_type": "code",
   "execution_count": 787,
   "metadata": {},
   "outputs": [],
   "source": [
    "programa['Material'] = np.where((programa['Clase de orden'] == 'ZMCP') &  (programa['Texto breve'].str.contains('Emer|Revi', case=False)), 'NO',\n",
    "np.where(programa['Clase de orden'] == 'ZPM2','SI',\n",
    "np.where(programa['Clase de orden'] == 'ZMCP','SI',\n",
    "np.where(programa['Clase de orden'] == 'ZMCI', 'SI',\n",
    "np.where((programa['Clase de orden'] == 'ZPM1') &  (programa['Texto breve'].str.contains('CAFA|CABAT|ACUM', case=False)), 'SI','NO')))))"
   ]
  },
  {
   "cell_type": "code",
   "execution_count": 788,
   "metadata": {},
   "outputs": [],
   "source": [
    "#print('Las columnas de programa son', list(programa.columns.values))\n",
    "#print('Las columnas de nombres son', list(nombres.columns.values))\n",
    "#print('Las columnas de politicas son', list(politicas.columns.values))\n",
    "#print('Las columnas de material local son', list(mlocal.columns.values))\n",
    "#print('Las columnas de material foraneo son', list(mforaneo.columns.values))\n",
    "#print('Las columnas de las repro son ',list(reprogramaciones.columns.values))\n",
    "#print('Las columnas de reportes son ', list(reportes.columns.values))\n",
    "#print('Las columnas de ubicaciones son', list(ubicaciones.columns.values))\n",
    "#print(list(result_df.columns.values))"
   ]
  },
  {
   "cell_type": "markdown",
   "metadata": {},
   "source": [
    "COMIENZAN LOS MERGE"
   ]
  },
  {
   "cell_type": "code",
   "execution_count": 789,
   "metadata": {},
   "outputs": [],
   "source": [
    "repro_columns = ['Fecha_reprogramada', 'Orden']"
   ]
  },
  {
   "cell_type": "code",
   "execution_count": 790,
   "metadata": {},
   "outputs": [],
   "source": [
    "result_df = pd.merge(programa,reprogramaciones[repro_columns],on='Orden',how='left' )"
   ]
  },
  {
   "cell_type": "code",
   "execution_count": 791,
   "metadata": {},
   "outputs": [],
   "source": [
    "result_df = pd.merge(left=result_df,right=nombres,left_on='Pto.tbjo.responsable', right_on='TecID',how='left')"
   ]
  },
  {
   "cell_type": "code",
   "execution_count": 792,
   "metadata": {},
   "outputs": [],
   "source": [
    "politicas_columns = ['Equipo','gestora archivo anahi ', 'reportes archivo anahi ', 'Tipo Equipo', 'Frecuencia', \n",
    "'Requiere Acceso', 'Tiempo aviso previo', 'Dia o fecha del Serv.', 'Horario', 'Curso', 'DC-3', \n",
    "'Examenes Covid, antidoping, etc', 'Tiempo valido de prueba', 'Tecnicos para servicio', 'Requerimientos adicionales', \n",
    "'Correo solicitud acceso', 'FACTURA FIRMADA', 'FOTOS', 'REPORTE ESPECIAL', 'Incluye materiales', 'OC', 'FRECUENCIA DE OC', \n",
    "'PREVENTIVOS', 'CORRECTIVOS']"
   ]
  },
  {
   "cell_type": "code",
   "execution_count": 793,
   "metadata": {},
   "outputs": [],
   "source": [
    "result_df = pd.merge(result_df,politicas[politicas_columns],on='Equipo',how='left')"
   ]
  },
  {
   "cell_type": "code",
   "execution_count": 794,
   "metadata": {},
   "outputs": [],
   "source": [
    "ubicaciones_columns = ['Equipo', 'Dirección', 'Latitud', 'Longitud']"
   ]
  },
  {
   "cell_type": "code",
   "execution_count": 795,
   "metadata": {},
   "outputs": [],
   "source": [
    "result_df = pd.merge(result_df,ubicaciones[ubicaciones_columns],on='Equipo',how='left')"
   ]
  },
  {
   "cell_type": "markdown",
   "metadata": {},
   "source": [
    "TERMINAN LOS MERGE"
   ]
  },
  {
   "cell_type": "code",
   "execution_count": 796,
   "metadata": {},
   "outputs": [
    {
     "name": "stdout",
     "output_type": "stream",
     "text": [
      "['Inicio programado', 'Orden', 'Plan mant.preventivo', 'Pto.tbjo.responsable', 'Status del sistema', 'Texto breve', 'Cliente', 'Denominación de objeto técnico', 'Número de serie', 'Equipo', 'Clase de orden', 'Fe.liberación real', 'Fecha inicio real', 'Material', 'Fecha_reprogramada', 'TecID', 'Short name', 'Estatus', 'City', 'Center', 'gestora archivo anahi ', 'reportes archivo anahi ', 'Tipo Equipo', 'Frecuencia', 'Requiere Acceso', 'Tiempo aviso previo', 'Dia o fecha del Serv.', 'Horario', 'Curso', 'DC-3', 'Examenes Covid, antidoping, etc', 'Tiempo valido de prueba', 'Tecnicos para servicio', 'Requerimientos adicionales', 'Correo solicitud acceso', 'FACTURA FIRMADA', 'FOTOS', 'REPORTE ESPECIAL', 'Incluye materiales', 'OC', 'FRECUENCIA DE OC', 'PREVENTIVOS', 'CORRECTIVOS', 'Dirección', 'Latitud', 'Longitud']\n"
     ]
    }
   ],
   "source": [
    "print(list(result_df.columns.values))"
   ]
  },
  {
   "cell_type": "code",
   "execution_count": 797,
   "metadata": {},
   "outputs": [],
   "source": [
    "result_df.assign(reprogramacion=0);"
   ]
  },
  {
   "cell_type": "code",
   "execution_count": 798,
   "metadata": {},
   "outputs": [],
   "source": [
    "reprogramaciones = result_df.copy()"
   ]
  },
  {
   "cell_type": "code",
   "execution_count": 799,
   "metadata": {},
   "outputs": [],
   "source": [
    "result_df['reprogramacion'] = np.where(result_df['Inicio programado']==reprogramaciones['Fecha_reprogramada'], \"Sin_Reprogramar\",\"Reprogramada\")\n",
    "result_df['reprogramacion'] = np.where(result_df['Fecha_reprogramada'].isnull(),\"Sin estatus\",result_df['reprogramacion'])"
   ]
  },
  {
   "cell_type": "code",
   "execution_count": 800,
   "metadata": {},
   "outputs": [
    {
     "name": "stdout",
     "output_type": "stream",
     "text": [
      "['Sin_Reprogramar' 'Sin estatus' 'Reprogramada']\n"
     ]
    }
   ],
   "source": [
    "print(result_df['reprogramacion'].unique())"
   ]
  },
  {
   "cell_type": "code",
   "execution_count": 801,
   "metadata": {},
   "outputs": [],
   "source": [
    "result_df['Politica'] = np.where(result_df['Requiere Acceso'].isnull(),\"NO\",\"SI\")\n",
    "result_df['Servicio'] = np.where(result_df['Orden'].isnull(), int(\"0\"),int(\"1\"))"
   ]
  },
  {
   "cell_type": "code",
   "execution_count": 802,
   "metadata": {},
   "outputs": [
    {
     "name": "stdout",
     "output_type": "stream",
     "text": [
      "101185\n",
      "101185\n"
     ]
    }
   ],
   "source": [
    "print(result_df.shape[0])\n",
    "print(programa.shape[0])"
   ]
  },
  {
   "cell_type": "code",
   "execution_count": null,
   "metadata": {},
   "outputs": [],
   "source": [
    "reprogramaciones = result_df[result_df['reprogramacion'].isin(['Reprogramada'])]\n",
    "if reprogramaciones_['Orden'].iloc[0] == reprogramaciones['Orden'].iloc[0]:\n",
    "       repro_nuevas = 0\n",
    "       print(\"Sin Reprogramaciones nuevas\")\n",
    "       reprogramaciones = reprogramaciones_\n",
    "else:\n",
    "       reprogramaciones = reprogramaciones.assign(Dia_reprogramado = datetime.today().strftime('%Y-%m-%d'))\n",
    "       reprogramaciones = pd.concat([reprogramaciones,reprogramaciones_])\n",
    "       print(reprogramaciones.shape[0])"
   ]
  },
  {
   "cell_type": "code",
   "execution_count": null,
   "metadata": {},
   "outputs": [],
   "source": [
    "reprogramaciones = reprogramaciones[['Orden', 'Inicio programado','Plan mant.preventivo', 'Pto.tbjo.responsable',\n",
    "       'Status del sistema', 'Texto breve', 'Cliente', 'Fecha inicio real',\n",
    "       'Fecha_reprogramada','Dia_reprogramado']]"
   ]
  },
  {
   "cell_type": "code",
   "execution_count": null,
   "metadata": {},
   "outputs": [],
   "source": [
    "rep_path = current_path + \"/\" + \"Reprogramaciones.xlsx\"\n",
    "if repro_nuevas == 0 :\n",
    "    print(\"Se conservó el documento\")\n",
    "elif repro_nuevas != 0 : \n",
    "    os.remove(current_path + \"/\" + \"Reprogramaciones.xlsx\")   \n",
    "    reprogramaciones.to_excel(rep_path, index=False,header=True)\n",
    "    with pd.ExcelWriter(rep_path) as writer:\n",
    "        reprogramaciones.to_excel(writer,index=False,sheet_name=\"DB\")\n",
    "        subir_archivo(rep_path,'1apsMV4sccu7h3GUmKsuX-xSII1UFhfop')"
   ]
  },
  {
   "cell_type": "code",
   "execution_count": null,
   "metadata": {},
   "outputs": [],
   "source": [
    "repro_list = busca(\"title = 'Reprogramaciones.xlsx'\");\n",
    "repro_frame = pd.DataFrame(repro_list);\n",
    "#print(list(main_frame.columns))"
   ]
  },
  {
   "cell_type": "code",
   "execution_count": null,
   "metadata": {},
   "outputs": [],
   "source": [
    "repro_frame = repro_frame.sort_values( by = ['createdDate'],ascending=False)\n",
    "print(\"The sorted list is : \\n{}\".format(repro_frame['createdDate']))\n",
    "print(\"The newest date is: {}\".format(repro_frame['createdDate'].max()))\n",
    "first_date = repro_frame['createdDate'].iloc[0]\n",
    "first_id = repro_frame['id'].iloc[0]\n",
    "print(\"the first date is '{}' with an id '{}'\".format(first_date,first_id))\n",
    "keys = list(repro_frame['labels'].iloc[0].keys())\n",
    "values = list(repro_frame['labels'].iloc[0].values())\n",
    "mydict = {\n",
    "    'status':keys,\n",
    "    'value':values\n",
    "}\n",
    "print(mydict)\n",
    "if mydict['value'][2] == True:\n",
    "    print(\"All files are already erased\")\n",
    "else:\n",
    "    borrar_recuperar(first_id)  \n",
    "    print(\"File '{}' are erased\".format(first_id))"
   ]
  },
  {
   "cell_type": "code",
   "execution_count": null,
   "metadata": {},
   "outputs": [],
   "source": [
    "if repro_nuevas == 0 :\n",
    "    print(\"File just added is working\")\n",
    "else:\n",
    "    subir_archivo(rep_path,'1apsMV4sccu7h3GUmKsuX-xSII1UFhfop')\n",
    "    print(\"New file uploaded succesfully\")"
   ]
  },
  {
   "cell_type": "code",
   "execution_count": null,
   "metadata": {},
   "outputs": [],
   "source": [
    "print(list(result_df.columns.values))"
   ]
  },
  {
   "cell_type": "code",
   "execution_count": null,
   "metadata": {},
   "outputs": [],
   "source": [
    "result_df = result_df[['Inicio programado', 'Orden', 'reprogramacion', 'Fecha_reprogramada',    'Plan mant.preventivo', 'Pto.tbjo.responsable',\n",
    " 'Short name','Estatus', 'City', 'Status del sistema','Servicio','Fe.liberación real', 'Fecha inicio real', 'Texto breve',\n",
    "'Cliente', 'Denominación de objeto técnico', 'Número de serie', 'Equipo', 'Dirección',\n",
    "'Politica', 'gestora archivo anahi ', 'Frecuencia', 'Requiere Acceso', 'Tiempo aviso previo', 'Dia o fecha del Serv.',\n",
    "'Horario', 'Curso', 'DC-3', 'Examenes Covid, antidoping, etc', 'Tiempo valido de prueba','Tecnicos para servicio', 'Requerimientos adicionales',\n",
    "'Correo solicitud acceso', 'FACTURA FIRMADA', 'FOTOS', 'REPORTE ESPECIAL', 'Incluye materiales', 'OC','FRECUENCIA DE OC', 'PREVENTIVOS', 'CORRECTIVOS',\n",
    "'Material', 'Clase de orden']]"
   ]
  },
  {
   "cell_type": "code",
   "execution_count": null,
   "metadata": {},
   "outputs": [],
   "source": [
    "os.remove(current_path + \"/\" + \"Main.xlsx\")\n",
    "main_path = current_path + \"/\" + \"Main.xlsx\"   \n",
    "result_df.to_excel(main_path, index=False,header=True)\n",
    "with pd.ExcelWriter(main_path) as writer:\n",
    "    result_df.to_excel(writer,index=False,sheet_name=\"DB\")\n",
    "print(\"Main was created succesfully\")"
   ]
  },
  {
   "cell_type": "code",
   "execution_count": null,
   "metadata": {},
   "outputs": [],
   "source": [
    "main_list = busca(\"title = 'Main.xlsx'\");\n",
    "main_frame = pd.DataFrame(main_list);\n",
    "#print(list(main_frame.columns))"
   ]
  },
  {
   "cell_type": "code",
   "execution_count": null,
   "metadata": {},
   "outputs": [],
   "source": [
    "main_frame = main_frame.sort_values( by = ['createdDate'],ascending=False)\n",
    "print(\"The sorted list is : \\n{}\".format(main_frame['createdDate']))\n",
    "print(\"The newest date is: {}\".format(main_frame['createdDate'].max()))\n",
    "first_date = main_frame['createdDate'].iloc[0]\n",
    "first_id = main_frame['id'].iloc[0]\n",
    "print(\"the first date is '{}' with an id '{}'\".format(first_date,first_id))\n",
    "keys = list(main_frame['labels'].iloc[0].keys())\n",
    "values = list(main_frame['labels'].iloc[0].values())\n",
    "mydict = {\n",
    "    'status':keys,\n",
    "    'value':values\n",
    "}\n",
    "print(mydict)\n",
    "if mydict['value'][2] == True:\n",
    "    print(\"All files are already erased\")\n",
    "else:\n",
    "    borrar_recuperar(first_id)  \n",
    "    print(\"File '{}' are erased\".format(first_id))"
   ]
  },
  {
   "cell_type": "code",
   "execution_count": null,
   "metadata": {},
   "outputs": [],
   "source": [
    "subir_archivo(main_path,'1apsMV4sccu7h3GUmKsuX-xSII1UFhfop')\n",
    "print(\"Upload succesfully\")"
   ]
  }
 ],
 "metadata": {
  "kernelspec": {
   "display_name": "Python 3.10.6 64-bit",
   "language": "python",
   "name": "python3"
  },
  "language_info": {
   "codemirror_mode": {
    "name": "ipython",
    "version": 3
   },
   "file_extension": ".py",
   "mimetype": "text/x-python",
   "name": "python",
   "nbconvert_exporter": "python",
   "pygments_lexer": "ipython3",
   "version": "3.10.6"
  },
  "orig_nbformat": 4,
  "vscode": {
   "interpreter": {
    "hash": "916dbcbb3f70747c44a77c7bcd40155683ae19c65e1c03b4aa3499c5328201f1"
   }
  }
 },
 "nbformat": 4,
 "nbformat_minor": 2
}

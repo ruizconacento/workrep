{
 "cells": [
  {
   "cell_type": "code",
   "execution_count": 47,
   "metadata": {},
   "outputs": [],
   "source": [
    "#import libraries used into\n",
    "from datetime import datetime, timedelta\n",
    "import pandas as pd, numpy as np, os"
   ]
  },
  {
   "cell_type": "code",
   "execution_count": 48,
   "metadata": {},
   "outputs": [
    {
     "name": "stdout",
     "output_type": "stream",
     "text": [
      "fileam:  OT 02.11.2022.XLSX\n",
      "filepm:  OT 02.11.2022 5 P.M..XLSX\n",
      "file3pm:  OT 02.11.2022 3 P.M..XLSX\n",
      "fileyest:  OT 01.11.2022 5 P.M..XLSX\n"
     ]
    }
   ],
   "source": [
    "##First, the vars was created\n",
    "fileam = \"OT \" + datetime.now().strftime('%d.%m.%Y') + \".XLSX\"\n",
    "print(\"fileam: \", fileam)\n",
    "filepm = \"OT \" + datetime.now().strftime('%d.%m.%Y') + \" 5 P.M..XLSX\"\n",
    "print(\"filepm: \", filepm)\n",
    "file3pm = \"OT \" + datetime.now().strftime('%d.%m.%Y') + \" 3 P.M..XLSX\"\n",
    "print(\"file3pm: \", file3pm)\n",
    "fileyest = \"OT \" + (datetime.today() - timedelta(days = 1)).strftime('%d.%m.%Y' + \" 5 P.M..XLSX\")\n",
    "print(\"fileyest: \", fileyest)\n",
    "main_path = \"C:\\\\Users\\\\mruiz\\\\Documents\\\\DB OT\\\\\" \n",
    "current_path = \"C:\\\\Users\\\\mruiz\\\\Documents\\\\DB OT\\\\CurrentDocuments\"\n",
    "current_month = datetime.now().strftime('%B')\n",
    "current_path_ = os.listdir(current_path)\n",
    "main_path_ = os.listdir(main_path)\n",
    "data_yesterday_excel = {}\n",
    "data_am_excel = {}\n",
    "data_3pm_excel = {}\n",
    "data_pm_excel = {}"
   ]
  },
  {
   "cell_type": "code",
   "execution_count": 49,
   "metadata": {},
   "outputs": [
    {
     "name": "stdout",
     "output_type": "stream",
     "text": [
      "['CurrentDocuments', 'OT 01.09.2022.XLSX', 'OT 01.11.2022 5 P.M..XLSX', 'OT 01.11.2022.XLSX', 'OT 02.11.2022.XLSX', 'OT 03.10.2022 5 P.M..XLSX', 'OT 03.10.2022.XLSX', 'OT 04.10.2022 5 P.M..XLSX', 'OT 04.10.2022.XLSX', 'OT 05.10.2022 5 P.M..XLSX', 'OT 05.10.2022.XLSX', 'OT 06.09.2022.XLSX', 'OT 06.10.2022 5 P.M..XLSX', 'OT 06.10.2022.XLSX', 'OT 07.09.2022.XLSX', 'OT 07.10.2022 5 P.M..XLSX', 'OT 07.10.2022.XLSX', 'OT 08.09.22.XLSX', 'OT 09.09.2022.XLSX', 'OT 10.10.2022 5 P.M..XLSX', 'OT 10.10.2022.XLSX', 'OT 11.10.2022 5 P.M..XLSX', 'OT 11.10.2022.XLSX', 'OT 12.09.22 5 P.M..XLSX', 'OT 12.10.2022 5 P.M..XLSX', 'OT 12.10.2022.XLSX', 'OT 13.09.2022.XLSX', 'OT 13.10.2022 3 P.M..XLSX', 'OT 13.10.2022 5 P.M..XLSX', 'OT 13.10.2022.XLSX', 'OT 14.09.2022.XLSX', 'OT 14.10.2022 3P.M..XLSX', 'OT 14.10.2022 5 P.M..XLSX', 'OT 14.10.2022.XLSX', 'OT 15.09.2022.XLSX', 'OT 17.10.2022 3 P.M..XLSX', 'OT 17.10.2022 5 P.M..XLSX', 'OT 17.10.2022.XLSX', 'OT 18.10.2022 5 P.M..XLSX', 'OT 18.10.2022.XLSX', 'OT 19.09.2022.XLSX', 'OT 19.10.2022 5 P.M..XLSX', 'OT 19.10.2022.XLSX', 'OT 20.09.2022.XLSX', 'OT 20.10.2022 5 P.M..XLSX', 'OT 20.10.2022.XLSX', 'OT 21.09.2022.XLSX', 'OT 21.10.2022 5 P.M..XLSX', 'OT 21.10.2022.XLSX', 'OT 22.09.2022 5 P.M..XLSX', 'OT 22.09.2022.XLSX', 'OT 23.09.2022.XLSX', 'OT 23.09.22 5 P.M..XLSX', 'OT 24.10.2022 5 P.M..XLSX', 'OT 24.10.2022.XLSX', 'OT 25.10.2022 3 P.M..XLSX', 'OT 25.10.2022 5 P.M..XLSX', 'OT 25.10.2022.XLSX', 'OT 26.09.2022 5 P.M..XLSX', 'OT 26.09.2022.XLSX', 'OT 26.10.2022 5 P.M..XLSX', 'OT 26.10.2022.XLSX', 'OT 27.09.2022 5 P.M..XLSX', 'OT 27.09.2022.XLSX', 'OT 27.10.2022 5 P.M..XLSX', 'OT 27.10.2022.XLSX', 'OT 28.09.2022 5 P.M..XLSX', 'OT 28.09.2022.XLSX', 'OT 28.10.2022 5 P.M..XLSX', 'OT 28.10.2022.XLSX', 'OT 29.09.2022 5 P.M..XLSX', 'OT 29.09.2022.XLSX', 'OT 30.09.2022 5 P.M..XLSX', 'OT 30.09.2022.XLSX', 'OT 31.10.2022 5 P.M..XLSX']\n"
     ]
    }
   ],
   "source": [
    "print(main_path_)"
   ]
  },
  {
   "cell_type": "code",
   "execution_count": 50,
   "metadata": {},
   "outputs": [],
   "source": [
    "def get_data(entry_data):\n",
    "    file = main_path + entry_data\n",
    "    filexcel = pd.read_excel(file,sheet_name=\"Sheet1\")\n",
    "    print(\"Los datos del archivo \", entry_data, \" fueron procesados\")\n",
    "    return filexcel"
   ]
  },
  {
   "cell_type": "code",
   "execution_count": 51,
   "metadata": {},
   "outputs": [
    {
     "name": "stdout",
     "output_type": "stream",
     "text": [
      "Los datos del archivo  OT 01.11.2022 5 P.M..XLSX  fueron procesados\n",
      "Los datos del archivo  OT 02.11.2022.XLSX  fueron procesados\n",
      "Hay al menos un archivo que no fue leído: \n",
      "Archivo Ayer :  <class 'pandas.core.frame.DataFrame'>\n",
      "Archivo hoy por la mañana:  <class 'pandas.core.frame.DataFrame'>\n",
      "Archivo hoy 3 pm :  <class 'dict'>\n",
      "Archivo hoy 5 pm :  <class 'dict'>\n"
     ]
    }
   ],
   "source": [
    "while True:\n",
    "    try:\n",
    "        data_yesterday_excel = get_data(fileyest)\n",
    "        data_am_excel = get_data(fileam)\n",
    "        data_3pm_excel = get_data(file3pm)\n",
    "        data_pm_excel = get_data(filepm)\n",
    "    except FileNotFoundError:\n",
    "        print(\"Hay al menos un archivo que no fue leído: \")\n",
    "        print(\"Archivo Ayer : \", type(data_yesterday_excel))\n",
    "        print(\"Archivo hoy por la mañana: \", type(data_am_excel))\n",
    "        print(\"Archivo hoy 3 pm : \", type(data_3pm_excel))\n",
    "        print(\"Archivo hoy 5 pm : \",type(data_pm_excel))\n",
    "        break"
   ]
  },
  {
   "cell_type": "code",
   "execution_count": 52,
   "metadata": {},
   "outputs": [],
   "source": [
    "data2 =current_path + \"\\\\Master_OT.xlsx\"\n",
    "data2excel = pd.read_excel(data2, sheet_name=\"Names\", header=0)"
   ]
  },
  {
   "cell_type": "code",
   "execution_count": 53,
   "metadata": {},
   "outputs": [],
   "source": [
    "data3 = current_path + \"\\\\Politicas.XLSX\"\n",
    "data3excel = pd.read_excel(data3, sheet_name=\"POLITICAS CONTRATO\", header=0)"
   ]
  },
  {
   "cell_type": "code",
   "execution_count": 54,
   "metadata": {},
   "outputs": [],
   "source": [
    "data4 = current_path + \"\\\\Materiales_Locales.xlsx\"\n",
    "data4excel = pd.read_excel(data4, sheet_name=\"ENTREGADO\", header=0)"
   ]
  },
  {
   "cell_type": "code",
   "execution_count": 55,
   "metadata": {},
   "outputs": [],
   "source": [
    "data5 = current_path + \"\\\\Materiales_Foraneos.xlsx\"\n",
    "data5excel = pd.read_excel(data5, sheet_name=\"MATRIZ FINAL\", header=1)"
   ]
  },
  {
   "cell_type": "code",
   "execution_count": 70,
   "metadata": {},
   "outputs": [
    {
     "name": "stderr",
     "output_type": "stream",
     "text": [
      "c:\\Users\\mruiz\\Documents\\pythonscripts\\env\\lib\\site-packages\\openpyxl\\worksheet\\_reader.py:211: UserWarning: Cell B3512 is marked as a date but the serial value 6692247 is outside the limits for dates. The cell will be treated as an error.\n",
      "  warn(msg)\n"
     ]
    }
   ],
   "source": [
    "data6 = current_path + \"\\\\Pendiente_facturar.xlsx\"\n",
    "data6excel = pd.read_excel(data6, sheet_name=\"CONTROL\", header=0)"
   ]
  },
  {
   "cell_type": "code",
   "execution_count": 67,
   "metadata": {},
   "outputs": [],
   "source": [
    "data7 = current_path + \"\\\\Ubicaciones_Equipos.xlsx\"\n",
    "data7excel = pd.read_excel(data7, sheet_name=\"Sheet1\", header=0)"
   ]
  },
  {
   "cell_type": "code",
   "execution_count": 62,
   "metadata": {},
   "outputs": [],
   "source": [
    "reprogramaciones = data_yesterday_excel.copy()"
   ]
  },
  {
   "cell_type": "code",
   "execution_count": null,
   "metadata": {},
   "outputs": [],
   "source": [
    "print(reprogramaciones)"
   ]
  },
  {
   "cell_type": "code",
   "execution_count": 63,
   "metadata": {},
   "outputs": [],
   "source": [
    "reprogramaciones.rename(columns={'Inicio programado':'Fecha_reprogramada'}, inplace=True)"
   ]
  },
  {
   "cell_type": "code",
   "execution_count": 64,
   "metadata": {},
   "outputs": [
    {
     "name": "stdout",
     "output_type": "stream",
     "text": [
      "Los datos de la mañana fueron seleccionados\n"
     ]
    }
   ],
   "source": [
    "if type(data_pm_excel) == type(data_yesterday_excel):\n",
    "    data1excel = data_pm_excel\n",
    "    print(\"Los datos de la tarde fueron seleccionados\")\n",
    "elif type(data_3pm_excel) == type(data_yesterday_excel):\n",
    "    data1excel = data_3pm_excel\n",
    "    print(\"Los datos del mediodia fueron seleccionados\")\n",
    "elif type(data_am_excel) == type(data_yesterday_excel):\n",
    "    data1excel = data_am_excel\n",
    "    print(\"Los datos de la mañana fueron seleccionados\")\n",
    "else :\n",
    "    print(\"Error\")"
   ]
  },
  {
   "cell_type": "code",
   "execution_count": 65,
   "metadata": {},
   "outputs": [],
   "source": [
    "data1excel.rename(columns={'Inicio programado' : 'Inicio_programado', 'Plan mant.preventivo' : 'Plan_Mtto',\n",
    "       'Pto.tbjo.responsable': 'Responsable', 'Status del sistema' : 'Status', 'Texto breve' : 'Descripción',\n",
    "       'Denominación de objeto técnico' : 'Cliente_Equipo', 'Número de serie': 'Número_de_serie', 'Clase de orden':'Clase_de_orden',\n",
    "       'Fe.liberación real':'Fecha_Liberación', 'Fecha inicio real':'Fecha_creación'}, inplace = True)"
   ]
  },
  {
   "cell_type": "code",
   "execution_count": 66,
   "metadata": {},
   "outputs": [],
   "source": [
    "data1excel['Material'] = np.where((data1excel['Clase_de_orden'] == 'ZMCP') &  (data1excel['Descripción'].str.contains('Emer|Revi', case=False)), 'NO',\n",
    "np.where(data1excel['Clase_de_orden'] == 'ZPM2','SI',\n",
    "np.where(data1excel['Clase_de_orden'] == 'ZMCP','SI',\n",
    "np.where(data1excel['Clase_de_orden'] == 'ZMCI', 'SI',\n",
    "np.where((data1excel['Clase_de_orden'] == 'ZPM1') &  (data1excel['Descripción'].str.contains('CAFA|CABAT|ACUM', case=False)), 'SI','NO')))))"
   ]
  },
  {
   "cell_type": "code",
   "execution_count": 71,
   "metadata": {},
   "outputs": [
    {
     "name": "stdout",
     "output_type": "stream",
     "text": [
      "Las columnas de frame 6 son Index(['SEMANA', 'INICIO PROGRAMADO', 'ORDEN', 'PTO.TBJO.RESPONSABLE',\n",
      "       'CLIENTE', 'DENOMINACIÓN DE OBJETO TÉCNICO', 'NÚMERO DE SERIE',\n",
      "       'EQUIPO', 'CLASE DE ORDEN', 'N° DE REPORTE', 'ESTATUS 19 SEPTIEMBRE',\n",
      "       'ESTATUS 20 SEPTIEMBRE', 'ESTATUS 22 SEPTIEMBRE',\n",
      "       'ESTATUS 23 SEPTIEMBRE', 'ESTATUS 26 SEPTIEMBRE',\n",
      "       'ESTATUS 27 SEPTIEMBRE', 'ESTATUS 28 SEPTIEMBRE',\n",
      "       'ESTATUS 29 SEPTIEMBRE', 'ESTATUS 03 OCTUBRE', 'ESTATUS 04 OCTUBRE',\n",
      "       'ESTATUS 05 OCTUBRE', 'ESTATUS 06 OCTUBRE', 'ESTATUS 07 OCTUBRE',\n",
      "       'ESTATUS 10 OCTUBRE', 'ESTATUS 11 OCTUBRE', 'ESTATUS 12 OCTUBRE',\n",
      "       'ESTATUS 13 OCTUBRE', 'ESTATUS 14 OCTUBRE', 'ESTATUS 17 OCTUBRE',\n",
      "       'ESTATUS 18 OCTUBRE', 'ESTATUS 20 OCTUBRE', 'ESTATUS 21 OCTUBRE',\n",
      "       'ESTATUS 24 OCTUBRE', 'ESTATUS 25 OCTUBRE', 'ESTATUS 26 OCTUBRE',\n",
      "       'ESTATUS 27 OCTUBRE', 'DETALLE POLITICA', 'COMENTARIO', 'TIPO CLIENTE',\n",
      "       'MES', 'MES2', 'ANTIGUEDAD', 'GESTORA', 'GPO CLIENTE',\n",
      "       'FORMATO ESPECIAL', 'SEMANA ANTERIORES', 'FACTURA', 'SOLO AMARILLO',\n",
      "       'REPORTE INCOMPLETO', 'LEVANTAMIENTO', 'CONTRA RECIBO', 'OC',\n",
      "       'GESTORA.1', 'PREVENTIVOS', 'CORRECTIVOS',\n",
      "       'COMENTARIOS INTERNOS ADICCIONALES'],\n",
      "      dtype='object')\n"
     ]
    }
   ],
   "source": [
    "#print('Las columnas de frame 1 son', data1excel.columns)\n",
    "#print('Las columnas de frame 2 son', data2excel.columns)\n",
    "#print('Las columnas de frame 3 son', data3excel.columns)\n",
    "#print('Las columnas de frame 4 son', data4excel.columns)\n",
    "#print('Las columnas de frame 5 son', data5excel.columns)\n",
    "#print('Las columnas de reprogramaciones son ',reprogramaciones)\n",
    "print('Las columnas de frame 6 son', data6excel.columns)\n",
    "#print('Las columnas de frame 7 son', data7excel.columns)"
   ]
  },
  {
   "cell_type": "code",
   "execution_count": null,
   "metadata": {},
   "outputs": [],
   "source": [
    "result_df = pd.merge(left = data1excel, right = data2excel,left_on=\"Responsable\",right_on=\"TecID\",how=\"left\").drop(columns=['TecID'])"
   ]
  },
  {
   "cell_type": "code",
   "execution_count": null,
   "metadata": {},
   "outputs": [],
   "source": [
    "result_df = pd.merge(result_df,data3excel,on=\"Equipo\",how=\"left\")"
   ]
  },
  {
   "cell_type": "code",
   "execution_count": null,
   "metadata": {},
   "outputs": [],
   "source": [
    "result_df = pd.merge(result_df,data4excel[['Orden', 'Inicio programado2', 'Fecha de salida',\n",
    "       'Comentario', 'Material Separado']], on=\"Orden\",how= \"left\")"
   ]
  },
  {
   "cell_type": "code",
   "execution_count": null,
   "metadata": {},
   "outputs": [],
   "source": [
    "result_df = pd.merge(result_df,data5excel,on='Orden',how='left')"
   ]
  },
  {
   "cell_type": "code",
   "execution_count": null,
   "metadata": {},
   "outputs": [],
   "source": [
    "result_df = pd.merge(left = result_df,right = reprogramaciones[['Orden','Fecha_reprogramada']],on='Orden',how='left')"
   ]
  },
  {
   "cell_type": "code",
   "execution_count": null,
   "metadata": {},
   "outputs": [],
   "source": [
    "result_df = pd.merge(left = result_df, right= data7excel,on=)"
   ]
  },
  {
   "cell_type": "code",
   "execution_count": null,
   "metadata": {},
   "outputs": [],
   "source": [
    "print(result_df.loc[0])"
   ]
  },
  {
   "cell_type": "code",
   "execution_count": null,
   "metadata": {},
   "outputs": [],
   "source": [
    "result_df.assign(Pendiente_Recoger=0)"
   ]
  },
  {
   "cell_type": "code",
   "execution_count": null,
   "metadata": {},
   "outputs": [],
   "source": [
    "result_df['Pendiente_Recoger'] = np.where(result_df['Inicio programado2'].isnull(),result_df['ESTATUS COMPRA'],result_df['Inicio programado2'])"
   ]
  },
  {
   "cell_type": "code",
   "execution_count": null,
   "metadata": {},
   "outputs": [],
   "source": [
    "result_df.assign(reprogramacion=0)"
   ]
  },
  {
   "cell_type": "code",
   "execution_count": null,
   "metadata": {},
   "outputs": [],
   "source": [
    "reprogramaciones = result_df.copy()"
   ]
  },
  {
   "cell_type": "code",
   "execution_count": null,
   "metadata": {},
   "outputs": [],
   "source": [
    "result_df['reprogramacion'] = np.where(result_df['Inicio_programado']==reprogramaciones['Fecha_anterior'], \"Sin_Reprogramar\",\"Reprogramada\")\n",
    "result_df['reprogramacion'] = np.where(result_df['Fecha_anterior'].isnull(),\"O.T. Agregada\",result_df['reprogramacion'])"
   ]
  },
  {
   "cell_type": "code",
   "execution_count": null,
   "metadata": {},
   "outputs": [],
   "source": [
    "print(result_df['reprogramacion'].unique())"
   ]
  },
  {
   "cell_type": "code",
   "execution_count": null,
   "metadata": {},
   "outputs": [],
   "source": [
    "result_df.assign(Politica=0)"
   ]
  },
  {
   "cell_type": "code",
   "execution_count": null,
   "metadata": {},
   "outputs": [],
   "source": [
    "result_df['Politica'] = np.where(result_df['Requiere Acceso'].isnull(),\"NO\",\"SI\")"
   ]
  },
  {
   "cell_type": "code",
   "execution_count": null,
   "metadata": {},
   "outputs": [],
   "source": [
    "\"\"\"print(result_df.columns)\n",
    "columnas = [['Inicio_programado', 'Fecha_Liberación', 'Fecha_creación','Fecha_anterior' 'Orden', 'Plan_Mtto', 'Responsable', 'Status',\n",
    "       'Descripción', 'Cliente', 'Cliente_Equipo', 'Número_de_serie', 'Equipo',\n",
    "       'Clase_de_orden','Material',\n",
    "       'Short name', 'Estatus', 'Typetec', 'City',\n",
    "       'Denominación de objeto técnico', 'Cliente actual','gestora archivo anahi ','Requiere Acceso', 'Tiempo aviso previo', 'Dia o fecha del Serv.',\n",
    "       'Horario', 'Curso', 'DC-3', 'Examenes Covid, antidoping, etc',\n",
    "       'Tiempo valido de prueba', 'Tecnicos para servicio',\n",
    "       'Requerimientos adicionales', 'Correo solicitud acceso',\n",
    "       'FACTURA FIRMADA', 'FOTOS', 'REPORTE ESPECIAL', 'Incluye materiales',\n",
    "       'OC', 'FRECUENCIA DE OC', 'PREVENTIVOS', 'CORRECTIVOS', 'OC', 'FRECUENCIA DE OC', 'PREVENTIVOS', 'CORRECTIVOS','UBICACIÓN', 'ESTATUS COMPRA', 'PROVEEDOR']\n",
    "]\n",
    "result_df = result_df[columnas]\"\"\""
   ]
  },
  {
   "cell_type": "code",
   "execution_count": null,
   "metadata": {},
   "outputs": [],
   "source": [
    "columnasdeseadas = ['Inicio_programado','Fecha_Liberación','Orden','Status','Material','Descripción', 'Short name','Estatus','City','Pendiente_Recoger', 'Fecha de salida', 'Comentario']\n",
    "result_df2 = result_df[columnasdeseadas]"
   ]
  },
  {
   "cell_type": "code",
   "execution_count": null,
   "metadata": {},
   "outputs": [],
   "source": [
    "\"\"\"\n",
    "columnasreprogramadas = ['reprogramacion','Inicio_programado','Fecha_Liberación','Fecha_anterior','Orden','Responsable','Status','Descripción']\n",
    "reprogramaciones_diarias = result_df[columnasreprogramadas]\n",
    "reprogramaciones_diarias = np.where(reprogramaciones_diarias['reprogramacion']=='Reprogramada',reprogramaciones_diarias[columnasreprogramadas],\"\")\n",
    "path_repro = current_path + \"\\\\Reprogramaciones.xlsx\"\n",
    "with pd.ExcelWriter(path_repro) as writer:\n",
    "    reprogramaciones_diarias.to_excel(writer)\n",
    "\"\"\"\n"
   ]
  },
  {
   "cell_type": "code",
   "execution_count": null,
   "metadata": {},
   "outputs": [],
   "source": [
    "result_df.assign(Nueva=0)"
   ]
  },
  {
   "cell_type": "code",
   "execution_count": null,
   "metadata": {},
   "outputs": [],
   "source": [
    "result_df['Nueva'] = np.where(result_df['Fecha_anterior'].isnull(),\"No\", (result_df['Fecha_anterior'].astype(str) + result_df['Inicio_programado'].astype(str)))"
   ]
  },
  {
   "cell_type": "code",
   "execution_count": null,
   "metadata": {},
   "outputs": [],
   "source": [
    "os.remove(current_path + \"\\\\\" + \"Main.xlsx\")\n",
    "path = current_path + \"\\\\\" + \"Main.xlsx\"\n",
    "result_df.to_excel(path, index=False,header=True)\n",
    "with pd.ExcelWriter(path) as writer:\n",
    "    result_df.to_excel(writer,index=False,sheet_name=\"DB\")\n",
    "    result_df2.to_excel(writer,index=False ,sheet_name=\"Material\")"
   ]
  },
  {
   "cell_type": "code",
   "execution_count": null,
   "metadata": {},
   "outputs": [],
   "source": [
    "print(type(result_df))"
   ]
  }
 ],
 "metadata": {
  "kernelspec": {
   "display_name": "Python 3.10.8 ('env': venv)",
   "language": "python",
   "name": "python3"
  },
  "language_info": {
   "codemirror_mode": {
    "name": "ipython",
    "version": 3
   },
   "file_extension": ".py",
   "mimetype": "text/x-python",
   "name": "python",
   "nbconvert_exporter": "python",
   "pygments_lexer": "ipython3",
   "version": "3.10.8"
  },
  "orig_nbformat": 4,
  "vscode": {
   "interpreter": {
    "hash": "10273d3f62bdb45e1edca8702f86c58a50573d072f6bdf7b0b007f9c0756c753"
   }
  }
 },
 "nbformat": 4,
 "nbformat_minor": 2
}

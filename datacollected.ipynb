{
 "cells": [
  {
   "cell_type": "code",
   "execution_count": 4,
   "metadata": {},
   "outputs": [],
   "source": [
    "#import libraries used into\n",
    "from xml.etree.ElementTree import tostring\n",
    "from datetime import datetime\n",
    "import pandas as pd\n",
    "import os"
   ]
  },
  {
   "cell_type": "code",
   "execution_count": 5,
   "metadata": {},
   "outputs": [],
   "source": [
    "##First, the vars was created\n",
    "file = \"OT \" + datetime.now().strftime('%d.%m.%Y') + \".XLSX\"\n",
    "main_path = \"C:\\\\Users\\\\mruiz\\\\Documents\\\\DB OT\" \n",
    "current_month = datetime.now().strftime('%B')\n",
    "main_path_ = os.listdir(main_path)"
   ]
  },
  {
   "cell_type": "code",
   "execution_count": 14,
   "metadata": {},
   "outputs": [
    {
     "name": "stdout",
     "output_type": "stream",
     "text": [
      "Los datos del día de hoy son :  OT 10.10.2022.XLSX\n"
     ]
    }
   ],
   "source": [
    "for item in main_path_:\n",
    "    if item == file:\n",
    "        item1 = item\n",
    "        print(\"Los datos del día de hoy son : \", item1)\n",
    "        break\n",
    "try:\n",
    "    os.remove(main_path + \"\\\\daily_data.csv\")\n",
    "except OSError as e:\n",
    "    print(f\"Error:{ e.strerror}\")\n",
    "\n",
    "data1 = main_path + \"\\\\\" + item1\n",
    "data1excel = pd.read_excel(data1, index_col=0, sheet_name=\"Sheet1\", header=0)\n",
    "data1excel_ = pd.DataFrame(data1excel)\n",
    "path_csv = main_path + \"\\\\daily_data.csv\"\n",
    "data1csv = data1excel_.to_csv(path_csv)\n",
    "data1csv_ = pd.read_csv(path_csv)"
   ]
  },
  {
   "cell_type": "code",
   "execution_count": 7,
   "metadata": {},
   "outputs": [
    {
     "name": "stdout",
     "output_type": "stream",
     "text": [
      "  Inicio programado    Orden  Plan mant.preventivo Pto.tbjo.responsable  \\\n",
      "0        2024-07-26  4096274                8396.0             TECSER24   \n",
      "1        2023-12-12  4093006                 626.0             TECSER17   \n",
      "2        2023-10-12  4093001                 439.0              TECSER6   \n",
      "3        2023-09-13  4093222                1522.0              TECSER2   \n",
      "4        2023-09-11  4093049                 653.0              TECSER6   \n",
      "\n",
      "  Status del sistema                               Texto breve   Cliente  \\\n",
      "0          BLOQUEADA                SEGUIDORES DE LA CRUZ 10KW  303371.0   \n",
      "1            ABIERTA  HD MIGUEL ALEMAN 8789 PTA 350 KW ACUMULA  300105.0   \n",
      "2            ABIERTA  HD PIEDRAS NEGRAS 8638 PTA 350 KW ACUMUL  300105.0   \n",
      "3            ABIERTA  HD INTERLOMAS 8762 PTA 250 KW ACUMULADOR  300105.0   \n",
      "4            ABIERTA    HD SAN PEDRO 8652 PTA 350KW ACUMULADOR  300105.0   \n",
      "\n",
      "     Denominación de objeto técnico Número de serie   Equipo Clase de orden  \n",
      "0        SEGUIDORES DE LA CRUZ 10KW             NaN  12923.0           ZPM2  \n",
      "1   HD MIGUEL ALEMAN 8789 PTA 350KW        43203341  10373.0           ZPM2  \n",
      "2  HD PIEDRAS NEGRAS 8638 PTA 350KW      2012658048  10270.0           ZPM2  \n",
      "3      HD INTERLOMAS 8762 PTA 250KW           14808  10935.0           ZPM2  \n",
      "4       HD SAN PEDRO 8652 PTA 350KW         UI4182W  10388.0           ZPM2  \n"
     ]
    }
   ],
   "source": [
    "print(data1csv_.head())"
   ]
  },
  {
   "cell_type": "code",
   "execution_count": 16,
   "metadata": {},
   "outputs": [
    {
     "name": "stdout",
     "output_type": "stream",
     "text": [
      "La base de datos de nombres es :  Master_OT.xlsx\n"
     ]
    }
   ],
   "source": [
    "for item in main_path_:\n",
    "    if item == 'Master_OT.xlsx':\n",
    "        item2 = item\n",
    "        print(\"La base de datos de nombres es : \", item2)\n",
    "        break\n",
    "\n",
    "data2 = main_path + \"\\\\\" + item2\n",
    "data2excel = pd.read_excel(data2, index_col=0, sheet_name=\"Names\", header=0)\n",
    "data2excel_ = pd.DataFrame(data2excel)\n",
    "path_csv = main_path + \"\\\\\" + str(item2)\n",
    "data2csv = data2excel_.to_csv(path_csv)\n",
    "data2csv_ = pd.read_csv(path_csv)"
   ]
  },
  {
   "cell_type": "code",
   "execution_count": 21,
   "metadata": {},
   "outputs": [
    {
     "name": "stdout",
     "output_type": "stream",
     "text": [
      "<class 'pandas.core.frame.DataFrame'>\n",
      "RangeIndex: 39070 entries, 0 to 39069\n",
      "Data columns (total 11 columns):\n",
      " #   Column                          Non-Null Count  Dtype  \n",
      "---  ------                          --------------  -----  \n",
      " 0   Inicio programado               39070 non-null  object \n",
      " 1   Orden                           39070 non-null  int64  \n",
      " 2   Plan mant.preventivo            31092 non-null  float64\n",
      " 3   Pto.tbjo.responsable            39070 non-null  object \n",
      " 4   Status del sistema              39070 non-null  object \n",
      " 5   Texto breve                     39063 non-null  object \n",
      " 6   Cliente                         38714 non-null  float64\n",
      " 7   Denominación de objeto técnico  38591 non-null  object \n",
      " 8   Número de serie                 35285 non-null  object \n",
      " 9   Equipo                          38591 non-null  float64\n",
      " 10  Clase de orden                  39070 non-null  object \n",
      "dtypes: float64(3), int64(1), object(7)\n",
      "memory usage: 3.3+ MB\n",
      "None\n"
     ]
    }
   ],
   "source": [
    "print(data1csv_.info())"
   ]
  }
 ],
 "metadata": {
  "kernelspec": {
   "display_name": "Python 3.10.7 64-bit (microsoft store)",
   "language": "python",
   "name": "python3"
  },
  "language_info": {
   "codemirror_mode": {
    "name": "ipython",
    "version": 3
   },
   "file_extension": ".py",
   "mimetype": "text/x-python",
   "name": "python",
   "nbconvert_exporter": "python",
   "pygments_lexer": "ipython3",
   "version": "3.10.7"
  },
  "orig_nbformat": 4,
  "vscode": {
   "interpreter": {
    "hash": "a586a87fa9461efa0664adbffed0c35ba73766ebd5c97abf5aabaa383b674146"
   }
  }
 },
 "nbformat": 4,
 "nbformat_minor": 2
}

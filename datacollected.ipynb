{
 "cells": [
  {
   "cell_type": "code",
   "execution_count": null,
   "metadata": {},
   "outputs": [],
   "source": [
    "#import libraries used into\n",
    "from xml.etree.ElementTree import tostring\n",
    "from datetime import datetime\n",
    "import pandas as pd\n",
    "import os"
   ]
  },
  {
   "cell_type": "code",
   "execution_count": null,
   "metadata": {},
   "outputs": [],
   "source": [
    "##First, the vars was created\n",
    "file = \"OT \" + datetime.now().strftime('%d.%m.%Y') + \".XLSX\"\n",
    "main_path = \"C:\\\\Users\\\\mruiz\\\\Documents\\\\DB OT\" \n",
    "current_month = datetime.now().strftime('%B')\n",
    "main_path_ = os.listdir(main_path)"
   ]
  },
  {
   "cell_type": "code",
   "execution_count": 44,
   "metadata": {},
   "outputs": [
    {
     "name": "stdout",
     "output_type": "stream",
     "text": [
      "Los datos del día de hoy son :  OT 10.10.2022.XLSX\n"
     ]
    }
   ],
   "source": [
    "for item in main_path_:\n",
    "    if item == file:\n",
    "        item1 = item\n",
    "        print(\"Los datos del día de hoy son : \", item1)\n",
    "        break\n",
    "\n",
    "data1 = main_path + \"\\\\\" + item1\n",
    "data1excel = pd.read_excel(data1, sheet_name=\"Sheet1\", header=0)"
   ]
  },
  {
   "cell_type": "markdown",
   "metadata": {},
   "source": [
    "Para convertir y eliminar el archivo creado desde to_csv usar el siguiente codigo: \n",
    "for item in main_path_:\n",
    "    if item == file:\n",
    "        item1 = item\n",
    "        print(\"Los datos del día de hoy son : \", item1)\n",
    "        break\n",
    "\"\"\"try:\n",
    "    os.remove(main_path + \"\\\\daily_data.csv\")\n",
    "except OSError as e:\n",
    "    print(f\"Error:{ e.strerror}\")\"\"\"\n",
    "\n",
    "data1 = main_path + \"\\\\\" + item1\n",
    "data1excel = pd.read_excel(data1, sheet_name=\"Sheet1\", header=0)\n",
    "data1excel_ = pd.DataFrame(data1excel)\n",
    "\"\"\"path_csv = main_path + \"\\\\daily_data.csv\"\n",
    "data1csv = data1excel_.to_csv(path_csv)\n",
    "data1csv_ = pd.read_csv(path_csv)\"\"\""
   ]
  },
  {
   "cell_type": "code",
   "execution_count": 45,
   "metadata": {},
   "outputs": [
    {
     "name": "stdout",
     "output_type": "stream",
     "text": [
      "Index(['Inicio programado', 'Orden', 'Plan mant.preventivo',\n",
      "       'Pto.tbjo.responsable', 'Status del sistema', 'Texto breve', 'Cliente',\n",
      "       'Denominación de objeto técnico', 'Número de serie', 'Equipo',\n",
      "       'Clase de orden'],\n",
      "      dtype='object')\n"
     ]
    }
   ],
   "source": [
    "print(data1excel_.columns)"
   ]
  },
  {
   "cell_type": "code",
   "execution_count": 46,
   "metadata": {},
   "outputs": [
    {
     "name": "stdout",
     "output_type": "stream",
     "text": [
      "La base de datos de nombres es :  Master_OT.xlsx\n"
     ]
    }
   ],
   "source": [
    "for item in main_path_:\n",
    "    if item == 'Master_OT.xlsx':\n",
    "        item2 = item\n",
    "        print(\"La base de datos de nombres es : \", item2)\n",
    "        break\n",
    "\n",
    "data2 = main_path + \"\\\\\" + item2\n",
    "data2excel = pd.read_excel(data2, sheet_name=\"Names\", header=0)"
   ]
  },
  {
   "cell_type": "code",
   "execution_count": 47,
   "metadata": {},
   "outputs": [
    {
     "name": "stdout",
     "output_type": "stream",
     "text": [
      "Index(['TecID', 'Short name', 'Date', 'Charge', 'Deparment', 'Email',\n",
      "       'Estatus', 'Phones', 'Typetec', 'Storage', 'City', 'FullName'],\n",
      "      dtype='object')\n"
     ]
    }
   ],
   "source": [
    "print(data2excel.columns)"
   ]
  },
  {
   "cell_type": "code",
   "execution_count": null,
   "metadata": {},
   "outputs": [],
   "source": [
    "result_df = data1csv_.merge(data2csv_,on=)"
   ]
  }
 ],
 "metadata": {
  "kernelspec": {
   "display_name": "Python 3.10.7 64-bit (microsoft store)",
   "language": "python",
   "name": "python3"
  },
  "language_info": {
   "codemirror_mode": {
    "name": "ipython",
    "version": 3
   },
   "file_extension": ".py",
   "mimetype": "text/x-python",
   "name": "python",
   "nbconvert_exporter": "python",
   "pygments_lexer": "ipython3",
   "version": "3.10.7"
  },
  "orig_nbformat": 4,
  "vscode": {
   "interpreter": {
    "hash": "a586a87fa9461efa0664adbffed0c35ba73766ebd5c97abf5aabaa383b674146"
   }
  }
 },
 "nbformat": 4,
 "nbformat_minor": 2
}

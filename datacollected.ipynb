{
 "cells": [
  {
   "cell_type": "code",
   "execution_count": null,
   "metadata": {},
   "outputs": [],
   "source": [
    "#import libraries used into\n",
    "from datetime import datetime\n",
    "import pandas as pd, numpy as np, os"
   ]
  },
  {
   "cell_type": "code",
   "execution_count": null,
   "metadata": {},
   "outputs": [],
   "source": [
    "##First, the vars was created\n",
    "fileam = \"OT \" + datetime.now().strftime('%d.%m.%Y') + \".XLSX\"\n",
    "filepm = \"OT \" + datetime.now().strftime('%d.%m.%Y') + \" 5 P.M..XLSX\"\n",
    "main_path = \"C:\\\\Users\\\\mruiz\\\\Documents\\\\DB OT\" \n",
    "current_path = \"C:\\\\Users\\\\mruiz\\\\Documents\\\\DB OT\\\\CurrentDocuments\"\n",
    "current_month = datetime.now().strftime('%B')\n",
    "current_path_ = os.listdir(current_path)\n",
    "main_path_ = os.listdir(main_path)"
   ]
  },
  {
   "cell_type": "code",
   "execution_count": null,
   "metadata": {},
   "outputs": [],
   "source": [
    "for item in main_path_:\n",
    "    if item == filepm:\n",
    "        item1 = item\n",
    "        print(\"Los datos del día de hoy por la tarde son : \", item1)\n",
    "        break\n",
    "    elif item == fileam:\n",
    "        item1 = item\n",
    "        print(\"Los datos del día de hoy por la mañana son : \", item1)\n",
    "        break\n",
    "\n",
    "data1 = main_path + \"\\\\\" + item1\n",
    "data1excel = pd.read_excel(data1, sheet_name=\"Sheet1\", header=0)\n",
    "print(\"Los datos del archivo \", item1, \" fueron procesados\")"
   ]
  },
  {
   "cell_type": "code",
   "execution_count": null,
   "metadata": {},
   "outputs": [],
   "source": [
    "data1excel = data1excel.assign(Material=0)"
   ]
  },
  {
   "cell_type": "code",
   "execution_count": null,
   "metadata": {},
   "outputs": [],
   "source": [
    "data1excel = data1excel.drop('Material',axis=1)"
   ]
  },
  {
   "cell_type": "code",
   "execution_count": null,
   "metadata": {},
   "outputs": [],
   "source": [
    "data1excel.rename(columns={'Inicio programado' : 'Inicio_programado', 'Plan mant.preventivo' : 'Plan_Mtto',\n",
    "       'Pto.tbjo.responsable': 'Responsable', 'Status del sistema' : 'Status', 'Texto breve' : 'Descripción',\n",
    "       'Denominación de objeto técnico' : 'Cliente_Equipo', 'Número de serie': 'Número_de_serie', 'Clase de orden':'Clase_de_orden',\n",
    "       'Fe.liberación real':'Fecha_Liberación', 'Fecha inicio real':'Fecha_creación'}, inplace = True)"
   ]
  },
  {
   "cell_type": "code",
   "execution_count": null,
   "metadata": {},
   "outputs": [],
   "source": [
    "data1excel['Material'] = np.where((data1excel['Clase_de_orden'] == 'ZMCP') &  (data1excel['Descripción'].str.contains('Emer|Revi', case=False)), 'NO',\n",
    "np.where(data1excel['Clase_de_orden'] == 'ZPM2','SI',\n",
    "np.where(data1excel['Clase_de_orden'] == 'ZMCP','SI',\n",
    "np.where(data1excel['Clase_de_orden'] == 'ZMCI', 'SI',\n",
    "np.where((data1excel['Clase_de_orden'] == 'ZPM1') &  (data1excel['Descripción'].str.contains('CAFA|CABAT|ACUM', case=False)), 'SI','NO')))))"
   ]
  },
  {
   "cell_type": "code",
   "execution_count": null,
   "metadata": {},
   "outputs": [],
   "source": [
    "data2 =current_path + \"\\\\Master_OT.xlsx\"\n",
    "data2excel = pd.read_excel(data2, sheet_name=\"Names\", header=0)"
   ]
  },
  {
   "cell_type": "code",
   "execution_count": null,
   "metadata": {},
   "outputs": [],
   "source": [
    "data3 = current_path + \"\\\\Politicas.XLSX\"\n",
    "data3excel = pd.read_excel(data3, sheet_name=\"POLITICAS\", header=0)"
   ]
  },
  {
   "cell_type": "code",
   "execution_count": 174,
   "metadata": {},
   "outputs": [],
   "source": [
    "data4 = current_path + \"\\\\Materiales_Locales.xlsx\"\n",
    "data4excel = pd.read_excel(data4, sheet_name=\"ENTREGADO\", header=0)"
   ]
  },
  {
   "cell_type": "code",
   "execution_count": 175,
   "metadata": {},
   "outputs": [],
   "source": [
    "data5 = current_path + \"\\\\Materiales_Foraneos.xlsx\"\n",
    "data5excel = pd.read_excel(data5, sheet_name=\"MATRIZ FINAL\", header=1)"
   ]
  },
  {
   "cell_type": "code",
   "execution_count": 171,
   "metadata": {},
   "outputs": [
    {
     "name": "stdout",
     "output_type": "stream",
     "text": [
      "6042\n",
      "5271\n",
      "(6042, 7)\n",
      "(5271, 30)\n",
      "7\n",
      "30\n"
     ]
    }
   ],
   "source": [
    "print(len(data4excel['Inicio programado2']))\n",
    "print(len(data5excel['UBICACIÓN']))\n",
    "print(data4excel.shape)\n",
    "print(data5excel.shape)\n",
    "print(data4excel.shape[1])\n",
    "print(data5excel.shape[1])\n"
   ]
  },
  {
   "cell_type": "code",
   "execution_count": null,
   "metadata": {},
   "outputs": [],
   "source": [
    "\"\"\"rowlen = len(data4excel) - len(data5excel)\n",
    "print(rowlen)\n",
    "columnlen = data5excel.shape[1] - data4excel.shape[1]\n",
    "print(columnlen)\n",
    "columns = np.array(range(1,columnlen+1))\n",
    "print(columns)\n",
    "for i in range(0,rowlen):\n",
    "    data5excel = data5excel.append({'UBICACIÓN':0},ignore_index=True)\n",
    "\n",
    "ubcol = min(columns)\n",
    "for i in range(0,columnlen):\n",
    "    data4excel[i]\n",
    "print(data5excel['UBICACIÓN'])\"\"\""
   ]
  },
  {
   "cell_type": "code",
   "execution_count": 173,
   "metadata": {},
   "outputs": [
    {
     "data": {
      "text/plain": [
       "0       2020-03-05 00:00:00\n",
       "1       2020-04-08 00:00:00\n",
       "2       2020-04-13 00:00:00\n",
       "3       2020-09-09 00:00:00\n",
       "4       2020-09-10 00:00:00\n",
       "               ...         \n",
       "6037      GUIA # 4403021125\n",
       "6038      GUIA # 5440699353\n",
       "6039                novalue\n",
       "6040                novalue\n",
       "6041                novalue\n",
       "Name: Inicio programado2, Length: 6042, dtype: object"
      ]
     },
     "execution_count": 173,
     "metadata": {},
     "output_type": "execute_result"
    }
   ],
   "source": [
    "data4excel['Inicio programado2'].fillna(\"novalue\")"
   ]
  },
  {
   "cell_type": "code",
   "execution_count": null,
   "metadata": {},
   "outputs": [],
   "source": [
    "data4excel['Inicio programado2'].map(np.nan:)"
   ]
  },
  {
   "cell_type": "code",
   "execution_count": 172,
   "metadata": {},
   "outputs": [
    {
     "name": "stdout",
     "output_type": "stream",
     "text": [
      "Las columnas de frame 1 son Index(['Inicio_programado', 'Orden', 'Plan_Mtto', 'Responsable', 'Status',\n",
      "       'Descripción', 'Cliente', 'Cliente_Equipo', 'Número_de_serie', 'Equipo',\n",
      "       'Clase_de_orden', 'Fecha_Liberación', 'Fecha_creación', 'Material'],\n",
      "      dtype='object')\n",
      "Las columnas de frame 2 son Index(['TecID', 'Short name', 'Estatus', 'Typetec', 'City'], dtype='object')\n",
      "Las columnas de frame 3 son Index(['Equipo', 'Denominación de objeto técnico', 'Cliente actual',\n",
      "       'Denominación de la ubicación técnica', 'Status del sistema',\n",
      "       'Número de serie', 'TIENE POLITICA', 'TECH ASIGNADO AL EQUIPO',\n",
      "       'gestora archivo anahi ', 'reportes archivo anahi ', 'Gestora',\n",
      "       'Administradora Reportes', 'Tipo Equipo', 'Frecuencia',\n",
      "       'Requiere Acceso', 'Tiempo aviso previo', 'Dia o fecha del Serv.',\n",
      "       'Horario', 'Curso', 'DC-3', 'Examenes Covid, antidoping, etc',\n",
      "       'Tiempo valido de prueba', 'Tecnicos para servicio',\n",
      "       'Requerimientos adicionales', 'Correo solicitud acceso',\n",
      "       'FACTURA FIRMADA', 'FOTOS', 'REPORTE ESPECIAL', 'Incluye materiales',\n",
      "       'OC', 'FRECUENCIA DE OC', 'PREVENTIVOS', 'CORRECTIVOS'],\n",
      "      dtype='object')\n",
      "Las columnas de frame 4 son Index(['Orden', 'Inicio programado2', 'Fecha de salida', 'Texto breve',\n",
      "       'Comentario', 'Material Separado', 'Columna1'],\n",
      "      dtype='object')\n",
      "Las columnas de frame 5 son Index(['Orden', 'ESTATUS OT', 'Unnamed: 2', 'FECHA', 'CLIENTE', 'CENTRO',\n",
      "       'ALMAC', 'ALINEADO AL PLAN', 'PROCEDENCIA', 'FECHA AGREGADO',\n",
      "       'DIAS MODIFICADOS', 'UBICACIÓN', 'ESTATUS COMPRA', 'PROVEEDOR',\n",
      "       'FECHA DE RECOLECCION ', 'FECHA CONFIRMACION', 'ESTATUS ALMACEN',\n",
      "       'ENTREGADO A:', 'Unnamed: 18', 'Unnamed: 19', 'Unnamed: 20',\n",
      "       'Unnamed: 21', 'Unnamed: 22', 'Unnamed: 23', 'Unnamed: 24',\n",
      "       'Unnamed: 25', 'Unnamed: 26', 'Unnamed: 27', 'Unnamed: 28',\n",
      "       'Unnamed: 29'],\n",
      "      dtype='object')\n"
     ]
    }
   ],
   "source": [
    "print('Las columnas de frame 1 son', data1excel.columns)\n",
    "print('Las columnas de frame 2 son', data2excel.columns)\n",
    "print('Las columnas de frame 3 son', data3excel.columns)\n",
    "print('Las columnas de frame 4 son', data4excel.columns)\n",
    "print('Las columnas de frame 5 son', data5excel.columns)"
   ]
  },
  {
   "cell_type": "code",
   "execution_count": null,
   "metadata": {},
   "outputs": [],
   "source": [
    "result_df = pd.merge(left = data1excel, right = data2excel,left_on=\"Responsable\",right_on=\"TecID\",how=\"left\").drop(columns=['TecID'])"
   ]
  },
  {
   "cell_type": "code",
   "execution_count": null,
   "metadata": {},
   "outputs": [],
   "source": [
    "result_df = pd.merge(result_df,data3excel[['Equipo','TIENE POLITICA', 'TECH ASIGNADO AL EQUIPO',\n",
    "       'gestora archivo anahi ', 'reportes archivo anahi ', 'Gestora',\n",
    "       'Administradora Reportes', 'Tipo Equipo', 'Frecuencia',\n",
    "       'Requiere Acceso', 'Tiempo aviso previo', 'Dia o fecha del Serv.',\n",
    "       'Horario', 'Curso', 'DC-3', 'Examenes Covid, antidoping, etc',\n",
    "       'Tiempo valido de prueba', 'Tecnicos para servicio',\n",
    "       'Requerimientos adicionales', 'Correo solicitud acceso',\n",
    "       'FACTURA FIRMADA', 'FOTOS', 'REPORTE ESPECIAL', 'Incluye materiales',\n",
    "       'OC', 'FRECUENCIA DE OC', 'PREVENTIVOS', 'CORRECTIVOS']],on=\"Equipo\",how=\"left\")"
   ]
  },
  {
   "cell_type": "code",
   "execution_count": null,
   "metadata": {},
   "outputs": [],
   "source": [
    "result_df = pd.merge(result_df,data4excel[['Orden', 'Inicio programado2', 'Fecha de salida',\n",
    "       'Comentario', 'Material Separado', 'Columna1']], on=\"Orden\",how= \"left\")"
   ]
  },
  {
   "cell_type": "code",
   "execution_count": null,
   "metadata": {},
   "outputs": [],
   "source": [
    "print(result_df.loc[0])"
   ]
  },
  {
   "cell_type": "code",
   "execution_count": null,
   "metadata": {},
   "outputs": [],
   "source": [
    "print(result_df.columns)\n",
    "print(data1excel.shape[0])\n",
    "print(result_df.shape[0])\n",
    "print(result_df.head())\n"
   ]
  },
  {
   "cell_type": "code",
   "execution_count": null,
   "metadata": {},
   "outputs": [],
   "source": [
    "os.remove(current_path + \"\\\\Main.xlsx\")\n",
    "path = current_path + \"\\\\Main.xlsx\"\n",
    "result_df.to_excel(path, index=False,header=True)"
   ]
  }
 ],
 "metadata": {
  "kernelspec": {
   "display_name": "Python 3.10.8 ('env': venv)",
   "language": "python",
   "name": "python3"
  },
  "language_info": {
   "codemirror_mode": {
    "name": "ipython",
    "version": 3
   },
   "file_extension": ".py",
   "mimetype": "text/x-python",
   "name": "python",
   "nbconvert_exporter": "python",
   "pygments_lexer": "ipython3",
   "version": "3.10.8"
  },
  "orig_nbformat": 4,
  "vscode": {
   "interpreter": {
    "hash": "10273d3f62bdb45e1edca8702f86c58a50573d072f6bdf7b0b007f9c0756c753"
   }
  }
 },
 "nbformat": 4,
 "nbformat_minor": 2
}

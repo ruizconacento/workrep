{
 "cells": [
  {
   "cell_type": "code",
   "execution_count": 1,
   "metadata": {},
   "outputs": [],
   "source": [
    "#import libraries used into\n",
    "from xml.etree.ElementTree import tostring\n",
    "from datetime import datetime\n",
    "import pandas as pd\n",
    "import os"
   ]
  },
  {
   "cell_type": "code",
   "execution_count": 2,
   "metadata": {},
   "outputs": [],
   "source": [
    "##First, the vars was created\n",
    "fileam = \"OT \" + datetime.now().strftime('%d.%m.%Y') + \".XLSX\"\n",
    "filepm = \"OT\" + datetime.now().strftime('%d.%m.%Y') + \"5 P.M.XLSX\"\n",
    "main_path = \"C:\\\\Users\\\\mruiz\\\\Documents\\\\DB OT\" \n",
    "current_month = datetime.now().strftime('%B')\n",
    "main_path_ = os.listdir(main_path)"
   ]
  },
  {
   "cell_type": "code",
   "execution_count": 4,
   "metadata": {},
   "outputs": [
    {
     "name": "stdout",
     "output_type": "stream",
     "text": [
      "Los datos del día de hoy son :  OT 11.10.2022.XLSX\n"
     ]
    }
   ],
   "source": [
    "for item in main_path_:\n",
    "    if item == fileam:\n",
    "        item1 = item\n",
    "        print(\"Los datos del día de hoy son : \", item1)\n",
    "        break\n",
    "\n",
    "data1 = main_path + \"\\\\\" + item1\n",
    "data1excel = pd.read_excel(data1, sheet_name=\"Sheet1\", header=0)"
   ]
  },
  {
   "cell_type": "markdown",
   "metadata": {},
   "source": [
    "Para convertir y eliminar el archivo creado desde to_csv usar el siguiente codigo: \n",
    "for item in main_path_:\n",
    "    if item == file:\n",
    "        item1 = item\n",
    "        print(\"Los datos del día de hoy son : \", item1)\n",
    "        break\n",
    "\"\"\"try:\n",
    "    os.remove(main_path + \"\\\\daily_data.csv\")\n",
    "except OSError as e:\n",
    "    print(f\"Error:{ e.strerror}\")\"\"\"\n",
    "\n",
    "data1 = main_path + \"\\\\\" + item1\n",
    "data1excel = pd.read_excel(data1, sheet_name=\"Sheet1\", header=0)\n",
    "data1excel_ = pd.DataFrame(data1excel)\n",
    "\"\"\"path_csv = main_path + \"\\\\daily_data.csv\"\n",
    "data1csv = data1excel_.to_csv(path_csv)\n",
    "data1csv_ = pd.read_csv(path_csv)\"\"\""
   ]
  },
  {
   "cell_type": "code",
   "execution_count": 6,
   "metadata": {},
   "outputs": [
    {
     "name": "stdout",
     "output_type": "stream",
     "text": [
      "  Inicio programado    Orden  Plan mant.preventivo Pto.tbjo.responsable  \\\n",
      "0        2024-07-26  4096274                8396.0             TECSER24   \n",
      "1        2023-12-12  4093006                 626.0             TECSER17   \n",
      "2        2023-10-12  4093001                 439.0              TECSER6   \n",
      "3        2023-09-13  4093222                1522.0              TECSER2   \n",
      "4        2023-09-11  4093049                 653.0              TECSER6   \n",
      "\n",
      "  Status del sistema                               Texto breve   Cliente  \\\n",
      "0          BLOQUEADA                SEGUIDORES DE LA CRUZ 10KW  303371.0   \n",
      "1            ABIERTA  HD MIGUEL ALEMAN 8789 PTA 350 KW ACUMULA  300105.0   \n",
      "2            ABIERTA  HD PIEDRAS NEGRAS 8638 PTA 350 KW ACUMUL  300105.0   \n",
      "3            ABIERTA  HD INTERLOMAS 8762 PTA 250 KW ACUMULADOR  300105.0   \n",
      "4            ABIERTA    HD SAN PEDRO 8652 PTA 350KW ACUMULADOR  300105.0   \n",
      "\n",
      "     Denominación de objeto técnico Número de serie   Equipo Clase de orden  \n",
      "0        SEGUIDORES DE LA CRUZ 10KW             NaN  12923.0           ZPM2  \n",
      "1   HD MIGUEL ALEMAN 8789 PTA 350KW        43203341  10373.0           ZPM2  \n",
      "2  HD PIEDRAS NEGRAS 8638 PTA 350KW      2012658048  10270.0           ZPM2  \n",
      "3      HD INTERLOMAS 8762 PTA 250KW           14808  10935.0           ZPM2  \n",
      "4       HD SAN PEDRO 8652 PTA 350KW         UI4182W  10388.0           ZPM2  \n"
     ]
    }
   ],
   "source": [
    "print(data1excel.head())"
   ]
  },
  {
   "cell_type": "code",
   "execution_count": 7,
   "metadata": {},
   "outputs": [
    {
     "name": "stdout",
     "output_type": "stream",
     "text": [
      "La base de datos de nombres es :  Master_OT.xlsx\n"
     ]
    }
   ],
   "source": [
    "for item in main_path_:\n",
    "    if item == 'Master_OT.xlsx':\n",
    "        item2 = item\n",
    "        print(\"La base de datos de nombres es : \", item2)\n",
    "        break\n",
    "\n",
    "data2 = main_path + \"\\\\\" + item2\n",
    "data2excel = pd.read_excel(data2, sheet_name=\"Names\", header=0)"
   ]
  },
  {
   "cell_type": "code",
   "execution_count": 8,
   "metadata": {},
   "outputs": [
    {
     "name": "stdout",
     "output_type": "stream",
     "text": [
      "      TecID          Short name  Estatus     Typetec       City\n",
      "0   TECSER1     Jonatan Ledesma  FORANEO     Foraneo     Juarez\n",
      "1  TECSER10      Jonathan Tovar    LOCAL  Correctivo  Monterrey\n",
      "2  TECSER11  Victorio Rodriguez    LOCAL       Apoyo  Monterrey\n",
      "3  TECSER13       Alan Resendiz    LOCAL  Correctivo  Monterrey\n",
      "4  TECSER14       Alberto Gamez    LOCAL  Correctivo  Monterrey\n"
     ]
    }
   ],
   "source": [
    "print(data2excel.head())"
   ]
  },
  {
   "cell_type": "code",
   "execution_count": 9,
   "metadata": {},
   "outputs": [],
   "source": [
    "result_df = pd.merge(data1excel,data2excel,left_on=\"Pto.tbjo.responsable\",right_on=\"TecID\",how=\"left\")"
   ]
  },
  {
   "cell_type": "code",
   "execution_count": 18,
   "metadata": {},
   "outputs": [
    {
     "name": "stdout",
     "output_type": "stream",
     "text": [
      "Index(['Inicio programado', 'Orden', 'Plan mant.preventivo',\n",
      "       'Pto.tbjo.responsable', 'Status del sistema', 'Texto breve', 'Cliente',\n",
      "       'Denominación de objeto técnico', 'Número de serie', 'Equipo',\n",
      "       'Clase de orden', 'TecID', 'Short name', 'Estatus', 'Typetec', 'City'],\n",
      "      dtype='object')\n"
     ]
    }
   ],
   "source": [
    "print(result_df.columns)\n",
    "result_df['Inicio programado']=pd.to_datetime(result_df['Inicio programado'].astype(str), format='%Y/%m/%d')"
   ]
  },
  {
   "cell_type": "code",
   "execution_count": null,
   "metadata": {},
   "outputs": [],
   "source": [
    "print(result_df.iloc[0])"
   ]
  },
  {
   "cell_type": "code",
   "execution_count": 10,
   "metadata": {},
   "outputs": [
    {
     "name": "stdout",
     "output_type": "stream",
     "text": [
      "Index(['Inicio programado', 'Orden', 'Plan mant.preventivo',\n",
      "       'Pto.tbjo.responsable', 'Status del sistema', 'Texto breve', 'Cliente',\n",
      "       'Denominación de objeto técnico', 'Número de serie', 'Equipo',\n",
      "       'Clase de orden', 'TecID', 'Short name', 'Estatus', 'Typetec', 'City'],\n",
      "      dtype='object')\n",
      "39143\n",
      "39143\n",
      "  Inicio programado    Orden  Plan mant.preventivo Pto.tbjo.responsable  \\\n",
      "0        2024-07-26  4096274                8396.0             TECSER24   \n",
      "1        2023-12-12  4093006                 626.0             TECSER17   \n",
      "2        2023-10-12  4093001                 439.0              TECSER6   \n",
      "3        2023-09-13  4093222                1522.0              TECSER2   \n",
      "4        2023-09-11  4093049                 653.0              TECSER6   \n",
      "\n",
      "  Status del sistema                               Texto breve   Cliente  \\\n",
      "0          BLOQUEADA                SEGUIDORES DE LA CRUZ 10KW  303371.0   \n",
      "1            ABIERTA  HD MIGUEL ALEMAN 8789 PTA 350 KW ACUMULA  300105.0   \n",
      "2            ABIERTA  HD PIEDRAS NEGRAS 8638 PTA 350 KW ACUMUL  300105.0   \n",
      "3            ABIERTA  HD INTERLOMAS 8762 PTA 250 KW ACUMULADOR  300105.0   \n",
      "4            ABIERTA    HD SAN PEDRO 8652 PTA 350KW ACUMULADOR  300105.0   \n",
      "\n",
      "     Denominación de objeto técnico Número de serie   Equipo Clase de orden  \\\n",
      "0        SEGUIDORES DE LA CRUZ 10KW             NaN  12923.0           ZPM2   \n",
      "1   HD MIGUEL ALEMAN 8789 PTA 350KW        43203341  10373.0           ZPM2   \n",
      "2  HD PIEDRAS NEGRAS 8638 PTA 350KW      2012658048  10270.0           ZPM2   \n",
      "3      HD INTERLOMAS 8762 PTA 250KW           14808  10935.0           ZPM2   \n",
      "4       HD SAN PEDRO 8652 PTA 350KW         UI4182W  10388.0           ZPM2   \n",
      "\n",
      "      TecID         Short name  Estatus     Typetec       City  \n",
      "0  TECSER24  Antonio Dominguez  FORANEO     Foraneo    Reynosa  \n",
      "1  TECSER17  Alejandro Ramirez    LOCAL  Preventivo  Monterrey  \n",
      "2   TECSER6    Andres Arellano    LOCAL  Preventivo  Monterrey  \n",
      "3   TECSER2   Adrian Hernandez  FORANEO     Foraneo     Mexico  \n",
      "4   TECSER6    Andres Arellano    LOCAL  Preventivo  Monterrey  \n"
     ]
    }
   ],
   "source": [
    "print(result_df.columns)\n",
    "print(data1excel.shape[0])\n",
    "print(result_df.shape[0])\n",
    "print(result_df.head())\n"
   ]
  },
  {
   "cell_type": "code",
   "execution_count": 11,
   "metadata": {},
   "outputs": [],
   "source": [
    "path = main_path + \"\\\\main.xlsx\"\n",
    "result_df.to_excel(path, index=False,header=True)"
   ]
  }
 ],
 "metadata": {
  "kernelspec": {
   "display_name": "Python 3.10.7 64-bit (microsoft store)",
   "language": "python",
   "name": "python3"
  },
  "language_info": {
   "codemirror_mode": {
    "name": "ipython",
    "version": 3
   },
   "file_extension": ".py",
   "mimetype": "text/x-python",
   "name": "python",
   "nbconvert_exporter": "python",
   "pygments_lexer": "ipython3",
   "version": "3.10.7"
  },
  "orig_nbformat": 4,
  "vscode": {
   "interpreter": {
    "hash": "a586a87fa9461efa0664adbffed0c35ba73766ebd5c97abf5aabaa383b674146"
   }
  }
 },
 "nbformat": 4,
 "nbformat_minor": 2
}

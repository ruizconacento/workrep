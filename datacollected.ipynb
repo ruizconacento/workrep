{
 "cells": [
  {
   "cell_type": "code",
   "execution_count": 31,
   "metadata": {},
   "outputs": [],
   "source": [
    "#import libraries used into\n",
    "from xml.etree.ElementTree import tostring\n",
    "from datetime import datetime\n",
    "import pandas as pd\n",
    "import numpy as np\n",
    "import os"
   ]
  },
  {
   "cell_type": "code",
   "execution_count": 32,
   "metadata": {},
   "outputs": [],
   "source": [
    "##First, the vars was created\n",
    "fileam = \"OT \" + datetime.now().strftime('%d.%m.%Y') + \".XLSX\"\n",
    "filepm = \"OT\" + datetime.now().strftime('%d.%m.%Y') + \"5 P.M.XLSX\"\n",
    "main_path = \"C:\\\\Users\\\\mruiz\\\\Documents\\\\DB OT\" \n",
    "current_month = datetime.now().strftime('%B')\n",
    "main_path_ = os.listdir(main_path)"
   ]
  },
  {
   "cell_type": "code",
   "execution_count": 123,
   "metadata": {},
   "outputs": [],
   "source": [
    "for item in main_path_:\n",
    "    if item == filepm:\n",
    "        item1 = item\n",
    "        print(\"Los datos del día de hoy son : \", item1)\n",
    "        break\n",
    "\n",
    "data1 = main_path + \"\\\\\" + item1\n",
    "data1excel = pd.read_excel(data1, sheet_name=\"Sheet1\", header=0)"
   ]
  },
  {
   "cell_type": "code",
   "execution_count": 34,
   "metadata": {},
   "outputs": [],
   "source": [
    "data1excel = data1excel.assign(Material=0)"
   ]
  },
  {
   "cell_type": "code",
   "execution_count": null,
   "metadata": {},
   "outputs": [],
   "source": [
    "data1excel = data1excel.drop('Material',axis=1)"
   ]
  },
  {
   "cell_type": "code",
   "execution_count": null,
   "metadata": {},
   "outputs": [],
   "source": [
    "data1excel['Material'] = np.where((data1excel.Clase_de_orden =='ZMCP') & (data1excel.Texto_breve.__contains__('EMERG' or 'REVI')),'CONTIENE MATERIAL',\"DA\")"
   ]
  },
  {
   "cell_type": "code",
   "execution_count": 124,
   "metadata": {},
   "outputs": [],
   "source": [
    "data1excel.rename(columns={'Inicio programado' : 'Inicio_programado', 'Plan mant.preventivo' : 'Plan_Mtto',\n",
    "       'Pto.tbjo.responsable': 'Responsable', 'Status del sistema' : 'Status', 'Texto breve' : 'Descripción',\n",
    "       'Denominación de objeto técnico' : 'Cliente_Equipo', 'Número de serie': 'Número_de_serie', 'Clase de orden':'Clase_de_orden',\n",
    "       'Fe.liberación real':'Fecha_Liberación', 'Fecha inicio real':'Fecha_creación'}, inplace = True)"
   ]
  },
  {
   "cell_type": "code",
   "execution_count": 133,
   "metadata": {},
   "outputs": [
    {
     "name": "stdout",
     "output_type": "stream",
     "text": [
      "La base de datos de nombres es :  Master_OT.xlsx\n"
     ]
    }
   ],
   "source": [
    "for item in main_path_:\n",
    "    if item == 'Master_OT.xlsx':\n",
    "        item2 = item\n",
    "        print(\"La base de datos de nombres es : \", item2)\n",
    "        break\n",
    "\n",
    "data2 = main_path + \"\\\\\" + item2\n",
    "data2excel = pd.read_excel(data2, sheet_name=\"Names\", header=0)"
   ]
  },
  {
   "cell_type": "code",
   "execution_count": 126,
   "metadata": {},
   "outputs": [],
   "source": [
    "data3 = main_path + \"\\\\POLITICA.XLSX\"\n",
    "data3excel = pd.read_excel(data3, sheet_name=\"POLITICAS\", header=0)"
   ]
  },
  {
   "cell_type": "code",
   "execution_count": 127,
   "metadata": {},
   "outputs": [],
   "source": [
    "data4 = main_path + \"\\\\Materiales_Octubre.xlsx\"\n",
    "data4excel = pd.read_excel(data4, sheet_name=\"ENTREGADO\", header=0)"
   ]
  },
  {
   "cell_type": "code",
   "execution_count": 128,
   "metadata": {},
   "outputs": [
    {
     "name": "stdout",
     "output_type": "stream",
     "text": [
      "Las columnas de frame 1 son Index(['Inicio_programado', 'Orden', 'Plan_Mtto', 'Responsable', 'Status',\n",
      "       'Descripción', 'Cliente', 'Cliente_Equipo', 'Número_de_serie', 'Equipo',\n",
      "       'Clase_de_orden', 'Fecha_Liberación', 'Fecha_creación'],\n",
      "      dtype='object')\n",
      "Las columnas de frame 2 son Index(['TecID', 'Short name', 'Estatus', 'Typetec', 'City'], dtype='object')\n",
      "Las columnas de frame 3 son Index(['Equipo', 'Denominación de objeto técnico', 'Cliente actual',\n",
      "       'Denominación de la ubicación técnica', 'Status del sistema',\n",
      "       'Número de serie', 'TIENE POLITICA', 'TECH ASIGNADO AL EQUIPO',\n",
      "       'gestora archivo anahi ', 'reportes archivo anahi ', 'Gestora',\n",
      "       'Administradora Reportes', 'Tipo Equipo', 'Frecuencia',\n",
      "       'Requiere Acceso', 'Tiempo aviso previo', 'Dia o fecha del Serv.',\n",
      "       'Horario', 'Curso', 'DC-3', 'Examenes Covid, antidoping, etc',\n",
      "       'Tiempo valido de prueba', 'Tecnicos para servicio',\n",
      "       'Requerimientos adicionales', 'Correo solicitud acceso',\n",
      "       'FACTURA FIRMADA', 'FOTOS', 'REPORTE ESPECIAL', 'Incluye materiales',\n",
      "       'OC', 'FRECUENCIA DE OC', 'PREVENTIVOS', 'CORRECTIVOS'],\n",
      "      dtype='object')\n",
      "Las columnas de frame 4 son Index(['Orden', 'Inicio programado2', 'Fecha de salida', 'Texto breve',\n",
      "       'Comentario', 'Material Separado', 'Columna1'],\n",
      "      dtype='object')\n"
     ]
    }
   ],
   "source": [
    "print('Las columnas de frame 1 son', data1excel.columns)\n",
    "print('Las columnas de frame 2 son', data2excel.columns)\n",
    "print('Las columnas de frame 3 son', data3excel.columns)\n",
    "print('Las columnas de frame 4 son', data4excel.columns)"
   ]
  },
  {
   "cell_type": "code",
   "execution_count": 134,
   "metadata": {},
   "outputs": [],
   "source": [
    "result_df = pd.merge(left = data1excel, right = data2excel,left_on=\"Responsable\",right_on=\"TecID\",how=\"left\").drop(columns=['TecID'])"
   ]
  },
  {
   "cell_type": "code",
   "execution_count": 135,
   "metadata": {},
   "outputs": [],
   "source": [
    "result_df = pd.merge(result_df,data3excel[['Equipo','TIENE POLITICA', 'TECH ASIGNADO AL EQUIPO',\n",
    "       'gestora archivo anahi ', 'reportes archivo anahi ', 'Gestora',\n",
    "       'Administradora Reportes', 'Tipo Equipo', 'Frecuencia',\n",
    "       'Requiere Acceso', 'Tiempo aviso previo', 'Dia o fecha del Serv.',\n",
    "       'Horario', 'Curso', 'DC-3', 'Examenes Covid, antidoping, etc',\n",
    "       'Tiempo valido de prueba', 'Tecnicos para servicio',\n",
    "       'Requerimientos adicionales', 'Correo solicitud acceso',\n",
    "       'FACTURA FIRMADA', 'FOTOS', 'REPORTE ESPECIAL', 'Incluye materiales',\n",
    "       'OC', 'FRECUENCIA DE OC', 'PREVENTIVOS', 'CORRECTIVOS']],on=\"Equipo\",how=\"left\")"
   ]
  },
  {
   "cell_type": "code",
   "execution_count": 136,
   "metadata": {},
   "outputs": [],
   "source": [
    "result_df = pd.merge(result_df,data4excel[['Orden', 'Inicio programado2', 'Fecha de salida',\n",
    "       'Comentario', 'Material Separado', 'Columna1']], on=\"Orden\",how= \"left\")"
   ]
  },
  {
   "cell_type": "code",
   "execution_count": 132,
   "metadata": {},
   "outputs": [
    {
     "name": "stdout",
     "output_type": "stream",
     "text": [
      "Inicio_programado                         2024-07-26 00:00:00\n",
      "Orden                                                 4096274\n",
      "Plan_Mtto                                              8396.0\n",
      "Responsable                                          TECSER24\n",
      "Status                                              BLOQUEADA\n",
      "Descripción                        SEGUIDORES DE LA CRUZ 10KW\n",
      "Cliente                                              303371.0\n",
      "Cliente_Equipo                     SEGUIDORES DE LA CRUZ 10KW\n",
      "Número_de_serie                                           NaN\n",
      "Equipo                                                12923.0\n",
      "Clase_de_orden                                           ZPM2\n",
      "Fecha_Liberación                                          NaT\n",
      "Fecha_creación                                            NaT\n",
      "Short name                                  Antonio Dominguez\n",
      "Estatus                                               FORANEO\n",
      "Typetec                                               Foraneo\n",
      "City                                                  Reynosa\n",
      "TIENE POLITICA                                             NO\n",
      "TECH ASIGNADO AL EQUIPO                              TECSER24\n",
      "gestora archivo anahi                        Mayte S/CONTRATO\n",
      "reportes archivo anahi                       Karla S/CONTRATO\n",
      "Gestora                                            S/CONTRATO\n",
      "Administradora Reportes                                    NO\n",
      "Tipo Equipo                                            PLANTA\n",
      "Frecuencia                                                 NO\n",
      "Requiere Acceso                                            NO\n",
      "Tiempo aviso previo                                        NO\n",
      "Dia o fecha del Serv.                                      NO\n",
      "Horario                                                    NO\n",
      "Curso                                                      NO\n",
      "DC-3                                                       NO\n",
      "Examenes Covid, antidoping, etc                            NO\n",
      "Tiempo valido de prueba                                    NO\n",
      "Tecnicos para servicio                                    1.0\n",
      "Requerimientos adicionales                                 NO\n",
      "Correo solicitud acceso                                    NO\n",
      "FACTURA FIRMADA                                            NO\n",
      "FOTOS                                                      NO\n",
      "REPORTE ESPECIAL                                           NO\n",
      "Incluye materiales                                         NO\n",
      "OC                                                         NO\n",
      "FRECUENCIA DE OC                                           NO\n",
      "PREVENTIVOS                                                NO\n",
      "CORRECTIVOS                                                NO\n",
      "Inicio programado2                                        NaN\n",
      "Fecha de salida                                           NaN\n",
      "Comentario                                                NaN\n",
      "Material Separado                                         NaN\n",
      "Columna1                                                  NaN\n",
      "Name: 0, dtype: object\n"
     ]
    }
   ],
   "source": [
    "print(result_df.loc[0])"
   ]
  },
  {
   "cell_type": "code",
   "execution_count": 121,
   "metadata": {},
   "outputs": [
    {
     "name": "stdout",
     "output_type": "stream",
     "text": [
      "Index(['Inicio_programado', 'Orden', 'Plan_Mtto', 'Responsable', 'Status',\n",
      "       'Descripción', 'Cliente', 'Cliente_Equipo', 'Número_de_serie', 'Equipo',\n",
      "       'Clase_de_orden', 'Fecha_Liberación', 'Fecha_creación', 'Short name',\n",
      "       'Estatus', 'Typetec', 'City', 'TIENE POLITICA',\n",
      "       'TECH ASIGNADO AL EQUIPO', 'gestora archivo anahi ',\n",
      "       'reportes archivo anahi ', 'Gestora', 'Administradora Reportes',\n",
      "       'Tipo Equipo', 'Frecuencia', 'Requiere Acceso', 'Tiempo aviso previo',\n",
      "       'Dia o fecha del Serv.', 'Horario', 'Curso', 'DC-3',\n",
      "       'Examenes Covid, antidoping, etc', 'Tiempo valido de prueba',\n",
      "       'Tecnicos para servicio', 'Requerimientos adicionales',\n",
      "       'Correo solicitud acceso', 'FACTURA FIRMADA', 'FOTOS',\n",
      "       'REPORTE ESPECIAL', 'Incluye materiales', 'OC', 'FRECUENCIA DE OC',\n",
      "       'PREVENTIVOS', 'CORRECTIVOS', 'Inicio programado2', 'Fecha de salida',\n",
      "       'Comentario', 'Material Separado', 'Columna1'],\n",
      "      dtype='object')\n",
      "39488\n",
      "39494\n",
      "  Inicio_programado    Orden  Plan_Mtto Responsable     Status  \\\n",
      "0        2024-07-26  4096274     8396.0    TECSER24  BLOQUEADA   \n",
      "1        2023-12-12  4093006      626.0    TECSER17    ABIERTA   \n",
      "2        2023-10-12  4093001      439.0     TECSER6    ABIERTA   \n",
      "3        2023-09-13  4093222     1522.0     TECSER2    ABIERTA   \n",
      "4        2023-09-11  4093049      653.0     TECSER6    ABIERTA   \n",
      "\n",
      "                                Descripción   Cliente  \\\n",
      "0                SEGUIDORES DE LA CRUZ 10KW  303371.0   \n",
      "1  HD MIGUEL ALEMAN 8789 PTA 350 KW ACUMULA  300105.0   \n",
      "2  HD PIEDRAS NEGRAS 8638 PTA 350 KW ACUMUL  300105.0   \n",
      "3  HD INTERLOMAS 8762 PTA 250 KW ACUMULADOR  300105.0   \n",
      "4    HD SAN PEDRO 8652 PTA 350KW ACUMULADOR  300105.0   \n",
      "\n",
      "                     Cliente_Equipo Número_de_serie   Equipo  ...  \\\n",
      "0        SEGUIDORES DE LA CRUZ 10KW             NaN  12923.0  ...   \n",
      "1   HD MIGUEL ALEMAN 8789 PTA 350KW        43203341  10373.0  ...   \n",
      "2  HD PIEDRAS NEGRAS 8638 PTA 350KW      2012658048  10270.0  ...   \n",
      "3      HD INTERLOMAS 8762 PTA 250KW           14808  10935.0  ...   \n",
      "4       HD SAN PEDRO 8652 PTA 350KW         UI4182W  10388.0  ...   \n",
      "\n",
      "  Incluye materiales  OC FRECUENCIA DE OC                    PREVENTIVOS  \\\n",
      "0                 NO  NO               NO                             NO   \n",
      "1                 SI  SI          MENSUAL  REPORTE, HOJA DE PRESENTACION   \n",
      "2                 SI  NO               NO                             NO   \n",
      "3                 SI  NO               NO                             NO   \n",
      "4                 SI  NO               NO                             NO   \n",
      "\n",
      "  CORRECTIVOS Inicio programado2 Fecha de salida Comentario Material Separado  \\\n",
      "0          NO                NaN             NaN        NaN               NaN   \n",
      "1          OC                NaN             NaN        NaN               NaN   \n",
      "2          NO                NaN             NaN        NaN               NaN   \n",
      "3          NO                NaN             NaN        NaN               NaN   \n",
      "4          NO                NaN             NaN        NaN               NaN   \n",
      "\n",
      "  Columna1  \n",
      "0      NaN  \n",
      "1      NaN  \n",
      "2      NaN  \n",
      "3      NaN  \n",
      "4      NaN  \n",
      "\n",
      "[5 rows x 49 columns]\n"
     ]
    }
   ],
   "source": [
    "print(result_df.columns)\n",
    "print(data1excel.shape[0])\n",
    "print(result_df.shape[0])\n",
    "print(result_df.head())\n"
   ]
  },
  {
   "cell_type": "code",
   "execution_count": 137,
   "metadata": {},
   "outputs": [],
   "source": [
    "os.remove(main_path + \"\\\\main.xlsx\")\n",
    "path = main_path + \"\\\\main.xlsx\"\n",
    "result_df.to_excel(path, index=False,header=True)"
   ]
  }
 ],
 "metadata": {
  "kernelspec": {
   "display_name": "Python 3.10.7 64-bit (microsoft store)",
   "language": "python",
   "name": "python3"
  },
  "language_info": {
   "codemirror_mode": {
    "name": "ipython",
    "version": 3
   },
   "file_extension": ".py",
   "mimetype": "text/x-python",
   "name": "python",
   "nbconvert_exporter": "python",
   "pygments_lexer": "ipython3",
   "version": "3.10.8"
  },
  "orig_nbformat": 4,
  "vscode": {
   "interpreter": {
    "hash": "a586a87fa9461efa0664adbffed0c35ba73766ebd5c97abf5aabaa383b674146"
   }
  }
 },
 "nbformat": 4,
 "nbformat_minor": 2
}

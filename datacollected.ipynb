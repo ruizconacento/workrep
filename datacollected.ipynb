{
 "cells": [
  {
   "cell_type": "code",
   "execution_count": 1,
   "metadata": {},
   "outputs": [],
   "source": [
    "#import libraries used into\n",
    "from xml.etree.ElementTree import tostring\n",
    "from datetime import datetime\n",
    "import pandas as pd\n",
    "import numpy as np\n",
    "import os"
   ]
  },
  {
   "cell_type": "code",
   "execution_count": 2,
   "metadata": {},
   "outputs": [],
   "source": [
    "##First, the vars was created\n",
    "fileam = \"OT \" + datetime.now().strftime('%d.%m.%Y') + \".XLSX\"\n",
    "filepm = \"OT\" + datetime.now().strftime('%d.%m.%Y') + \"5 P.M.XLSX\"\n",
    "main_path = \"C:\\\\Users\\\\mruiz\\\\Documents\\\\DB OT\" \n",
    "current_month = datetime.now().strftime('%B')\n",
    "main_path_ = os.listdir(main_path)"
   ]
  },
  {
   "cell_type": "code",
   "execution_count": 3,
   "metadata": {},
   "outputs": [
    {
     "name": "stdout",
     "output_type": "stream",
     "text": [
      "Los datos del día de hoy son :  OT 12.10.2022.XLSX\n"
     ]
    }
   ],
   "source": [
    "for item in main_path_:\n",
    "    if item == fileam:\n",
    "        item1 = item\n",
    "        print(\"Los datos del día de hoy son : \", item1)\n",
    "        break\n",
    "\n",
    "data1 = main_path + \"\\\\\" + item1\n",
    "data1excel = pd.read_excel(data1, sheet_name=\"Sheet1\", header=0)"
   ]
  },
  {
   "cell_type": "code",
   "execution_count": 4,
   "metadata": {},
   "outputs": [],
   "source": [
    "data1excel = data1excel.assign(Material=0)"
   ]
  },
  {
   "cell_type": "code",
   "execution_count": 13,
   "metadata": {},
   "outputs": [],
   "source": [
    "data1excel = data1excel.drop('Material',axis=1)"
   ]
  },
  {
   "cell_type": "markdown",
   "metadata": {},
   "source": [
    "Para convertir y eliminar el archivo creado desde to_csv usar el siguiente codigo: \n",
    "for item in main_path_:\n",
    "    if item == file:\n",
    "        item1 = item\n",
    "        print(\"Los datos del día de hoy son : \", item1)\n",
    "        break\n",
    "\"\"\"try:\n",
    "    os.remove(main_path + \"\\\\daily_data.csv\")\n",
    "except OSError as e:\n",
    "    print(f\"Error:{ e.strerror}\")\"\"\"\n",
    "\n",
    "data1 = main_path + \"\\\\\" + item1\n",
    "data1excel = pd.read_excel(data1, sheet_name=\"Sheet1\", header=0)\n",
    "data1excel_ = pd.DataFrame(data1excel)\n",
    "\"\"\"path_csv = main_path + \"\\\\daily_data.csv\"\n",
    "data1csv = data1excel_.to_csv(path_csv)\n",
    "data1csv_ = pd.read_csv(path_csv)\"\"\""
   ]
  },
  {
   "cell_type": "code",
   "execution_count": 122,
   "metadata": {},
   "outputs": [],
   "source": [
    "data1excel['Material'] = np.where((data1excel.Clase_de_orden =='ZMCP') & (data1excel.Texto_breve.__contains__('EMERG' or 'REVI')),'CONTIENE MATERIAL',\"DA\")"
   ]
  },
  {
   "cell_type": "code",
   "execution_count": 78,
   "metadata": {},
   "outputs": [
    {
     "name": "stdout",
     "output_type": "stream",
     "text": [
      "  Inicio_programado    Orden  Plan_mtto_preventivo Pto_tbjo_responsable  \\\n",
      "0        2024-07-26  4096274                8396.0             TECSER24   \n",
      "1        2023-12-12  4093006                 626.0             TECSER17   \n",
      "2        2023-10-12  4093001                 439.0              TECSER6   \n",
      "3        2023-09-13  4093222                1522.0              TECSER2   \n",
      "4        2023-09-11  4093049                 653.0              TECSER6   \n",
      "\n",
      "  Status_del_sistema                               Texto_breve   Cliente  \\\n",
      "0          BLOQUEADA                SEGUIDORES DE LA CRUZ 10KW  303371.0   \n",
      "1            ABIERTA  HD MIGUEL ALEMAN 8789 PTA 350 KW ACUMULA  300105.0   \n",
      "2            ABIERTA  HD PIEDRAS NEGRAS 8638 PTA 350 KW ACUMUL  300105.0   \n",
      "3            ABIERTA  HD INTERLOMAS 8762 PTA 250 KW ACUMULADOR  300105.0   \n",
      "4            ABIERTA    HD SAN PEDRO 8652 PTA 350KW ACUMULADOR  300105.0   \n",
      "\n",
      "     Denominación_de_objeto_técnico Número_de_serie   Equipo Clase_de_orden  \\\n",
      "0        SEGUIDORES DE LA CRUZ 10KW             NaN  12923.0           ZPM2   \n",
      "1   HD MIGUEL ALEMAN 8789 PTA 350KW        43203341  10373.0           ZPM2   \n",
      "2  HD PIEDRAS NEGRAS 8638 PTA 350KW      2012658048  10270.0           ZPM2   \n",
      "3      HD INTERLOMAS 8762 PTA 250KW           14808  10935.0           ZPM2   \n",
      "4       HD SAN PEDRO 8652 PTA 350KW         UI4182W  10388.0           ZPM2   \n",
      "\n",
      "            Material  \n",
      "0  CONTIENE MATERIAL  \n",
      "1  CONTIENE MATERIAL  \n",
      "2  CONTIENE MATERIAL  \n",
      "3  CONTIENE MATERIAL  \n",
      "4  CONTIENE MATERIAL  \n",
      "Index(['Inicio_programado', 'Orden', 'Plan_mtto_preventivo',\n",
      "       'Pto_tbjo_responsable', 'Status_del_sistema', 'Texto_breve', 'Cliente',\n",
      "       'Denominación_de_objeto_técnico', 'Número_de_serie', 'Equipo',\n",
      "       'Clase_de_orden', 'Material'],\n",
      "      dtype='object')\n"
     ]
    }
   ],
   "source": [
    "print(data1excel.head())\n",
    "print(data1excel.columns)"
   ]
  },
  {
   "cell_type": "code",
   "execution_count": 80,
   "metadata": {},
   "outputs": [
    {
     "name": "stdout",
     "output_type": "stream",
     "text": [
      "La base de datos de nombres es :  Master_OT.xlsx\n"
     ]
    }
   ],
   "source": [
    "for item in main_path_:\n",
    "    if item == 'Master_OT.xlsx':\n",
    "        item2 = item\n",
    "        print(\"La base de datos de nombres es : \", item2)\n",
    "        break\n",
    "\n",
    "data2 = main_path + \"\\\\\" + item2\n",
    "data2excel = pd.read_excel(data2, sheet_name=\"Names\", header=0)"
   ]
  },
  {
   "cell_type": "code",
   "execution_count": 113,
   "metadata": {},
   "outputs": [],
   "source": [
    "data3 = main_path + \"\\\\POLITICA.XLSX\"\n",
    "data3excel = pd.read_excel(data3, sheet_name=\"POLITICAS\", header=0)"
   ]
  },
  {
   "cell_type": "code",
   "execution_count": 114,
   "metadata": {},
   "outputs": [
    {
     "name": "stdout",
     "output_type": "stream",
     "text": [
      "      TecID          Short name  Estatus     Typetec       City\n",
      "0   TECSER1     Jonatan Ledesma  FORANEO     Foraneo     Juarez\n",
      "1  TECSER10      Jonathan Tovar    LOCAL  Correctivo  Monterrey\n",
      "2  TECSER11  Victorio Rodriguez    LOCAL       Apoyo  Monterrey\n",
      "3  TECSER13       Alan Resendiz    LOCAL  Correctivo  Monterrey\n",
      "4  TECSER14       Alberto Gamez    LOCAL  Correctivo  Monterrey\n"
     ]
    }
   ],
   "source": [
    "print(data2excel.head())"
   ]
  },
  {
   "cell_type": "code",
   "execution_count": 123,
   "metadata": {},
   "outputs": [],
   "source": [
    "result_df = pd.merge(data1excel,data2excel,left_on=\"Pto_tbjo_responsable\",right_on=\"TecID\",how=\"left\")"
   ]
  },
  {
   "cell_type": "code",
   "execution_count": 124,
   "metadata": {},
   "outputs": [],
   "source": [
    "result_df = pd.merge(result_df,data3excel,on=\"Equipo\",how=\"left\")"
   ]
  },
  {
   "cell_type": "code",
   "execution_count": 86,
   "metadata": {},
   "outputs": [
    {
     "name": "stdout",
     "output_type": "stream",
     "text": [
      "Inicio_programado                                          2024-07-26 00:00:00\n",
      "Orden                                                                  4096274\n",
      "Plan_mtto_preventivo                                                    8396.0\n",
      "Pto_tbjo_responsable                                                  TECSER24\n",
      "Status_del_sistema                                                   BLOQUEADA\n",
      "Texto_breve                                         SEGUIDORES DE LA CRUZ 10KW\n",
      "Cliente                                                               303371.0\n",
      "Denominación_de_objeto_técnico                      SEGUIDORES DE LA CRUZ 10KW\n",
      "Número_de_serie                                                            NaN\n",
      "Equipo                                                                 12923.0\n",
      "Clase_de_orden                                                            ZPM2\n",
      "Material                                                     CONTIENE MATERIAL\n",
      "TecID                                                                 TECSER24\n",
      "Short name                                                   Antonio Dominguez\n",
      "Estatus                                                                FORANEO\n",
      "Typetec                                                                Foraneo\n",
      "City                                                                   Reynosa\n",
      "Denominación de objeto técnico          ARRANQUE SERV ELECT IND HERRADURA 10KW\n",
      "Cliente actual                                                          303073\n",
      "Denominación de la ubicación técnica    ARRANQUE SERV ELECT IND HERRADURA 10KW\n",
      "Status del sistema                                                    CONTRATO\n",
      "Número de serie                                                            NaN\n",
      "TIENE POLITICA                                                              NO\n",
      "TECH ASIGNADO AL EQUIPO                                               TECSER24\n",
      "gestora archivo anahi                                         Mayte S/CONTRATO\n",
      "reportes archivo anahi                                        Karla S/CONTRATO\n",
      "Gestora                                                             S/CONTRATO\n",
      "Administradora Reportes                                                     NO\n",
      "Tipo Equipo                                                             PLANTA\n",
      "Frecuencia                                                                  NO\n",
      "Requiere Acceso                                                             NO\n",
      "Tiempo aviso previo                                                         NO\n",
      "Dia o fecha del Serv.                                                       NO\n",
      "Horario                                                                     NO\n",
      "Curso                                                                       NO\n",
      "DC-3                                                                        NO\n",
      "Examenes Covid, antidoping, etc                                             NO\n",
      "Tiempo valido de prueba                                                     NO\n",
      "Tecnicos para servicio                                                     1.0\n",
      "Requerimientos adicionales                                                  NO\n",
      "Correo solicitud acceso                                                     NO\n",
      "FACTURA FIRMADA                                                             NO\n",
      "FOTOS                                                                       NO\n",
      "REPORTE ESPECIAL                                                            NO\n",
      "Incluye materiales                                                          NO\n",
      "OC                                                                          NO\n",
      "FRECUENCIA DE OC                                                            NO\n",
      "PREVENTIVOS                                                                 NO\n",
      "CORRECTIVOS                                                                 NO\n",
      "Name: 0, dtype: object\n"
     ]
    }
   ],
   "source": [
    "print(result_df.loc[0])"
   ]
  },
  {
   "cell_type": "code",
   "execution_count": 87,
   "metadata": {},
   "outputs": [
    {
     "name": "stdout",
     "output_type": "stream",
     "text": [
      "Index(['Inicio_programado', 'Orden', 'Plan_mtto_preventivo',\n",
      "       'Pto_tbjo_responsable', 'Status_del_sistema', 'Texto_breve', 'Cliente',\n",
      "       'Denominación_de_objeto_técnico', 'Número_de_serie', 'Equipo',\n",
      "       'Clase_de_orden', 'Material', 'TecID', 'Short name', 'Estatus',\n",
      "       'Typetec', 'City', 'Denominación de objeto técnico', 'Cliente actual',\n",
      "       'Denominación de la ubicación técnica', 'Status del sistema',\n",
      "       'Número de serie', 'TIENE POLITICA', 'TECH ASIGNADO AL EQUIPO',\n",
      "       'gestora archivo anahi ', 'reportes archivo anahi ', 'Gestora',\n",
      "       'Administradora Reportes', 'Tipo Equipo', 'Frecuencia',\n",
      "       'Requiere Acceso', 'Tiempo aviso previo', 'Dia o fecha del Serv.',\n",
      "       'Horario', 'Curso', 'DC-3', 'Examenes Covid, antidoping, etc',\n",
      "       'Tiempo valido de prueba', 'Tecnicos para servicio',\n",
      "       'Requerimientos adicionales', 'Correo solicitud acceso',\n",
      "       'FACTURA FIRMADA', 'FOTOS', 'REPORTE ESPECIAL', 'Incluye materiales',\n",
      "       'OC', 'FRECUENCIA DE OC', 'PREVENTIVOS', 'CORRECTIVOS'],\n",
      "      dtype='object')\n",
      "39174\n",
      "39174\n",
      "  Inicio_programado    Orden  Plan_mtto_preventivo Pto_tbjo_responsable  \\\n",
      "0        2024-07-26  4096274                8396.0             TECSER24   \n",
      "1        2023-12-12  4093006                 626.0             TECSER17   \n",
      "2        2023-10-12  4093001                 439.0              TECSER6   \n",
      "3        2023-09-13  4093222                1522.0              TECSER2   \n",
      "4        2023-09-11  4093049                 653.0              TECSER6   \n",
      "\n",
      "  Status_del_sistema                               Texto_breve   Cliente  \\\n",
      "0          BLOQUEADA                SEGUIDORES DE LA CRUZ 10KW  303371.0   \n",
      "1            ABIERTA  HD MIGUEL ALEMAN 8789 PTA 350 KW ACUMULA  300105.0   \n",
      "2            ABIERTA  HD PIEDRAS NEGRAS 8638 PTA 350 KW ACUMUL  300105.0   \n",
      "3            ABIERTA  HD INTERLOMAS 8762 PTA 250 KW ACUMULADOR  300105.0   \n",
      "4            ABIERTA    HD SAN PEDRO 8652 PTA 350KW ACUMULADOR  300105.0   \n",
      "\n",
      "     Denominación_de_objeto_técnico Número_de_serie   Equipo  ...  \\\n",
      "0        SEGUIDORES DE LA CRUZ 10KW             NaN  12923.0  ...   \n",
      "1   HD MIGUEL ALEMAN 8789 PTA 350KW        43203341  10373.0  ...   \n",
      "2  HD PIEDRAS NEGRAS 8638 PTA 350KW      2012658048  10270.0  ...   \n",
      "3      HD INTERLOMAS 8762 PTA 250KW           14808  10935.0  ...   \n",
      "4       HD SAN PEDRO 8652 PTA 350KW         UI4182W  10388.0  ...   \n",
      "\n",
      "                          Requerimientos adicionales Correo solicitud acceso  \\\n",
      "0                                                 NO                      NO   \n",
      "1  * se envia correo los jueves para acceso de la...                      NO   \n",
      "2  * se envia correo los jueves para acceso de la...                      NO   \n",
      "3  * se envia correo los jueves para acceso de la...                      NO   \n",
      "4  * se envia correo los jueves para acceso de la...                      NO   \n",
      "\n",
      "  FACTURA FIRMADA FOTOS REPORTE ESPECIAL Incluye materiales  OC  \\\n",
      "0              NO    NO               NO                 NO  NO   \n",
      "1              NO    NO               NO                 SI  SI   \n",
      "2              NO    NO               NO                 SI  NO   \n",
      "3              NO    NO               NO                 SI  NO   \n",
      "4              NO    NO               NO                 SI  NO   \n",
      "\n",
      "  FRECUENCIA DE OC                    PREVENTIVOS CORRECTIVOS  \n",
      "0               NO                             NO          NO  \n",
      "1          MENSUAL  REPORTE, HOJA DE PRESENTACION          OC  \n",
      "2               NO                             NO          NO  \n",
      "3               NO                             NO          NO  \n",
      "4               NO                             NO          NO  \n",
      "\n",
      "[5 rows x 49 columns]\n"
     ]
    }
   ],
   "source": [
    "print(result_df.columns)\n",
    "print(data1excel.shape[0])\n",
    "print(result_df.shape[0])\n",
    "print(result_df.head())\n"
   ]
  },
  {
   "cell_type": "code",
   "execution_count": 125,
   "metadata": {},
   "outputs": [],
   "source": [
    "os.remove(main_path + \"\\\\main.xlsx\")\n",
    "path = main_path + \"\\\\main.xlsx\"\n",
    "result_df.to_excel(path, index=False,header=True)"
   ]
  }
 ],
 "metadata": {
  "kernelspec": {
   "display_name": "Python 3.10.7 64-bit (microsoft store)",
   "language": "python",
   "name": "python3"
  },
  "language_info": {
   "codemirror_mode": {
    "name": "ipython",
    "version": 3
   },
   "file_extension": ".py",
   "mimetype": "text/x-python",
   "name": "python",
   "nbconvert_exporter": "python",
   "pygments_lexer": "ipython3",
   "version": "3.10.7"
  },
  "orig_nbformat": 4,
  "vscode": {
   "interpreter": {
    "hash": "a586a87fa9461efa0664adbffed0c35ba73766ebd5c97abf5aabaa383b674146"
   }
  }
 },
 "nbformat": 4,
 "nbformat_minor": 2
}
